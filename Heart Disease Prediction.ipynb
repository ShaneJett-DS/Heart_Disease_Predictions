{
 "cells": [
  {
   "cell_type": "markdown",
   "id": "0e6e63b2",
   "metadata": {},
   "source": [
    "# Group Project: Heart Disease Prediction with Logistic Regression"
   ]
  },
  {
   "cell_type": "code",
   "execution_count": 1,
   "id": "789d7613",
   "metadata": {},
   "outputs": [],
   "source": [
    "import pandas as pd"
   ]
  },
  {
   "cell_type": "code",
   "execution_count": 2,
   "id": "2a441ddc",
   "metadata": {},
   "outputs": [
    {
     "data": {
      "text/html": [
       "<div>\n",
       "<style scoped>\n",
       "    .dataframe tbody tr th:only-of-type {\n",
       "        vertical-align: middle;\n",
       "    }\n",
       "\n",
       "    .dataframe tbody tr th {\n",
       "        vertical-align: top;\n",
       "    }\n",
       "\n",
       "    .dataframe thead th {\n",
       "        text-align: right;\n",
       "    }\n",
       "</style>\n",
       "<table border=\"1\" class=\"dataframe\">\n",
       "  <thead>\n",
       "    <tr style=\"text-align: right;\">\n",
       "      <th></th>\n",
       "      <th>HeartDisease</th>\n",
       "      <th>BMI</th>\n",
       "      <th>Smoking</th>\n",
       "      <th>AlcoholDrinking</th>\n",
       "      <th>Stroke</th>\n",
       "      <th>PhysicalHealth</th>\n",
       "      <th>MentalHealth</th>\n",
       "      <th>DiffWalking</th>\n",
       "      <th>Sex</th>\n",
       "      <th>AgeCategory</th>\n",
       "      <th>Race</th>\n",
       "      <th>Diabetic</th>\n",
       "      <th>PhysicalActivity</th>\n",
       "      <th>GenHealth</th>\n",
       "      <th>SleepTime</th>\n",
       "      <th>Asthma</th>\n",
       "      <th>KidneyDisease</th>\n",
       "      <th>SkinCancer</th>\n",
       "    </tr>\n",
       "  </thead>\n",
       "  <tbody>\n",
       "    <tr>\n",
       "      <th>0</th>\n",
       "      <td>No</td>\n",
       "      <td>16.60</td>\n",
       "      <td>Yes</td>\n",
       "      <td>No</td>\n",
       "      <td>No</td>\n",
       "      <td>3.0</td>\n",
       "      <td>30.0</td>\n",
       "      <td>No</td>\n",
       "      <td>Female</td>\n",
       "      <td>55-59</td>\n",
       "      <td>White</td>\n",
       "      <td>Yes</td>\n",
       "      <td>Yes</td>\n",
       "      <td>Very good</td>\n",
       "      <td>5.0</td>\n",
       "      <td>Yes</td>\n",
       "      <td>No</td>\n",
       "      <td>Yes</td>\n",
       "    </tr>\n",
       "    <tr>\n",
       "      <th>1</th>\n",
       "      <td>No</td>\n",
       "      <td>20.34</td>\n",
       "      <td>No</td>\n",
       "      <td>No</td>\n",
       "      <td>Yes</td>\n",
       "      <td>0.0</td>\n",
       "      <td>0.0</td>\n",
       "      <td>No</td>\n",
       "      <td>Female</td>\n",
       "      <td>80 or older</td>\n",
       "      <td>White</td>\n",
       "      <td>No</td>\n",
       "      <td>Yes</td>\n",
       "      <td>Very good</td>\n",
       "      <td>7.0</td>\n",
       "      <td>No</td>\n",
       "      <td>No</td>\n",
       "      <td>No</td>\n",
       "    </tr>\n",
       "    <tr>\n",
       "      <th>2</th>\n",
       "      <td>No</td>\n",
       "      <td>26.58</td>\n",
       "      <td>Yes</td>\n",
       "      <td>No</td>\n",
       "      <td>No</td>\n",
       "      <td>20.0</td>\n",
       "      <td>30.0</td>\n",
       "      <td>No</td>\n",
       "      <td>Male</td>\n",
       "      <td>65-69</td>\n",
       "      <td>White</td>\n",
       "      <td>Yes</td>\n",
       "      <td>Yes</td>\n",
       "      <td>Fair</td>\n",
       "      <td>8.0</td>\n",
       "      <td>Yes</td>\n",
       "      <td>No</td>\n",
       "      <td>No</td>\n",
       "    </tr>\n",
       "    <tr>\n",
       "      <th>3</th>\n",
       "      <td>No</td>\n",
       "      <td>24.21</td>\n",
       "      <td>No</td>\n",
       "      <td>No</td>\n",
       "      <td>No</td>\n",
       "      <td>0.0</td>\n",
       "      <td>0.0</td>\n",
       "      <td>No</td>\n",
       "      <td>Female</td>\n",
       "      <td>75-79</td>\n",
       "      <td>White</td>\n",
       "      <td>No</td>\n",
       "      <td>No</td>\n",
       "      <td>Good</td>\n",
       "      <td>6.0</td>\n",
       "      <td>No</td>\n",
       "      <td>No</td>\n",
       "      <td>Yes</td>\n",
       "    </tr>\n",
       "    <tr>\n",
       "      <th>4</th>\n",
       "      <td>No</td>\n",
       "      <td>23.71</td>\n",
       "      <td>No</td>\n",
       "      <td>No</td>\n",
       "      <td>No</td>\n",
       "      <td>28.0</td>\n",
       "      <td>0.0</td>\n",
       "      <td>Yes</td>\n",
       "      <td>Female</td>\n",
       "      <td>40-44</td>\n",
       "      <td>White</td>\n",
       "      <td>No</td>\n",
       "      <td>Yes</td>\n",
       "      <td>Very good</td>\n",
       "      <td>8.0</td>\n",
       "      <td>No</td>\n",
       "      <td>No</td>\n",
       "      <td>No</td>\n",
       "    </tr>\n",
       "  </tbody>\n",
       "</table>\n",
       "</div>"
      ],
      "text/plain": [
       "  HeartDisease    BMI Smoking AlcoholDrinking Stroke  PhysicalHealth  \\\n",
       "0           No  16.60     Yes              No     No             3.0   \n",
       "1           No  20.34      No              No    Yes             0.0   \n",
       "2           No  26.58     Yes              No     No            20.0   \n",
       "3           No  24.21      No              No     No             0.0   \n",
       "4           No  23.71      No              No     No            28.0   \n",
       "\n",
       "   MentalHealth DiffWalking     Sex  AgeCategory   Race Diabetic  \\\n",
       "0          30.0          No  Female        55-59  White      Yes   \n",
       "1           0.0          No  Female  80 or older  White       No   \n",
       "2          30.0          No    Male        65-69  White      Yes   \n",
       "3           0.0          No  Female        75-79  White       No   \n",
       "4           0.0         Yes  Female        40-44  White       No   \n",
       "\n",
       "  PhysicalActivity  GenHealth  SleepTime Asthma KidneyDisease SkinCancer  \n",
       "0              Yes  Very good        5.0    Yes            No        Yes  \n",
       "1              Yes  Very good        7.0     No            No         No  \n",
       "2              Yes       Fair        8.0    Yes            No         No  \n",
       "3               No       Good        6.0     No            No        Yes  \n",
       "4              Yes  Very good        8.0     No            No         No  "
      ]
     },
     "execution_count": 2,
     "metadata": {},
     "output_type": "execute_result"
    }
   ],
   "source": [
    "df = pd.read_csv('heart_2020_cleaned.csv')\n",
    "heart = df.copy()\n",
    "heart.head()"
   ]
  },
  {
   "cell_type": "markdown",
   "id": "b7864754",
   "metadata": {},
   "source": [
    "## Inspect Data types & Missing Values"
   ]
  },
  {
   "cell_type": "code",
   "execution_count": 3,
   "id": "4274b8df",
   "metadata": {},
   "outputs": [
    {
     "data": {
      "text/plain": [
       "HeartDisease         object\n",
       "BMI                 float64\n",
       "Smoking              object\n",
       "AlcoholDrinking      object\n",
       "Stroke               object\n",
       "PhysicalHealth      float64\n",
       "MentalHealth        float64\n",
       "DiffWalking          object\n",
       "Sex                  object\n",
       "AgeCategory          object\n",
       "Race                 object\n",
       "Diabetic             object\n",
       "PhysicalActivity     object\n",
       "GenHealth            object\n",
       "SleepTime           float64\n",
       "Asthma               object\n",
       "KidneyDisease        object\n",
       "SkinCancer           object\n",
       "dtype: object"
      ]
     },
     "execution_count": 3,
     "metadata": {},
     "output_type": "execute_result"
    }
   ],
   "source": [
    "heart.dtypes"
   ]
  },
  {
   "cell_type": "code",
   "execution_count": 4,
   "id": "6dba1fce",
   "metadata": {},
   "outputs": [
    {
     "data": {
      "text/plain": [
       "HeartDisease        0\n",
       "BMI                 0\n",
       "Smoking             0\n",
       "AlcoholDrinking     0\n",
       "Stroke              0\n",
       "PhysicalHealth      0\n",
       "MentalHealth        0\n",
       "DiffWalking         0\n",
       "Sex                 0\n",
       "AgeCategory         0\n",
       "Race                0\n",
       "Diabetic            0\n",
       "PhysicalActivity    0\n",
       "GenHealth           0\n",
       "SleepTime           0\n",
       "Asthma              0\n",
       "KidneyDisease       0\n",
       "SkinCancer          0\n",
       "dtype: int64"
      ]
     },
     "execution_count": 4,
     "metadata": {},
     "output_type": "execute_result"
    }
   ],
   "source": [
    "heart.isnull().sum()"
   ]
  },
  {
   "cell_type": "markdown",
   "id": "93b74de0",
   "metadata": {},
   "source": [
    "## Crosstabs: Independent Variables vs Target Variable (HeartDisease)"
   ]
  },
  {
   "cell_type": "code",
   "execution_count": 5,
   "id": "186febda",
   "metadata": {},
   "outputs": [
    {
     "data": {
      "text/html": [
       "<div>\n",
       "<style scoped>\n",
       "    .dataframe tbody tr th:only-of-type {\n",
       "        vertical-align: middle;\n",
       "    }\n",
       "\n",
       "    .dataframe tbody tr th {\n",
       "        vertical-align: top;\n",
       "    }\n",
       "\n",
       "    .dataframe thead th {\n",
       "        text-align: right;\n",
       "    }\n",
       "</style>\n",
       "<table border=\"1\" class=\"dataframe\">\n",
       "  <thead>\n",
       "    <tr style=\"text-align: right;\">\n",
       "      <th></th>\n",
       "      <th>HeartDisease</th>\n",
       "      <th>BMI</th>\n",
       "      <th>Smoking</th>\n",
       "      <th>AlcoholDrinking</th>\n",
       "      <th>Stroke</th>\n",
       "      <th>PhysicalHealth</th>\n",
       "      <th>MentalHealth</th>\n",
       "      <th>DiffWalking</th>\n",
       "      <th>Sex</th>\n",
       "      <th>AgeCategory</th>\n",
       "      <th>Race</th>\n",
       "      <th>Diabetic</th>\n",
       "      <th>PhysicalActivity</th>\n",
       "      <th>GenHealth</th>\n",
       "      <th>SleepTime</th>\n",
       "      <th>Asthma</th>\n",
       "      <th>KidneyDisease</th>\n",
       "      <th>SkinCancer</th>\n",
       "    </tr>\n",
       "  </thead>\n",
       "  <tbody>\n",
       "    <tr>\n",
       "      <th>0</th>\n",
       "      <td>No</td>\n",
       "      <td>16.60</td>\n",
       "      <td>Yes</td>\n",
       "      <td>No</td>\n",
       "      <td>No</td>\n",
       "      <td>3.0</td>\n",
       "      <td>30.0</td>\n",
       "      <td>No</td>\n",
       "      <td>Female</td>\n",
       "      <td>55-59</td>\n",
       "      <td>White</td>\n",
       "      <td>Yes</td>\n",
       "      <td>Yes</td>\n",
       "      <td>Very good</td>\n",
       "      <td>5.0</td>\n",
       "      <td>Yes</td>\n",
       "      <td>No</td>\n",
       "      <td>Yes</td>\n",
       "    </tr>\n",
       "    <tr>\n",
       "      <th>1</th>\n",
       "      <td>No</td>\n",
       "      <td>20.34</td>\n",
       "      <td>No</td>\n",
       "      <td>No</td>\n",
       "      <td>Yes</td>\n",
       "      <td>0.0</td>\n",
       "      <td>0.0</td>\n",
       "      <td>No</td>\n",
       "      <td>Female</td>\n",
       "      <td>80 or older</td>\n",
       "      <td>White</td>\n",
       "      <td>No</td>\n",
       "      <td>Yes</td>\n",
       "      <td>Very good</td>\n",
       "      <td>7.0</td>\n",
       "      <td>No</td>\n",
       "      <td>No</td>\n",
       "      <td>No</td>\n",
       "    </tr>\n",
       "    <tr>\n",
       "      <th>2</th>\n",
       "      <td>No</td>\n",
       "      <td>26.58</td>\n",
       "      <td>Yes</td>\n",
       "      <td>No</td>\n",
       "      <td>No</td>\n",
       "      <td>20.0</td>\n",
       "      <td>30.0</td>\n",
       "      <td>No</td>\n",
       "      <td>Male</td>\n",
       "      <td>65-69</td>\n",
       "      <td>White</td>\n",
       "      <td>Yes</td>\n",
       "      <td>Yes</td>\n",
       "      <td>Fair</td>\n",
       "      <td>8.0</td>\n",
       "      <td>Yes</td>\n",
       "      <td>No</td>\n",
       "      <td>No</td>\n",
       "    </tr>\n",
       "    <tr>\n",
       "      <th>3</th>\n",
       "      <td>No</td>\n",
       "      <td>24.21</td>\n",
       "      <td>No</td>\n",
       "      <td>No</td>\n",
       "      <td>No</td>\n",
       "      <td>0.0</td>\n",
       "      <td>0.0</td>\n",
       "      <td>No</td>\n",
       "      <td>Female</td>\n",
       "      <td>75-79</td>\n",
       "      <td>White</td>\n",
       "      <td>No</td>\n",
       "      <td>No</td>\n",
       "      <td>Good</td>\n",
       "      <td>6.0</td>\n",
       "      <td>No</td>\n",
       "      <td>No</td>\n",
       "      <td>Yes</td>\n",
       "    </tr>\n",
       "    <tr>\n",
       "      <th>4</th>\n",
       "      <td>No</td>\n",
       "      <td>23.71</td>\n",
       "      <td>No</td>\n",
       "      <td>No</td>\n",
       "      <td>No</td>\n",
       "      <td>28.0</td>\n",
       "      <td>0.0</td>\n",
       "      <td>Yes</td>\n",
       "      <td>Female</td>\n",
       "      <td>40-44</td>\n",
       "      <td>White</td>\n",
       "      <td>No</td>\n",
       "      <td>Yes</td>\n",
       "      <td>Very good</td>\n",
       "      <td>8.0</td>\n",
       "      <td>No</td>\n",
       "      <td>No</td>\n",
       "      <td>No</td>\n",
       "    </tr>\n",
       "  </tbody>\n",
       "</table>\n",
       "</div>"
      ],
      "text/plain": [
       "  HeartDisease    BMI Smoking AlcoholDrinking Stroke  PhysicalHealth  \\\n",
       "0           No  16.60     Yes              No     No             3.0   \n",
       "1           No  20.34      No              No    Yes             0.0   \n",
       "2           No  26.58     Yes              No     No            20.0   \n",
       "3           No  24.21      No              No     No             0.0   \n",
       "4           No  23.71      No              No     No            28.0   \n",
       "\n",
       "   MentalHealth DiffWalking     Sex  AgeCategory   Race Diabetic  \\\n",
       "0          30.0          No  Female        55-59  White      Yes   \n",
       "1           0.0          No  Female  80 or older  White       No   \n",
       "2          30.0          No    Male        65-69  White      Yes   \n",
       "3           0.0          No  Female        75-79  White       No   \n",
       "4           0.0         Yes  Female        40-44  White       No   \n",
       "\n",
       "  PhysicalActivity  GenHealth  SleepTime Asthma KidneyDisease SkinCancer  \n",
       "0              Yes  Very good        5.0    Yes            No        Yes  \n",
       "1              Yes  Very good        7.0     No            No         No  \n",
       "2              Yes       Fair        8.0    Yes            No         No  \n",
       "3               No       Good        6.0     No            No        Yes  \n",
       "4              Yes  Very good        8.0     No            No         No  "
      ]
     },
     "execution_count": 5,
     "metadata": {},
     "output_type": "execute_result"
    }
   ],
   "source": [
    "heart.head()"
   ]
  },
  {
   "cell_type": "code",
   "execution_count": 6,
   "id": "8c78f8e4",
   "metadata": {
    "scrolled": false
   },
   "outputs": [
    {
     "name": "stdout",
     "output_type": "stream",
     "text": [
      "Smoking Crosstab HeartDisease\n"
     ]
    },
    {
     "data": {
      "text/html": [
       "<div>\n",
       "<style scoped>\n",
       "    .dataframe tbody tr th:only-of-type {\n",
       "        vertical-align: middle;\n",
       "    }\n",
       "\n",
       "    .dataframe tbody tr th {\n",
       "        vertical-align: top;\n",
       "    }\n",
       "\n",
       "    .dataframe thead th {\n",
       "        text-align: right;\n",
       "    }\n",
       "</style>\n",
       "<table border=\"1\" class=\"dataframe\">\n",
       "  <thead>\n",
       "    <tr style=\"text-align: right;\">\n",
       "      <th>HeartDisease</th>\n",
       "      <th>No</th>\n",
       "      <th>Yes</th>\n",
       "    </tr>\n",
       "    <tr>\n",
       "      <th>Smoking</th>\n",
       "      <th></th>\n",
       "      <th></th>\n",
       "    </tr>\n",
       "  </thead>\n",
       "  <tbody>\n",
       "    <tr>\n",
       "      <th>No</th>\n",
       "      <td>0.939666</td>\n",
       "      <td>0.060334</td>\n",
       "    </tr>\n",
       "    <tr>\n",
       "      <th>Yes</th>\n",
       "      <td>0.878423</td>\n",
       "      <td>0.121577</td>\n",
       "    </tr>\n",
       "  </tbody>\n",
       "</table>\n",
       "</div>"
      ],
      "text/plain": [
       "HeartDisease        No       Yes\n",
       "Smoking                         \n",
       "No            0.939666  0.060334\n",
       "Yes           0.878423  0.121577"
      ]
     },
     "metadata": {},
     "output_type": "display_data"
    },
    {
     "name": "stdout",
     "output_type": "stream",
     "text": [
      "\n",
      "AlcoholDrinking Crosstab HeartDisease\n"
     ]
    },
    {
     "data": {
      "text/html": [
       "<div>\n",
       "<style scoped>\n",
       "    .dataframe tbody tr th:only-of-type {\n",
       "        vertical-align: middle;\n",
       "    }\n",
       "\n",
       "    .dataframe tbody tr th {\n",
       "        vertical-align: top;\n",
       "    }\n",
       "\n",
       "    .dataframe thead th {\n",
       "        text-align: right;\n",
       "    }\n",
       "</style>\n",
       "<table border=\"1\" class=\"dataframe\">\n",
       "  <thead>\n",
       "    <tr style=\"text-align: right;\">\n",
       "      <th>HeartDisease</th>\n",
       "      <th>No</th>\n",
       "      <th>Yes</th>\n",
       "    </tr>\n",
       "    <tr>\n",
       "      <th>AlcoholDrinking</th>\n",
       "      <th></th>\n",
       "      <th></th>\n",
       "    </tr>\n",
       "  </thead>\n",
       "  <tbody>\n",
       "    <tr>\n",
       "      <th>No</th>\n",
       "      <td>0.911978</td>\n",
       "      <td>0.088022</td>\n",
       "    </tr>\n",
       "    <tr>\n",
       "      <th>Yes</th>\n",
       "      <td>0.947605</td>\n",
       "      <td>0.052395</td>\n",
       "    </tr>\n",
       "  </tbody>\n",
       "</table>\n",
       "</div>"
      ],
      "text/plain": [
       "HeartDisease           No       Yes\n",
       "AlcoholDrinking                    \n",
       "No               0.911978  0.088022\n",
       "Yes              0.947605  0.052395"
      ]
     },
     "metadata": {},
     "output_type": "display_data"
    },
    {
     "name": "stdout",
     "output_type": "stream",
     "text": [
      "\n",
      "Stroke Crosstab HeartDisease\n"
     ]
    },
    {
     "data": {
      "text/html": [
       "<div>\n",
       "<style scoped>\n",
       "    .dataframe tbody tr th:only-of-type {\n",
       "        vertical-align: middle;\n",
       "    }\n",
       "\n",
       "    .dataframe tbody tr th {\n",
       "        vertical-align: top;\n",
       "    }\n",
       "\n",
       "    .dataframe thead th {\n",
       "        text-align: right;\n",
       "    }\n",
       "</style>\n",
       "<table border=\"1\" class=\"dataframe\">\n",
       "  <thead>\n",
       "    <tr style=\"text-align: right;\">\n",
       "      <th>HeartDisease</th>\n",
       "      <th>No</th>\n",
       "      <th>Yes</th>\n",
       "    </tr>\n",
       "    <tr>\n",
       "      <th>Stroke</th>\n",
       "      <th></th>\n",
       "      <th></th>\n",
       "    </tr>\n",
       "  </thead>\n",
       "  <tbody>\n",
       "    <tr>\n",
       "      <th>No</th>\n",
       "      <td>0.925310</td>\n",
       "      <td>0.074690</td>\n",
       "    </tr>\n",
       "    <tr>\n",
       "      <th>Yes</th>\n",
       "      <td>0.636341</td>\n",
       "      <td>0.363659</td>\n",
       "    </tr>\n",
       "  </tbody>\n",
       "</table>\n",
       "</div>"
      ],
      "text/plain": [
       "HeartDisease        No       Yes\n",
       "Stroke                          \n",
       "No            0.925310  0.074690\n",
       "Yes           0.636341  0.363659"
      ]
     },
     "metadata": {},
     "output_type": "display_data"
    },
    {
     "name": "stdout",
     "output_type": "stream",
     "text": [
      "\n",
      "DiffWalking Crosstab HeartDisease\n"
     ]
    },
    {
     "data": {
      "text/html": [
       "<div>\n",
       "<style scoped>\n",
       "    .dataframe tbody tr th:only-of-type {\n",
       "        vertical-align: middle;\n",
       "    }\n",
       "\n",
       "    .dataframe tbody tr th {\n",
       "        vertical-align: top;\n",
       "    }\n",
       "\n",
       "    .dataframe thead th {\n",
       "        text-align: right;\n",
       "    }\n",
       "</style>\n",
       "<table border=\"1\" class=\"dataframe\">\n",
       "  <thead>\n",
       "    <tr style=\"text-align: right;\">\n",
       "      <th>HeartDisease</th>\n",
       "      <th>No</th>\n",
       "      <th>Yes</th>\n",
       "    </tr>\n",
       "    <tr>\n",
       "      <th>DiffWalking</th>\n",
       "      <th></th>\n",
       "      <th></th>\n",
       "    </tr>\n",
       "  </thead>\n",
       "  <tbody>\n",
       "    <tr>\n",
       "      <th>No</th>\n",
       "      <td>0.937015</td>\n",
       "      <td>0.062985</td>\n",
       "    </tr>\n",
       "    <tr>\n",
       "      <th>Yes</th>\n",
       "      <td>0.774195</td>\n",
       "      <td>0.225805</td>\n",
       "    </tr>\n",
       "  </tbody>\n",
       "</table>\n",
       "</div>"
      ],
      "text/plain": [
       "HeartDisease        No       Yes\n",
       "DiffWalking                     \n",
       "No            0.937015  0.062985\n",
       "Yes           0.774195  0.225805"
      ]
     },
     "metadata": {},
     "output_type": "display_data"
    },
    {
     "name": "stdout",
     "output_type": "stream",
     "text": [
      "\n",
      "Sex Crosstab HeartDisease\n"
     ]
    },
    {
     "data": {
      "text/html": [
       "<div>\n",
       "<style scoped>\n",
       "    .dataframe tbody tr th:only-of-type {\n",
       "        vertical-align: middle;\n",
       "    }\n",
       "\n",
       "    .dataframe tbody tr th {\n",
       "        vertical-align: top;\n",
       "    }\n",
       "\n",
       "    .dataframe thead th {\n",
       "        text-align: right;\n",
       "    }\n",
       "</style>\n",
       "<table border=\"1\" class=\"dataframe\">\n",
       "  <thead>\n",
       "    <tr style=\"text-align: right;\">\n",
       "      <th>HeartDisease</th>\n",
       "      <th>No</th>\n",
       "      <th>Yes</th>\n",
       "    </tr>\n",
       "    <tr>\n",
       "      <th>Sex</th>\n",
       "      <th></th>\n",
       "      <th></th>\n",
       "    </tr>\n",
       "  </thead>\n",
       "  <tbody>\n",
       "    <tr>\n",
       "      <th>Female</th>\n",
       "      <td>0.933053</td>\n",
       "      <td>0.066947</td>\n",
       "    </tr>\n",
       "    <tr>\n",
       "      <th>Male</th>\n",
       "      <td>0.893815</td>\n",
       "      <td>0.106185</td>\n",
       "    </tr>\n",
       "  </tbody>\n",
       "</table>\n",
       "</div>"
      ],
      "text/plain": [
       "HeartDisease        No       Yes\n",
       "Sex                             \n",
       "Female        0.933053  0.066947\n",
       "Male          0.893815  0.106185"
      ]
     },
     "metadata": {},
     "output_type": "display_data"
    },
    {
     "name": "stdout",
     "output_type": "stream",
     "text": [
      "\n",
      "AgeCategory Crosstab HeartDisease\n"
     ]
    },
    {
     "data": {
      "text/html": [
       "<div>\n",
       "<style scoped>\n",
       "    .dataframe tbody tr th:only-of-type {\n",
       "        vertical-align: middle;\n",
       "    }\n",
       "\n",
       "    .dataframe tbody tr th {\n",
       "        vertical-align: top;\n",
       "    }\n",
       "\n",
       "    .dataframe thead th {\n",
       "        text-align: right;\n",
       "    }\n",
       "</style>\n",
       "<table border=\"1\" class=\"dataframe\">\n",
       "  <thead>\n",
       "    <tr style=\"text-align: right;\">\n",
       "      <th>HeartDisease</th>\n",
       "      <th>No</th>\n",
       "      <th>Yes</th>\n",
       "    </tr>\n",
       "    <tr>\n",
       "      <th>AgeCategory</th>\n",
       "      <th></th>\n",
       "      <th></th>\n",
       "    </tr>\n",
       "  </thead>\n",
       "  <tbody>\n",
       "    <tr>\n",
       "      <th>18-24</th>\n",
       "      <td>0.993828</td>\n",
       "      <td>0.006172</td>\n",
       "    </tr>\n",
       "    <tr>\n",
       "      <th>25-29</th>\n",
       "      <td>0.992156</td>\n",
       "      <td>0.007844</td>\n",
       "    </tr>\n",
       "    <tr>\n",
       "      <th>30-34</th>\n",
       "      <td>0.987949</td>\n",
       "      <td>0.012051</td>\n",
       "    </tr>\n",
       "    <tr>\n",
       "      <th>35-39</th>\n",
       "      <td>0.985596</td>\n",
       "      <td>0.014404</td>\n",
       "    </tr>\n",
       "    <tr>\n",
       "      <th>40-44</th>\n",
       "      <td>0.976864</td>\n",
       "      <td>0.023136</td>\n",
       "    </tr>\n",
       "    <tr>\n",
       "      <th>45-49</th>\n",
       "      <td>0.965857</td>\n",
       "      <td>0.034143</td>\n",
       "    </tr>\n",
       "    <tr>\n",
       "      <th>50-54</th>\n",
       "      <td>0.945513</td>\n",
       "      <td>0.054487</td>\n",
       "    </tr>\n",
       "    <tr>\n",
       "      <th>55-59</th>\n",
       "      <td>0.926001</td>\n",
       "      <td>0.073999</td>\n",
       "    </tr>\n",
       "    <tr>\n",
       "      <th>60-64</th>\n",
       "      <td>0.901235</td>\n",
       "      <td>0.098765</td>\n",
       "    </tr>\n",
       "    <tr>\n",
       "      <th>65-69</th>\n",
       "      <td>0.879916</td>\n",
       "      <td>0.120084</td>\n",
       "    </tr>\n",
       "    <tr>\n",
       "      <th>70-74</th>\n",
       "      <td>0.843972</td>\n",
       "      <td>0.156028</td>\n",
       "    </tr>\n",
       "    <tr>\n",
       "      <th>75-79</th>\n",
       "      <td>0.811517</td>\n",
       "      <td>0.188483</td>\n",
       "    </tr>\n",
       "    <tr>\n",
       "      <th>80 or older</th>\n",
       "      <td>0.774397</td>\n",
       "      <td>0.225603</td>\n",
       "    </tr>\n",
       "  </tbody>\n",
       "</table>\n",
       "</div>"
      ],
      "text/plain": [
       "HeartDisease        No       Yes\n",
       "AgeCategory                     \n",
       "18-24         0.993828  0.006172\n",
       "25-29         0.992156  0.007844\n",
       "30-34         0.987949  0.012051\n",
       "35-39         0.985596  0.014404\n",
       "40-44         0.976864  0.023136\n",
       "45-49         0.965857  0.034143\n",
       "50-54         0.945513  0.054487\n",
       "55-59         0.926001  0.073999\n",
       "60-64         0.901235  0.098765\n",
       "65-69         0.879916  0.120084\n",
       "70-74         0.843972  0.156028\n",
       "75-79         0.811517  0.188483\n",
       "80 or older   0.774397  0.225603"
      ]
     },
     "metadata": {},
     "output_type": "display_data"
    },
    {
     "name": "stdout",
     "output_type": "stream",
     "text": [
      "\n",
      "Race Crosstab HeartDisease\n"
     ]
    },
    {
     "data": {
      "text/html": [
       "<div>\n",
       "<style scoped>\n",
       "    .dataframe tbody tr th:only-of-type {\n",
       "        vertical-align: middle;\n",
       "    }\n",
       "\n",
       "    .dataframe tbody tr th {\n",
       "        vertical-align: top;\n",
       "    }\n",
       "\n",
       "    .dataframe thead th {\n",
       "        text-align: right;\n",
       "    }\n",
       "</style>\n",
       "<table border=\"1\" class=\"dataframe\">\n",
       "  <thead>\n",
       "    <tr style=\"text-align: right;\">\n",
       "      <th>HeartDisease</th>\n",
       "      <th>No</th>\n",
       "      <th>Yes</th>\n",
       "    </tr>\n",
       "    <tr>\n",
       "      <th>Race</th>\n",
       "      <th></th>\n",
       "      <th></th>\n",
       "    </tr>\n",
       "  </thead>\n",
       "  <tbody>\n",
       "    <tr>\n",
       "      <th>American Indian/Alaskan Native</th>\n",
       "      <td>0.895809</td>\n",
       "      <td>0.104191</td>\n",
       "    </tr>\n",
       "    <tr>\n",
       "      <th>Asian</th>\n",
       "      <td>0.967030</td>\n",
       "      <td>0.032970</td>\n",
       "    </tr>\n",
       "    <tr>\n",
       "      <th>Black</th>\n",
       "      <td>0.924626</td>\n",
       "      <td>0.075374</td>\n",
       "    </tr>\n",
       "    <tr>\n",
       "      <th>Hispanic</th>\n",
       "      <td>0.947424</td>\n",
       "      <td>0.052576</td>\n",
       "    </tr>\n",
       "    <tr>\n",
       "      <th>Other</th>\n",
       "      <td>0.918924</td>\n",
       "      <td>0.081076</td>\n",
       "    </tr>\n",
       "    <tr>\n",
       "      <th>White</th>\n",
       "      <td>0.908214</td>\n",
       "      <td>0.091786</td>\n",
       "    </tr>\n",
       "  </tbody>\n",
       "</table>\n",
       "</div>"
      ],
      "text/plain": [
       "HeartDisease                          No       Yes\n",
       "Race                                              \n",
       "American Indian/Alaskan Native  0.895809  0.104191\n",
       "Asian                           0.967030  0.032970\n",
       "Black                           0.924626  0.075374\n",
       "Hispanic                        0.947424  0.052576\n",
       "Other                           0.918924  0.081076\n",
       "White                           0.908214  0.091786"
      ]
     },
     "metadata": {},
     "output_type": "display_data"
    },
    {
     "name": "stdout",
     "output_type": "stream",
     "text": [
      "\n",
      "Diabetic Crosstab HeartDisease\n"
     ]
    },
    {
     "data": {
      "text/html": [
       "<div>\n",
       "<style scoped>\n",
       "    .dataframe tbody tr th:only-of-type {\n",
       "        vertical-align: middle;\n",
       "    }\n",
       "\n",
       "    .dataframe tbody tr th {\n",
       "        vertical-align: top;\n",
       "    }\n",
       "\n",
       "    .dataframe thead th {\n",
       "        text-align: right;\n",
       "    }\n",
       "</style>\n",
       "<table border=\"1\" class=\"dataframe\">\n",
       "  <thead>\n",
       "    <tr style=\"text-align: right;\">\n",
       "      <th>HeartDisease</th>\n",
       "      <th>No</th>\n",
       "      <th>Yes</th>\n",
       "    </tr>\n",
       "    <tr>\n",
       "      <th>Diabetic</th>\n",
       "      <th></th>\n",
       "      <th></th>\n",
       "    </tr>\n",
       "  </thead>\n",
       "  <tbody>\n",
       "    <tr>\n",
       "      <th>No</th>\n",
       "      <td>0.935031</td>\n",
       "      <td>0.064969</td>\n",
       "    </tr>\n",
       "    <tr>\n",
       "      <th>No, borderline diabetes</th>\n",
       "      <td>0.883645</td>\n",
       "      <td>0.116355</td>\n",
       "    </tr>\n",
       "    <tr>\n",
       "      <th>Yes</th>\n",
       "      <td>0.780476</td>\n",
       "      <td>0.219524</td>\n",
       "    </tr>\n",
       "    <tr>\n",
       "      <th>Yes (during pregnancy)</th>\n",
       "      <td>0.957796</td>\n",
       "      <td>0.042204</td>\n",
       "    </tr>\n",
       "  </tbody>\n",
       "</table>\n",
       "</div>"
      ],
      "text/plain": [
       "HeartDisease                   No       Yes\n",
       "Diabetic                                   \n",
       "No                       0.935031  0.064969\n",
       "No, borderline diabetes  0.883645  0.116355\n",
       "Yes                      0.780476  0.219524\n",
       "Yes (during pregnancy)   0.957796  0.042204"
      ]
     },
     "metadata": {},
     "output_type": "display_data"
    },
    {
     "name": "stdout",
     "output_type": "stream",
     "text": [
      "\n",
      "PhysicalActivity Crosstab HeartDisease\n"
     ]
    },
    {
     "data": {
      "text/html": [
       "<div>\n",
       "<style scoped>\n",
       "    .dataframe tbody tr th:only-of-type {\n",
       "        vertical-align: middle;\n",
       "    }\n",
       "\n",
       "    .dataframe tbody tr th {\n",
       "        vertical-align: top;\n",
       "    }\n",
       "\n",
       "    .dataframe thead th {\n",
       "        text-align: right;\n",
       "    }\n",
       "</style>\n",
       "<table border=\"1\" class=\"dataframe\">\n",
       "  <thead>\n",
       "    <tr style=\"text-align: right;\">\n",
       "      <th>HeartDisease</th>\n",
       "      <th>No</th>\n",
       "      <th>Yes</th>\n",
       "    </tr>\n",
       "    <tr>\n",
       "      <th>PhysicalActivity</th>\n",
       "      <th></th>\n",
       "      <th></th>\n",
       "    </tr>\n",
       "  </thead>\n",
       "  <tbody>\n",
       "    <tr>\n",
       "      <th>No</th>\n",
       "      <td>0.862413</td>\n",
       "      <td>0.137587</td>\n",
       "    </tr>\n",
       "    <tr>\n",
       "      <th>Yes</th>\n",
       "      <td>0.929468</td>\n",
       "      <td>0.070532</td>\n",
       "    </tr>\n",
       "  </tbody>\n",
       "</table>\n",
       "</div>"
      ],
      "text/plain": [
       "HeartDisease            No       Yes\n",
       "PhysicalActivity                    \n",
       "No                0.862413  0.137587\n",
       "Yes               0.929468  0.070532"
      ]
     },
     "metadata": {},
     "output_type": "display_data"
    },
    {
     "name": "stdout",
     "output_type": "stream",
     "text": [
      "\n",
      "GenHealth Crosstab HeartDisease\n"
     ]
    },
    {
     "data": {
      "text/html": [
       "<div>\n",
       "<style scoped>\n",
       "    .dataframe tbody tr th:only-of-type {\n",
       "        vertical-align: middle;\n",
       "    }\n",
       "\n",
       "    .dataframe tbody tr th {\n",
       "        vertical-align: top;\n",
       "    }\n",
       "\n",
       "    .dataframe thead th {\n",
       "        text-align: right;\n",
       "    }\n",
       "</style>\n",
       "<table border=\"1\" class=\"dataframe\">\n",
       "  <thead>\n",
       "    <tr style=\"text-align: right;\">\n",
       "      <th>HeartDisease</th>\n",
       "      <th>No</th>\n",
       "      <th>Yes</th>\n",
       "    </tr>\n",
       "    <tr>\n",
       "      <th>GenHealth</th>\n",
       "      <th></th>\n",
       "      <th></th>\n",
       "    </tr>\n",
       "  </thead>\n",
       "  <tbody>\n",
       "    <tr>\n",
       "      <th>Excellent</th>\n",
       "      <td>0.977559</td>\n",
       "      <td>0.022441</td>\n",
       "    </tr>\n",
       "    <tr>\n",
       "      <th>Fair</th>\n",
       "      <td>0.795715</td>\n",
       "      <td>0.204285</td>\n",
       "    </tr>\n",
       "    <tr>\n",
       "      <th>Good</th>\n",
       "      <td>0.897368</td>\n",
       "      <td>0.102632</td>\n",
       "    </tr>\n",
       "    <tr>\n",
       "      <th>Poor</th>\n",
       "      <td>0.658960</td>\n",
       "      <td>0.341040</td>\n",
       "    </tr>\n",
       "    <tr>\n",
       "      <th>Very good</th>\n",
       "      <td>0.952739</td>\n",
       "      <td>0.047261</td>\n",
       "    </tr>\n",
       "  </tbody>\n",
       "</table>\n",
       "</div>"
      ],
      "text/plain": [
       "HeartDisease        No       Yes\n",
       "GenHealth                       \n",
       "Excellent     0.977559  0.022441\n",
       "Fair          0.795715  0.204285\n",
       "Good          0.897368  0.102632\n",
       "Poor          0.658960  0.341040\n",
       "Very good     0.952739  0.047261"
      ]
     },
     "metadata": {},
     "output_type": "display_data"
    },
    {
     "name": "stdout",
     "output_type": "stream",
     "text": [
      "\n",
      "Asthma Crosstab HeartDisease\n"
     ]
    },
    {
     "data": {
      "text/html": [
       "<div>\n",
       "<style scoped>\n",
       "    .dataframe tbody tr th:only-of-type {\n",
       "        vertical-align: middle;\n",
       "    }\n",
       "\n",
       "    .dataframe tbody tr th {\n",
       "        vertical-align: top;\n",
       "    }\n",
       "\n",
       "    .dataframe thead th {\n",
       "        text-align: right;\n",
       "    }\n",
       "</style>\n",
       "<table border=\"1\" class=\"dataframe\">\n",
       "  <thead>\n",
       "    <tr style=\"text-align: right;\">\n",
       "      <th>HeartDisease</th>\n",
       "      <th>No</th>\n",
       "      <th>Yes</th>\n",
       "    </tr>\n",
       "    <tr>\n",
       "      <th>Asthma</th>\n",
       "      <th></th>\n",
       "      <th></th>\n",
       "    </tr>\n",
       "  </thead>\n",
       "  <tbody>\n",
       "    <tr>\n",
       "      <th>No</th>\n",
       "      <td>0.918967</td>\n",
       "      <td>0.081033</td>\n",
       "    </tr>\n",
       "    <tr>\n",
       "      <th>Yes</th>\n",
       "      <td>0.884937</td>\n",
       "      <td>0.115063</td>\n",
       "    </tr>\n",
       "  </tbody>\n",
       "</table>\n",
       "</div>"
      ],
      "text/plain": [
       "HeartDisease        No       Yes\n",
       "Asthma                          \n",
       "No            0.918967  0.081033\n",
       "Yes           0.884937  0.115063"
      ]
     },
     "metadata": {},
     "output_type": "display_data"
    },
    {
     "name": "stdout",
     "output_type": "stream",
     "text": [
      "\n",
      "KidneyDisease Crosstab HeartDisease\n"
     ]
    },
    {
     "data": {
      "text/html": [
       "<div>\n",
       "<style scoped>\n",
       "    .dataframe tbody tr th:only-of-type {\n",
       "        vertical-align: middle;\n",
       "    }\n",
       "\n",
       "    .dataframe tbody tr th {\n",
       "        vertical-align: top;\n",
       "    }\n",
       "\n",
       "    .dataframe thead th {\n",
       "        text-align: right;\n",
       "    }\n",
       "</style>\n",
       "<table border=\"1\" class=\"dataframe\">\n",
       "  <thead>\n",
       "    <tr style=\"text-align: right;\">\n",
       "      <th>HeartDisease</th>\n",
       "      <th>No</th>\n",
       "      <th>Yes</th>\n",
       "    </tr>\n",
       "    <tr>\n",
       "      <th>KidneyDisease</th>\n",
       "      <th></th>\n",
       "      <th></th>\n",
       "    </tr>\n",
       "  </thead>\n",
       "  <tbody>\n",
       "    <tr>\n",
       "      <th>No</th>\n",
       "      <td>0.922348</td>\n",
       "      <td>0.077652</td>\n",
       "    </tr>\n",
       "    <tr>\n",
       "      <th>Yes</th>\n",
       "      <td>0.706681</td>\n",
       "      <td>0.293319</td>\n",
       "    </tr>\n",
       "  </tbody>\n",
       "</table>\n",
       "</div>"
      ],
      "text/plain": [
       "HeartDisease         No       Yes\n",
       "KidneyDisease                    \n",
       "No             0.922348  0.077652\n",
       "Yes            0.706681  0.293319"
      ]
     },
     "metadata": {},
     "output_type": "display_data"
    },
    {
     "name": "stdout",
     "output_type": "stream",
     "text": [
      "\n",
      "SkinCancer Crosstab HeartDisease\n"
     ]
    },
    {
     "data": {
      "text/html": [
       "<div>\n",
       "<style scoped>\n",
       "    .dataframe tbody tr th:only-of-type {\n",
       "        vertical-align: middle;\n",
       "    }\n",
       "\n",
       "    .dataframe tbody tr th {\n",
       "        vertical-align: top;\n",
       "    }\n",
       "\n",
       "    .dataframe thead th {\n",
       "        text-align: right;\n",
       "    }\n",
       "</style>\n",
       "<table border=\"1\" class=\"dataframe\">\n",
       "  <thead>\n",
       "    <tr style=\"text-align: right;\">\n",
       "      <th>HeartDisease</th>\n",
       "      <th>No</th>\n",
       "      <th>Yes</th>\n",
       "    </tr>\n",
       "    <tr>\n",
       "      <th>SkinCancer</th>\n",
       "      <th></th>\n",
       "      <th></th>\n",
       "    </tr>\n",
       "  </thead>\n",
       "  <tbody>\n",
       "    <tr>\n",
       "      <th>No</th>\n",
       "      <td>0.922776</td>\n",
       "      <td>0.077224</td>\n",
       "    </tr>\n",
       "    <tr>\n",
       "      <th>Yes</th>\n",
       "      <td>0.832992</td>\n",
       "      <td>0.167008</td>\n",
       "    </tr>\n",
       "  </tbody>\n",
       "</table>\n",
       "</div>"
      ],
      "text/plain": [
       "HeartDisease        No       Yes\n",
       "SkinCancer                      \n",
       "No            0.922776  0.077224\n",
       "Yes           0.832992  0.167008"
      ]
     },
     "metadata": {},
     "output_type": "display_data"
    },
    {
     "name": "stdout",
     "output_type": "stream",
     "text": [
      "\n"
     ]
    }
   ],
   "source": [
    "# Categorical variables of interest\n",
    "cat_cols = ['Smoking', 'AlcoholDrinking', 'Stroke','DiffWalking', 'Sex', 'AgeCategory',\n",
    "       'Race', 'Diabetic', 'PhysicalActivity', 'GenHealth', 'Asthma', 'KidneyDisease', 'SkinCancer']\n",
    "\n",
    "# Loop through the list of categorical variables and output crosstabs against the target variable\n",
    "for col in cat_cols:\n",
    "    print(f'{col} Crosstab HeartDisease')\n",
    "    display(pd.crosstab(heart[col], heart['HeartDisease'], normalize='index'))\n",
    "    print('')\n",
    "    "
   ]
  },
  {
   "cell_type": "markdown",
   "id": "55ae43c7",
   "metadata": {},
   "source": [
    "## Explore Categorical Variables\n",
    "#### <u>AgeCategory</u> has categories that can be condensed. \n",
    "   * Young Adult (18-39)\n",
    "   * Adult (40-59)\n",
    "   * Older Adult (60 +)"
   ]
  },
  {
   "cell_type": "code",
   "execution_count": 7,
   "id": "e05745d4",
   "metadata": {},
   "outputs": [
    {
     "data": {
      "text/plain": [
       "18-24          21064\n",
       "25-29          16955\n",
       "30-34          18753\n",
       "35-39          20550\n",
       "40-44          21006\n",
       "45-49          21791\n",
       "50-54          25382\n",
       "55-59          29757\n",
       "60-64          33686\n",
       "65-69          34151\n",
       "70-74          31065\n",
       "75-79          21482\n",
       "80 or older    24153\n",
       "Name: AgeCategory, dtype: int64"
      ]
     },
     "execution_count": 7,
     "metadata": {},
     "output_type": "execute_result"
    }
   ],
   "source": [
    "heart['AgeCategory'].value_counts().sort_index()"
   ]
  },
  {
   "cell_type": "code",
   "execution_count": 8,
   "id": "af654fdb",
   "metadata": {},
   "outputs": [],
   "source": [
    "def age_transform(age):\n",
    "    \"\"\"This function reduces the amount of categories when applied to the\n",
    "       the AgeCategory Column.    \n",
    "    \"\"\"\n",
    "    \n",
    "    # List of categories for the if-statement\n",
    "    young = ['18-24', '25-29', '30-34', '35-39']\n",
    "    adult = ['40-44', '45-49', '50-54', '55-59']\n",
    "    \n",
    "    if age in young:\n",
    "        return 'Young Adult (18-39)'\n",
    "    elif age in adult:\n",
    "        return 'Adult (40-59)'\n",
    "    else:\n",
    "        return 'Older Adult (60+)'"
   ]
  },
  {
   "cell_type": "code",
   "execution_count": 9,
   "id": "04cb8914",
   "metadata": {},
   "outputs": [
    {
     "data": {
      "text/plain": [
       "Older Adult (60+)      0.451968\n",
       "Adult (40-59)          0.306246\n",
       "Young Adult (18-39)    0.241786\n",
       "Name: AgeCategory2, dtype: float64"
      ]
     },
     "execution_count": 9,
     "metadata": {},
     "output_type": "execute_result"
    }
   ],
   "source": [
    "# Create a new column with function\n",
    "heart['AgeCategory2'] = heart['AgeCategory'].apply(age_transform)\n",
    "\n",
    "# Check percentages in each category\n",
    "heart['AgeCategory2'].value_counts(normalize=True)"
   ]
  },
  {
   "cell_type": "markdown",
   "id": "27be12f9",
   "metadata": {},
   "source": [
    "#### <u>Race</u> has categories that can be condensed. \n",
    "   * 'Asian' & 'American Indian/Alaskan Native' can be combined with 'Other' "
   ]
  },
  {
   "cell_type": "code",
   "execution_count": 10,
   "id": "10fe7613",
   "metadata": {},
   "outputs": [
    {
     "data": {
      "text/plain": [
       "White                             0.766779\n",
       "Hispanic                          0.085824\n",
       "Black                             0.071730\n",
       "Other                             0.034172\n",
       "Asian                             0.025229\n",
       "American Indian/Alaskan Native    0.016267\n",
       "Name: Race, dtype: float64"
      ]
     },
     "execution_count": 10,
     "metadata": {},
     "output_type": "execute_result"
    }
   ],
   "source": [
    "heart['Race'].value_counts(normalize=True)"
   ]
  },
  {
   "cell_type": "code",
   "execution_count": 11,
   "id": "564b1d73",
   "metadata": {},
   "outputs": [
    {
     "data": {
      "text/plain": [
       "White       0.766779\n",
       "Hispanic    0.085824\n",
       "Other       0.075667\n",
       "Black       0.071730\n",
       "Name: Race, dtype: float64"
      ]
     },
     "execution_count": 11,
     "metadata": {},
     "output_type": "execute_result"
    }
   ],
   "source": [
    "# Replace values to condense the categories\n",
    "heart['Race'] = heart['Race'].replace(['Asian','American Indian/Alaskan Native'], 'Other')\n",
    "\n",
    "# Verify the changes\n",
    "heart['Race'].value_counts(normalize=True)"
   ]
  },
  {
   "cell_type": "markdown",
   "id": "06a4bd40",
   "metadata": {},
   "source": [
    "## Rename Yes-No Values with Descriptive Labels\n",
    "\n",
    "### Smoking\n",
    "   * Smoker / Non-Smoker"
   ]
  },
  {
   "cell_type": "code",
   "execution_count": 12,
   "id": "abf2e69f",
   "metadata": {},
   "outputs": [
    {
     "data": {
      "text/plain": [
       "Non-Smoker    187887\n",
       "Smoker        131908\n",
       "Name: Smoking2, dtype: int64"
      ]
     },
     "execution_count": 12,
     "metadata": {},
     "output_type": "execute_result"
    }
   ],
   "source": [
    "heart['Smoking2'] = heart['Smoking'].apply(lambda x: 'Smoker' if x == 'Yes' else 'Non-Smoker')\n",
    "\n",
    "heart['Smoking2'].value_counts()"
   ]
  },
  {
   "cell_type": "markdown",
   "id": "21b5d329",
   "metadata": {},
   "source": [
    "### AlcoholDrinking\n",
    "   * Drinks Alcohol / No Alcohol"
   ]
  },
  {
   "cell_type": "code",
   "execution_count": 13,
   "id": "66b68fb0",
   "metadata": {},
   "outputs": [
    {
     "data": {
      "text/plain": [
       "No Alcohol        298018\n",
       "Drinks Alcohol     21777\n",
       "Name: AlcoholDrinking2, dtype: int64"
      ]
     },
     "execution_count": 13,
     "metadata": {},
     "output_type": "execute_result"
    }
   ],
   "source": [
    "heart['AlcoholDrinking2'] = heart['AlcoholDrinking'].apply(lambda x: 'Drinks Alcohol' if x == 'Yes' else 'No Alcohol')\n",
    "\n",
    "heart['AlcoholDrinking2'].value_counts()"
   ]
  },
  {
   "cell_type": "markdown",
   "id": "76bf0c18",
   "metadata": {},
   "source": [
    "### Stroke\n",
    "   * Had Stroke(s) / No Stokes"
   ]
  },
  {
   "cell_type": "code",
   "execution_count": 14,
   "id": "4a2800f1",
   "metadata": {},
   "outputs": [
    {
     "data": {
      "text/plain": [
       "No Strokes       307726\n",
       "Had Stroke(s)     12069\n",
       "Name: Stroke2, dtype: int64"
      ]
     },
     "execution_count": 14,
     "metadata": {},
     "output_type": "execute_result"
    }
   ],
   "source": [
    "heart['Stroke2'] = heart['Stroke'].apply(lambda x: 'Had Stroke(s)' if x == 'Yes' else 'No Strokes')\n",
    "\n",
    "heart['Stroke2'].value_counts()"
   ]
  },
  {
   "cell_type": "markdown",
   "id": "3bffc3db",
   "metadata": {},
   "source": [
    "### DiffWalking\n",
    "   *  Difficulty Walking / Walks Well"
   ]
  },
  {
   "cell_type": "code",
   "execution_count": 15,
   "id": "b092fac7",
   "metadata": {},
   "outputs": [
    {
     "data": {
      "text/plain": [
       "Walks Well            275385\n",
       "Difficulty Walking     44410\n",
       "Name: DiffWalking2, dtype: int64"
      ]
     },
     "execution_count": 15,
     "metadata": {},
     "output_type": "execute_result"
    }
   ],
   "source": [
    "heart['DiffWalking2'] = heart['DiffWalking'].apply(lambda x: 'Difficulty Walking' if x == 'Yes' else 'Walks Well')\n",
    "\n",
    "heart['DiffWalking2'].value_counts()"
   ]
  },
  {
   "cell_type": "markdown",
   "id": "fadc6b24",
   "metadata": {},
   "source": [
    "### Diabetic\n",
    "   * Has/Had Diabeties / Never Diabetic"
   ]
  },
  {
   "cell_type": "code",
   "execution_count": 16,
   "id": "5f107dac",
   "metadata": {},
   "outputs": [
    {
     "data": {
      "text/plain": [
       "Never Diabetic       276434\n",
       "Has/Had Diabeties     43361\n",
       "Name: Diabetic2, dtype: int64"
      ]
     },
     "execution_count": 16,
     "metadata": {},
     "output_type": "execute_result"
    }
   ],
   "source": [
    "heart['Diabetic2'] = heart['Diabetic'].replace(['Yes', 'Yes (during pregnancy)'], 'Has/Had Diabeties')\n",
    "heart['Diabetic2'] = heart['Diabetic2'].replace(['No', 'No, borderline diabetes'], 'Never Diabetic')\n",
    "\n",
    "\n",
    "heart['Diabetic2'].value_counts()"
   ]
  },
  {
   "cell_type": "markdown",
   "id": "2a6fb285",
   "metadata": {},
   "source": [
    "### PhysicalActivity\n",
    "   * Physically Active / Sedentary"
   ]
  },
  {
   "cell_type": "code",
   "execution_count": 17,
   "id": "5592514d",
   "metadata": {},
   "outputs": [
    {
     "data": {
      "text/plain": [
       "Physically Active    247957\n",
       "Sedentary             71838\n",
       "Name: PhysicalActivity2, dtype: int64"
      ]
     },
     "execution_count": 17,
     "metadata": {},
     "output_type": "execute_result"
    }
   ],
   "source": [
    "heart['PhysicalActivity2'] = heart['PhysicalActivity'].apply(lambda x: 'Physically Active' if x == 'Yes' else 'Sedentary')\n",
    "\n",
    "heart['PhysicalActivity2'].value_counts()"
   ]
  },
  {
   "cell_type": "markdown",
   "id": "0b905a3c",
   "metadata": {},
   "source": [
    "### Asthma\n",
    "   * Has Asthma / No Asthma"
   ]
  },
  {
   "cell_type": "code",
   "execution_count": 18,
   "id": "087a62e4",
   "metadata": {},
   "outputs": [
    {
     "data": {
      "text/plain": [
       "No Asthma     276923\n",
       "Has Asthma     42872\n",
       "Name: Asthma2, dtype: int64"
      ]
     },
     "execution_count": 18,
     "metadata": {},
     "output_type": "execute_result"
    }
   ],
   "source": [
    "heart['Asthma2'] = heart['Asthma'].apply(lambda x: 'Has Asthma' if x == 'Yes' else 'No Asthma')\n",
    "\n",
    "heart['Asthma2'].value_counts()"
   ]
  },
  {
   "cell_type": "markdown",
   "id": "0adf24d1",
   "metadata": {},
   "source": [
    "### Kidney Disease\n",
    "   * Has Kidney Disease / No Kidney Disease"
   ]
  },
  {
   "cell_type": "code",
   "execution_count": 19,
   "id": "a12ae4a3",
   "metadata": {},
   "outputs": [
    {
     "data": {
      "text/plain": [
       "No Kidney Disease     308016\n",
       "Has Kidney Disease     11779\n",
       "Name: KidneyDisease2, dtype: int64"
      ]
     },
     "execution_count": 19,
     "metadata": {},
     "output_type": "execute_result"
    }
   ],
   "source": [
    "heart['KidneyDisease2'] = heart['KidneyDisease'].apply(lambda x: 'Has Kidney Disease' if x == 'Yes' else 'No Kidney Disease')\n",
    "\n",
    "heart['KidneyDisease2'].value_counts()"
   ]
  },
  {
   "cell_type": "markdown",
   "id": "d91cdfca",
   "metadata": {},
   "source": [
    "### SkinCancer\n",
    "   * Has Skin Cancer / No Skin Cancer"
   ]
  },
  {
   "cell_type": "code",
   "execution_count": 20,
   "id": "fa353c36",
   "metadata": {},
   "outputs": [
    {
     "data": {
      "text/plain": [
       "No Skin Cancer     289976\n",
       "Has Skin Cancer     29819\n",
       "Name: SkinCancer2, dtype: int64"
      ]
     },
     "execution_count": 20,
     "metadata": {},
     "output_type": "execute_result"
    }
   ],
   "source": [
    "heart['SkinCancer2'] = heart['SkinCancer'].apply(lambda x: 'Has Skin Cancer' if x == 'Yes' else 'No Skin Cancer')\n",
    "\n",
    "heart['SkinCancer2'].value_counts()"
   ]
  },
  {
   "cell_type": "markdown",
   "id": "73d0a26d",
   "metadata": {},
   "source": [
    "## Interaction Variables"
   ]
  },
  {
   "cell_type": "markdown",
   "id": "c7699696",
   "metadata": {},
   "source": [
    "#### Smoking vs AlcoholDrinking"
   ]
  },
  {
   "cell_type": "code",
   "execution_count": 21,
   "id": "5b884319",
   "metadata": {},
   "outputs": [
    {
     "data": {
      "text/plain": [
       "Non-Smoker_No Alcohol        179525\n",
       "Smoker_No Alcohol            118493\n",
       "Smoker_Drinks Alcohol         13415\n",
       "Non-Smoker_Drinks Alcohol      8362\n",
       "Name: Smoking_vs_AlcoholDrinking, dtype: int64"
      ]
     },
     "execution_count": 21,
     "metadata": {},
     "output_type": "execute_result"
    }
   ],
   "source": [
    "heart['Smoking_vs_AlcoholDrinking'] = heart['Smoking2'] + '_' + heart['AlcoholDrinking2']\n",
    "\n",
    "heart['Smoking_vs_AlcoholDrinking'].value_counts()"
   ]
  },
  {
   "cell_type": "markdown",
   "id": "a0dc6939",
   "metadata": {},
   "source": [
    "#### Smoking vs Stroke"
   ]
  },
  {
   "cell_type": "code",
   "execution_count": 22,
   "id": "5ee0382f",
   "metadata": {},
   "outputs": [
    {
     "data": {
      "text/plain": [
       "Non-Smoker_No Strokes       182633\n",
       "Smoker_No Strokes           125093\n",
       "Smoker_Had Stroke(s)          6815\n",
       "Non-Smoker_Had Stroke(s)      5254\n",
       "Name: Smoking_vs_Stroke, dtype: int64"
      ]
     },
     "execution_count": 22,
     "metadata": {},
     "output_type": "execute_result"
    }
   ],
   "source": [
    "heart['Smoking_vs_Stroke'] = heart['Smoking2'] + '_' + heart['Stroke2']\n",
    "\n",
    "heart['Smoking_vs_Stroke'].value_counts()"
   ]
  },
  {
   "cell_type": "markdown",
   "id": "c8f8542f",
   "metadata": {},
   "source": [
    "#### Smoking vs DiffWalking"
   ]
  },
  {
   "cell_type": "code",
   "execution_count": 23,
   "id": "3371ecf7",
   "metadata": {},
   "outputs": [
    {
     "data": {
      "text/plain": [
       "Non-Smoker_Walks Well            168332\n",
       "Smoker_Walks Well                107053\n",
       "Smoker_Difficulty Walking         24855\n",
       "Non-Smoker_Difficulty Walking     19555\n",
       "Name: Smoking_vs_Mobility, dtype: int64"
      ]
     },
     "execution_count": 23,
     "metadata": {},
     "output_type": "execute_result"
    }
   ],
   "source": [
    "heart['Smoking_vs_Mobility'] = heart['Smoking2'] + '_' + heart['DiffWalking2']\n",
    "\n",
    "heart['Smoking_vs_Mobility'].value_counts()"
   ]
  },
  {
   "cell_type": "markdown",
   "id": "1f17d30c",
   "metadata": {},
   "source": [
    "#### Smoking vs Diabetic"
   ]
  },
  {
   "cell_type": "code",
   "execution_count": 24,
   "id": "9b191fa7",
   "metadata": {},
   "outputs": [
    {
     "data": {
      "text/plain": [
       "Non-Smoker_Never Diabetic       165405\n",
       "Smoker_Never Diabetic           111029\n",
       "Non-Smoker_Has/Had Diabeties     22482\n",
       "Smoker_Has/Had Diabeties         20879\n",
       "Name: Smoking_vs_Diabeties, dtype: int64"
      ]
     },
     "execution_count": 24,
     "metadata": {},
     "output_type": "execute_result"
    }
   ],
   "source": [
    "heart['Smoking_vs_Diabeties'] = heart['Smoking2'] + '_' + heart['Diabetic2']\n",
    "\n",
    "heart['Smoking_vs_Diabeties'].value_counts()"
   ]
  },
  {
   "cell_type": "markdown",
   "id": "78c58ba9",
   "metadata": {},
   "source": [
    "#### Smoking vs PhysicalActivity"
   ]
  },
  {
   "cell_type": "code",
   "execution_count": 25,
   "id": "43d5446c",
   "metadata": {},
   "outputs": [
    {
     "data": {
      "text/plain": [
       "Physically Active_Non-Smoker    152065\n",
       "Physically Active_Smoker         95892\n",
       "Sedentary_Smoker                 36016\n",
       "Sedentary_Non-Smoker             35822\n",
       "Name: Smoking_vs_PhysicalActivity, dtype: int64"
      ]
     },
     "execution_count": 25,
     "metadata": {},
     "output_type": "execute_result"
    }
   ],
   "source": [
    "heart['Smoking_vs_PhysicalActivity'] = heart['PhysicalActivity2'] + '_' + heart['Smoking2']\n",
    "\n",
    "heart['Smoking_vs_PhysicalActivity'].value_counts()"
   ]
  },
  {
   "cell_type": "markdown",
   "id": "ed3d1291",
   "metadata": {},
   "source": [
    "#### Smoking vs Asthma"
   ]
  },
  {
   "cell_type": "code",
   "execution_count": 26,
   "id": "a5584999",
   "metadata": {},
   "outputs": [
    {
     "data": {
      "text/plain": [
       "Non-Smoker_No Asthma     163994\n",
       "Smoker_No Asthma         112929\n",
       "Non-Smoker_Has Asthma     23893\n",
       "Smoker_Has Asthma         18979\n",
       "Name: Smoking_vs_Asthma, dtype: int64"
      ]
     },
     "execution_count": 26,
     "metadata": {},
     "output_type": "execute_result"
    }
   ],
   "source": [
    "heart['Smoking_vs_Asthma'] = heart['Smoking2'] + '_' + heart['Asthma2']\n",
    "\n",
    "heart['Smoking_vs_Asthma'].value_counts()"
   ]
  },
  {
   "cell_type": "markdown",
   "id": "00fe9285",
   "metadata": {},
   "source": [
    "#### Smoking vs SkinCancer"
   ]
  },
  {
   "cell_type": "code",
   "execution_count": 27,
   "id": "d48556d2",
   "metadata": {},
   "outputs": [
    {
     "data": {
      "text/plain": [
       "Non-Smoker_No Skin Cancer     171923\n",
       "Smoker_No Skin Cancer         118053\n",
       "Non-Smoker_Has Skin Cancer     15964\n",
       "Smoker_Has Skin Cancer         13855\n",
       "Name: Smoking_vs_SkinCancer, dtype: int64"
      ]
     },
     "execution_count": 27,
     "metadata": {},
     "output_type": "execute_result"
    }
   ],
   "source": [
    "heart['Smoking_vs_SkinCancer'] = heart['Smoking2'] + '_' + heart['SkinCancer2']\n",
    "\n",
    "heart['Smoking_vs_SkinCancer'].value_counts()"
   ]
  },
  {
   "cell_type": "markdown",
   "id": "9ce24345",
   "metadata": {},
   "source": [
    "## New Crosstabs with Updated Variables"
   ]
  },
  {
   "cell_type": "code",
   "execution_count": 28,
   "id": "be6f19e7",
   "metadata": {
    "scrolled": false
   },
   "outputs": [
    {
     "name": "stdout",
     "output_type": "stream",
     "text": [
      "Smoking_vs_AlcoholDrinking Crosstab HeartDisease\n"
     ]
    },
    {
     "data": {
      "text/html": [
       "<div>\n",
       "<style scoped>\n",
       "    .dataframe tbody tr th:only-of-type {\n",
       "        vertical-align: middle;\n",
       "    }\n",
       "\n",
       "    .dataframe tbody tr th {\n",
       "        vertical-align: top;\n",
       "    }\n",
       "\n",
       "    .dataframe thead th {\n",
       "        text-align: right;\n",
       "    }\n",
       "</style>\n",
       "<table border=\"1\" class=\"dataframe\">\n",
       "  <thead>\n",
       "    <tr style=\"text-align: right;\">\n",
       "      <th>HeartDisease</th>\n",
       "      <th>No</th>\n",
       "      <th>Yes</th>\n",
       "    </tr>\n",
       "    <tr>\n",
       "      <th>Smoking_vs_AlcoholDrinking</th>\n",
       "      <th></th>\n",
       "      <th></th>\n",
       "    </tr>\n",
       "  </thead>\n",
       "  <tbody>\n",
       "    <tr>\n",
       "      <th>Non-Smoker_Drinks Alcohol</th>\n",
       "      <td>0.969983</td>\n",
       "      <td>0.030017</td>\n",
       "    </tr>\n",
       "    <tr>\n",
       "      <th>Non-Smoker_No Alcohol</th>\n",
       "      <td>0.938254</td>\n",
       "      <td>0.061746</td>\n",
       "    </tr>\n",
       "    <tr>\n",
       "      <th>Smoker_Drinks Alcohol</th>\n",
       "      <td>0.933656</td>\n",
       "      <td>0.066344</td>\n",
       "    </tr>\n",
       "    <tr>\n",
       "      <th>Smoker_No Alcohol</th>\n",
       "      <td>0.872170</td>\n",
       "      <td>0.127830</td>\n",
       "    </tr>\n",
       "  </tbody>\n",
       "</table>\n",
       "</div>"
      ],
      "text/plain": [
       "HeartDisease                      No       Yes\n",
       "Smoking_vs_AlcoholDrinking                    \n",
       "Non-Smoker_Drinks Alcohol   0.969983  0.030017\n",
       "Non-Smoker_No Alcohol       0.938254  0.061746\n",
       "Smoker_Drinks Alcohol       0.933656  0.066344\n",
       "Smoker_No Alcohol           0.872170  0.127830"
      ]
     },
     "metadata": {},
     "output_type": "display_data"
    },
    {
     "name": "stdout",
     "output_type": "stream",
     "text": [
      "\n",
      "Smoking_vs_Stroke Crosstab HeartDisease\n"
     ]
    },
    {
     "data": {
      "text/html": [
       "<div>\n",
       "<style scoped>\n",
       "    .dataframe tbody tr th:only-of-type {\n",
       "        vertical-align: middle;\n",
       "    }\n",
       "\n",
       "    .dataframe tbody tr th {\n",
       "        vertical-align: top;\n",
       "    }\n",
       "\n",
       "    .dataframe thead th {\n",
       "        text-align: right;\n",
       "    }\n",
       "</style>\n",
       "<table border=\"1\" class=\"dataframe\">\n",
       "  <thead>\n",
       "    <tr style=\"text-align: right;\">\n",
       "      <th>HeartDisease</th>\n",
       "      <th>No</th>\n",
       "      <th>Yes</th>\n",
       "    </tr>\n",
       "    <tr>\n",
       "      <th>Smoking_vs_Stroke</th>\n",
       "      <th></th>\n",
       "      <th></th>\n",
       "    </tr>\n",
       "  </thead>\n",
       "  <tbody>\n",
       "    <tr>\n",
       "      <th>Non-Smoker_Had Stroke(s)</th>\n",
       "      <td>0.683670</td>\n",
       "      <td>0.316330</td>\n",
       "    </tr>\n",
       "    <tr>\n",
       "      <th>Non-Smoker_No Strokes</th>\n",
       "      <td>0.947030</td>\n",
       "      <td>0.052970</td>\n",
       "    </tr>\n",
       "    <tr>\n",
       "      <th>Smoker_Had Stroke(s)</th>\n",
       "      <td>0.599853</td>\n",
       "      <td>0.400147</td>\n",
       "    </tr>\n",
       "    <tr>\n",
       "      <th>Smoker_No Strokes</th>\n",
       "      <td>0.893599</td>\n",
       "      <td>0.106401</td>\n",
       "    </tr>\n",
       "  </tbody>\n",
       "</table>\n",
       "</div>"
      ],
      "text/plain": [
       "HeartDisease                    No       Yes\n",
       "Smoking_vs_Stroke                           \n",
       "Non-Smoker_Had Stroke(s)  0.683670  0.316330\n",
       "Non-Smoker_No Strokes     0.947030  0.052970\n",
       "Smoker_Had Stroke(s)      0.599853  0.400147\n",
       "Smoker_No Strokes         0.893599  0.106401"
      ]
     },
     "metadata": {},
     "output_type": "display_data"
    },
    {
     "name": "stdout",
     "output_type": "stream",
     "text": [
      "\n",
      "Smoking_vs_Mobility Crosstab HeartDisease\n"
     ]
    },
    {
     "data": {
      "text/html": [
       "<div>\n",
       "<style scoped>\n",
       "    .dataframe tbody tr th:only-of-type {\n",
       "        vertical-align: middle;\n",
       "    }\n",
       "\n",
       "    .dataframe tbody tr th {\n",
       "        vertical-align: top;\n",
       "    }\n",
       "\n",
       "    .dataframe thead th {\n",
       "        text-align: right;\n",
       "    }\n",
       "</style>\n",
       "<table border=\"1\" class=\"dataframe\">\n",
       "  <thead>\n",
       "    <tr style=\"text-align: right;\">\n",
       "      <th>HeartDisease</th>\n",
       "      <th>No</th>\n",
       "      <th>Yes</th>\n",
       "    </tr>\n",
       "    <tr>\n",
       "      <th>Smoking_vs_Mobility</th>\n",
       "      <th></th>\n",
       "      <th></th>\n",
       "    </tr>\n",
       "  </thead>\n",
       "  <tbody>\n",
       "    <tr>\n",
       "      <th>Non-Smoker_Difficulty Walking</th>\n",
       "      <td>0.811455</td>\n",
       "      <td>0.188545</td>\n",
       "    </tr>\n",
       "    <tr>\n",
       "      <th>Non-Smoker_Walks Well</th>\n",
       "      <td>0.954560</td>\n",
       "      <td>0.045440</td>\n",
       "    </tr>\n",
       "    <tr>\n",
       "      <th>Smoker_Difficulty Walking</th>\n",
       "      <td>0.744880</td>\n",
       "      <td>0.255120</td>\n",
       "    </tr>\n",
       "    <tr>\n",
       "      <th>Smoker_Walks Well</th>\n",
       "      <td>0.909428</td>\n",
       "      <td>0.090572</td>\n",
       "    </tr>\n",
       "  </tbody>\n",
       "</table>\n",
       "</div>"
      ],
      "text/plain": [
       "HeartDisease                         No       Yes\n",
       "Smoking_vs_Mobility                              \n",
       "Non-Smoker_Difficulty Walking  0.811455  0.188545\n",
       "Non-Smoker_Walks Well          0.954560  0.045440\n",
       "Smoker_Difficulty Walking      0.744880  0.255120\n",
       "Smoker_Walks Well              0.909428  0.090572"
      ]
     },
     "metadata": {},
     "output_type": "display_data"
    },
    {
     "name": "stdout",
     "output_type": "stream",
     "text": [
      "\n",
      "Smoking_vs_Diabeties Crosstab HeartDisease\n"
     ]
    },
    {
     "data": {
      "text/html": [
       "<div>\n",
       "<style scoped>\n",
       "    .dataframe tbody tr th:only-of-type {\n",
       "        vertical-align: middle;\n",
       "    }\n",
       "\n",
       "    .dataframe tbody tr th {\n",
       "        vertical-align: top;\n",
       "    }\n",
       "\n",
       "    .dataframe thead th {\n",
       "        text-align: right;\n",
       "    }\n",
       "</style>\n",
       "<table border=\"1\" class=\"dataframe\">\n",
       "  <thead>\n",
       "    <tr style=\"text-align: right;\">\n",
       "      <th>HeartDisease</th>\n",
       "      <th>No</th>\n",
       "      <th>Yes</th>\n",
       "    </tr>\n",
       "    <tr>\n",
       "      <th>Smoking_vs_Diabeties</th>\n",
       "      <th></th>\n",
       "      <th></th>\n",
       "    </tr>\n",
       "  </thead>\n",
       "  <tbody>\n",
       "    <tr>\n",
       "      <th>Non-Smoker_Has/Had Diabeties</th>\n",
       "      <td>0.839561</td>\n",
       "      <td>0.160439</td>\n",
       "    </tr>\n",
       "    <tr>\n",
       "      <th>Non-Smoker_Never Diabetic</th>\n",
       "      <td>0.953272</td>\n",
       "      <td>0.046728</td>\n",
       "    </tr>\n",
       "    <tr>\n",
       "      <th>Smoker_Has/Had Diabeties</th>\n",
       "      <td>0.738589</td>\n",
       "      <td>0.261411</td>\n",
       "    </tr>\n",
       "    <tr>\n",
       "      <th>Smoker_Never Diabetic</th>\n",
       "      <td>0.904719</td>\n",
       "      <td>0.095281</td>\n",
       "    </tr>\n",
       "  </tbody>\n",
       "</table>\n",
       "</div>"
      ],
      "text/plain": [
       "HeartDisease                        No       Yes\n",
       "Smoking_vs_Diabeties                            \n",
       "Non-Smoker_Has/Had Diabeties  0.839561  0.160439\n",
       "Non-Smoker_Never Diabetic     0.953272  0.046728\n",
       "Smoker_Has/Had Diabeties      0.738589  0.261411\n",
       "Smoker_Never Diabetic         0.904719  0.095281"
      ]
     },
     "metadata": {},
     "output_type": "display_data"
    },
    {
     "name": "stdout",
     "output_type": "stream",
     "text": [
      "\n",
      "Smoking_vs_PhysicalActivity Crosstab HeartDisease\n"
     ]
    },
    {
     "data": {
      "text/html": [
       "<div>\n",
       "<style scoped>\n",
       "    .dataframe tbody tr th:only-of-type {\n",
       "        vertical-align: middle;\n",
       "    }\n",
       "\n",
       "    .dataframe tbody tr th {\n",
       "        vertical-align: top;\n",
       "    }\n",
       "\n",
       "    .dataframe thead th {\n",
       "        text-align: right;\n",
       "    }\n",
       "</style>\n",
       "<table border=\"1\" class=\"dataframe\">\n",
       "  <thead>\n",
       "    <tr style=\"text-align: right;\">\n",
       "      <th>HeartDisease</th>\n",
       "      <th>No</th>\n",
       "      <th>Yes</th>\n",
       "    </tr>\n",
       "    <tr>\n",
       "      <th>Smoking_vs_PhysicalActivity</th>\n",
       "      <th></th>\n",
       "      <th></th>\n",
       "    </tr>\n",
       "  </thead>\n",
       "  <tbody>\n",
       "    <tr>\n",
       "      <th>Physically Active_Non-Smoker</th>\n",
       "      <td>0.949357</td>\n",
       "      <td>0.050643</td>\n",
       "    </tr>\n",
       "    <tr>\n",
       "      <th>Physically Active_Smoker</th>\n",
       "      <td>0.897927</td>\n",
       "      <td>0.102073</td>\n",
       "    </tr>\n",
       "    <tr>\n",
       "      <th>Sedentary_Non-Smoker</th>\n",
       "      <td>0.898526</td>\n",
       "      <td>0.101474</td>\n",
       "    </tr>\n",
       "    <tr>\n",
       "      <th>Sedentary_Smoker</th>\n",
       "      <td>0.826494</td>\n",
       "      <td>0.173506</td>\n",
       "    </tr>\n",
       "  </tbody>\n",
       "</table>\n",
       "</div>"
      ],
      "text/plain": [
       "HeartDisease                        No       Yes\n",
       "Smoking_vs_PhysicalActivity                     \n",
       "Physically Active_Non-Smoker  0.949357  0.050643\n",
       "Physically Active_Smoker      0.897927  0.102073\n",
       "Sedentary_Non-Smoker          0.898526  0.101474\n",
       "Sedentary_Smoker              0.826494  0.173506"
      ]
     },
     "metadata": {},
     "output_type": "display_data"
    },
    {
     "name": "stdout",
     "output_type": "stream",
     "text": [
      "\n",
      "Smoking_vs_Asthma Crosstab HeartDisease\n"
     ]
    },
    {
     "data": {
      "text/html": [
       "<div>\n",
       "<style scoped>\n",
       "    .dataframe tbody tr th:only-of-type {\n",
       "        vertical-align: middle;\n",
       "    }\n",
       "\n",
       "    .dataframe tbody tr th {\n",
       "        vertical-align: top;\n",
       "    }\n",
       "\n",
       "    .dataframe thead th {\n",
       "        text-align: right;\n",
       "    }\n",
       "</style>\n",
       "<table border=\"1\" class=\"dataframe\">\n",
       "  <thead>\n",
       "    <tr style=\"text-align: right;\">\n",
       "      <th>HeartDisease</th>\n",
       "      <th>No</th>\n",
       "      <th>Yes</th>\n",
       "    </tr>\n",
       "    <tr>\n",
       "      <th>Smoking_vs_Asthma</th>\n",
       "      <th></th>\n",
       "      <th></th>\n",
       "    </tr>\n",
       "  </thead>\n",
       "  <tbody>\n",
       "    <tr>\n",
       "      <th>Non-Smoker_Has Asthma</th>\n",
       "      <td>0.919600</td>\n",
       "      <td>0.080400</td>\n",
       "    </tr>\n",
       "    <tr>\n",
       "      <th>Non-Smoker_No Asthma</th>\n",
       "      <td>0.942589</td>\n",
       "      <td>0.057411</td>\n",
       "    </tr>\n",
       "    <tr>\n",
       "      <th>Smoker_Has Asthma</th>\n",
       "      <td>0.841298</td>\n",
       "      <td>0.158702</td>\n",
       "    </tr>\n",
       "    <tr>\n",
       "      <th>Smoker_No Asthma</th>\n",
       "      <td>0.884662</td>\n",
       "      <td>0.115338</td>\n",
       "    </tr>\n",
       "  </tbody>\n",
       "</table>\n",
       "</div>"
      ],
      "text/plain": [
       "HeartDisease                 No       Yes\n",
       "Smoking_vs_Asthma                        \n",
       "Non-Smoker_Has Asthma  0.919600  0.080400\n",
       "Non-Smoker_No Asthma   0.942589  0.057411\n",
       "Smoker_Has Asthma      0.841298  0.158702\n",
       "Smoker_No Asthma       0.884662  0.115338"
      ]
     },
     "metadata": {},
     "output_type": "display_data"
    },
    {
     "name": "stdout",
     "output_type": "stream",
     "text": [
      "\n",
      "Smoking_vs_SkinCancer Crosstab HeartDisease\n"
     ]
    },
    {
     "data": {
      "text/html": [
       "<div>\n",
       "<style scoped>\n",
       "    .dataframe tbody tr th:only-of-type {\n",
       "        vertical-align: middle;\n",
       "    }\n",
       "\n",
       "    .dataframe tbody tr th {\n",
       "        vertical-align: top;\n",
       "    }\n",
       "\n",
       "    .dataframe thead th {\n",
       "        text-align: right;\n",
       "    }\n",
       "</style>\n",
       "<table border=\"1\" class=\"dataframe\">\n",
       "  <thead>\n",
       "    <tr style=\"text-align: right;\">\n",
       "      <th>HeartDisease</th>\n",
       "      <th>No</th>\n",
       "      <th>Yes</th>\n",
       "    </tr>\n",
       "    <tr>\n",
       "      <th>Smoking_vs_SkinCancer</th>\n",
       "      <th></th>\n",
       "      <th></th>\n",
       "    </tr>\n",
       "  </thead>\n",
       "  <tbody>\n",
       "    <tr>\n",
       "      <th>Non-Smoker_Has Skin Cancer</th>\n",
       "      <td>0.867765</td>\n",
       "      <td>0.132235</td>\n",
       "    </tr>\n",
       "    <tr>\n",
       "      <th>Non-Smoker_No Skin Cancer</th>\n",
       "      <td>0.946342</td>\n",
       "      <td>0.053658</td>\n",
       "    </tr>\n",
       "    <tr>\n",
       "      <th>Smoker_Has Skin Cancer</th>\n",
       "      <td>0.792927</td>\n",
       "      <td>0.207073</td>\n",
       "    </tr>\n",
       "    <tr>\n",
       "      <th>Smoker_No Skin Cancer</th>\n",
       "      <td>0.888457</td>\n",
       "      <td>0.111543</td>\n",
       "    </tr>\n",
       "  </tbody>\n",
       "</table>\n",
       "</div>"
      ],
      "text/plain": [
       "HeartDisease                      No       Yes\n",
       "Smoking_vs_SkinCancer                         \n",
       "Non-Smoker_Has Skin Cancer  0.867765  0.132235\n",
       "Non-Smoker_No Skin Cancer   0.946342  0.053658\n",
       "Smoker_Has Skin Cancer      0.792927  0.207073\n",
       "Smoker_No Skin Cancer       0.888457  0.111543"
      ]
     },
     "metadata": {},
     "output_type": "display_data"
    },
    {
     "name": "stdout",
     "output_type": "stream",
     "text": [
      "\n",
      "Smoking2 Crosstab HeartDisease\n"
     ]
    },
    {
     "data": {
      "text/html": [
       "<div>\n",
       "<style scoped>\n",
       "    .dataframe tbody tr th:only-of-type {\n",
       "        vertical-align: middle;\n",
       "    }\n",
       "\n",
       "    .dataframe tbody tr th {\n",
       "        vertical-align: top;\n",
       "    }\n",
       "\n",
       "    .dataframe thead th {\n",
       "        text-align: right;\n",
       "    }\n",
       "</style>\n",
       "<table border=\"1\" class=\"dataframe\">\n",
       "  <thead>\n",
       "    <tr style=\"text-align: right;\">\n",
       "      <th>HeartDisease</th>\n",
       "      <th>No</th>\n",
       "      <th>Yes</th>\n",
       "    </tr>\n",
       "    <tr>\n",
       "      <th>Smoking2</th>\n",
       "      <th></th>\n",
       "      <th></th>\n",
       "    </tr>\n",
       "  </thead>\n",
       "  <tbody>\n",
       "    <tr>\n",
       "      <th>Non-Smoker</th>\n",
       "      <td>0.939666</td>\n",
       "      <td>0.060334</td>\n",
       "    </tr>\n",
       "    <tr>\n",
       "      <th>Smoker</th>\n",
       "      <td>0.878423</td>\n",
       "      <td>0.121577</td>\n",
       "    </tr>\n",
       "  </tbody>\n",
       "</table>\n",
       "</div>"
      ],
      "text/plain": [
       "HeartDisease        No       Yes\n",
       "Smoking2                        \n",
       "Non-Smoker    0.939666  0.060334\n",
       "Smoker        0.878423  0.121577"
      ]
     },
     "metadata": {},
     "output_type": "display_data"
    },
    {
     "name": "stdout",
     "output_type": "stream",
     "text": [
      "\n",
      "AlcoholDrinking2 Crosstab HeartDisease\n"
     ]
    },
    {
     "data": {
      "text/html": [
       "<div>\n",
       "<style scoped>\n",
       "    .dataframe tbody tr th:only-of-type {\n",
       "        vertical-align: middle;\n",
       "    }\n",
       "\n",
       "    .dataframe tbody tr th {\n",
       "        vertical-align: top;\n",
       "    }\n",
       "\n",
       "    .dataframe thead th {\n",
       "        text-align: right;\n",
       "    }\n",
       "</style>\n",
       "<table border=\"1\" class=\"dataframe\">\n",
       "  <thead>\n",
       "    <tr style=\"text-align: right;\">\n",
       "      <th>HeartDisease</th>\n",
       "      <th>No</th>\n",
       "      <th>Yes</th>\n",
       "    </tr>\n",
       "    <tr>\n",
       "      <th>AlcoholDrinking2</th>\n",
       "      <th></th>\n",
       "      <th></th>\n",
       "    </tr>\n",
       "  </thead>\n",
       "  <tbody>\n",
       "    <tr>\n",
       "      <th>Drinks Alcohol</th>\n",
       "      <td>0.947605</td>\n",
       "      <td>0.052395</td>\n",
       "    </tr>\n",
       "    <tr>\n",
       "      <th>No Alcohol</th>\n",
       "      <td>0.911978</td>\n",
       "      <td>0.088022</td>\n",
       "    </tr>\n",
       "  </tbody>\n",
       "</table>\n",
       "</div>"
      ],
      "text/plain": [
       "HeartDisease            No       Yes\n",
       "AlcoholDrinking2                    \n",
       "Drinks Alcohol    0.947605  0.052395\n",
       "No Alcohol        0.911978  0.088022"
      ]
     },
     "metadata": {},
     "output_type": "display_data"
    },
    {
     "name": "stdout",
     "output_type": "stream",
     "text": [
      "\n",
      "Stroke2 Crosstab HeartDisease\n"
     ]
    },
    {
     "data": {
      "text/html": [
       "<div>\n",
       "<style scoped>\n",
       "    .dataframe tbody tr th:only-of-type {\n",
       "        vertical-align: middle;\n",
       "    }\n",
       "\n",
       "    .dataframe tbody tr th {\n",
       "        vertical-align: top;\n",
       "    }\n",
       "\n",
       "    .dataframe thead th {\n",
       "        text-align: right;\n",
       "    }\n",
       "</style>\n",
       "<table border=\"1\" class=\"dataframe\">\n",
       "  <thead>\n",
       "    <tr style=\"text-align: right;\">\n",
       "      <th>HeartDisease</th>\n",
       "      <th>No</th>\n",
       "      <th>Yes</th>\n",
       "    </tr>\n",
       "    <tr>\n",
       "      <th>Stroke2</th>\n",
       "      <th></th>\n",
       "      <th></th>\n",
       "    </tr>\n",
       "  </thead>\n",
       "  <tbody>\n",
       "    <tr>\n",
       "      <th>Had Stroke(s)</th>\n",
       "      <td>0.636341</td>\n",
       "      <td>0.363659</td>\n",
       "    </tr>\n",
       "    <tr>\n",
       "      <th>No Strokes</th>\n",
       "      <td>0.925310</td>\n",
       "      <td>0.074690</td>\n",
       "    </tr>\n",
       "  </tbody>\n",
       "</table>\n",
       "</div>"
      ],
      "text/plain": [
       "HeartDisease         No       Yes\n",
       "Stroke2                          \n",
       "Had Stroke(s)  0.636341  0.363659\n",
       "No Strokes     0.925310  0.074690"
      ]
     },
     "metadata": {},
     "output_type": "display_data"
    },
    {
     "name": "stdout",
     "output_type": "stream",
     "text": [
      "\n",
      "DiffWalking2 Crosstab HeartDisease\n"
     ]
    },
    {
     "data": {
      "text/html": [
       "<div>\n",
       "<style scoped>\n",
       "    .dataframe tbody tr th:only-of-type {\n",
       "        vertical-align: middle;\n",
       "    }\n",
       "\n",
       "    .dataframe tbody tr th {\n",
       "        vertical-align: top;\n",
       "    }\n",
       "\n",
       "    .dataframe thead th {\n",
       "        text-align: right;\n",
       "    }\n",
       "</style>\n",
       "<table border=\"1\" class=\"dataframe\">\n",
       "  <thead>\n",
       "    <tr style=\"text-align: right;\">\n",
       "      <th>HeartDisease</th>\n",
       "      <th>No</th>\n",
       "      <th>Yes</th>\n",
       "    </tr>\n",
       "    <tr>\n",
       "      <th>DiffWalking2</th>\n",
       "      <th></th>\n",
       "      <th></th>\n",
       "    </tr>\n",
       "  </thead>\n",
       "  <tbody>\n",
       "    <tr>\n",
       "      <th>Difficulty Walking</th>\n",
       "      <td>0.774195</td>\n",
       "      <td>0.225805</td>\n",
       "    </tr>\n",
       "    <tr>\n",
       "      <th>Walks Well</th>\n",
       "      <td>0.937015</td>\n",
       "      <td>0.062985</td>\n",
       "    </tr>\n",
       "  </tbody>\n",
       "</table>\n",
       "</div>"
      ],
      "text/plain": [
       "HeartDisease              No       Yes\n",
       "DiffWalking2                          \n",
       "Difficulty Walking  0.774195  0.225805\n",
       "Walks Well          0.937015  0.062985"
      ]
     },
     "metadata": {},
     "output_type": "display_data"
    },
    {
     "name": "stdout",
     "output_type": "stream",
     "text": [
      "\n",
      "AgeCategory2 Crosstab HeartDisease\n"
     ]
    },
    {
     "data": {
      "text/html": [
       "<div>\n",
       "<style scoped>\n",
       "    .dataframe tbody tr th:only-of-type {\n",
       "        vertical-align: middle;\n",
       "    }\n",
       "\n",
       "    .dataframe tbody tr th {\n",
       "        vertical-align: top;\n",
       "    }\n",
       "\n",
       "    .dataframe thead th {\n",
       "        text-align: right;\n",
       "    }\n",
       "</style>\n",
       "<table border=\"1\" class=\"dataframe\">\n",
       "  <thead>\n",
       "    <tr style=\"text-align: right;\">\n",
       "      <th>HeartDisease</th>\n",
       "      <th>No</th>\n",
       "      <th>Yes</th>\n",
       "    </tr>\n",
       "    <tr>\n",
       "      <th>AgeCategory2</th>\n",
       "      <th></th>\n",
       "      <th></th>\n",
       "    </tr>\n",
       "  </thead>\n",
       "  <tbody>\n",
       "    <tr>\n",
       "      <th>Adult (40-59)</th>\n",
       "      <td>0.950835</td>\n",
       "      <td>0.049165</td>\n",
       "    </tr>\n",
       "    <tr>\n",
       "      <th>Older Adult (60+)</th>\n",
       "      <td>0.849360</td>\n",
       "      <td>0.150640</td>\n",
       "    </tr>\n",
       "    <tr>\n",
       "      <th>Young Adult (18-39)</th>\n",
       "      <td>0.989848</td>\n",
       "      <td>0.010152</td>\n",
       "    </tr>\n",
       "  </tbody>\n",
       "</table>\n",
       "</div>"
      ],
      "text/plain": [
       "HeartDisease               No       Yes\n",
       "AgeCategory2                           \n",
       "Adult (40-59)        0.950835  0.049165\n",
       "Older Adult (60+)    0.849360  0.150640\n",
       "Young Adult (18-39)  0.989848  0.010152"
      ]
     },
     "metadata": {},
     "output_type": "display_data"
    },
    {
     "name": "stdout",
     "output_type": "stream",
     "text": [
      "\n",
      "Diabetic2 Crosstab HeartDisease\n"
     ]
    },
    {
     "data": {
      "text/html": [
       "<div>\n",
       "<style scoped>\n",
       "    .dataframe tbody tr th:only-of-type {\n",
       "        vertical-align: middle;\n",
       "    }\n",
       "\n",
       "    .dataframe tbody tr th {\n",
       "        vertical-align: top;\n",
       "    }\n",
       "\n",
       "    .dataframe thead th {\n",
       "        text-align: right;\n",
       "    }\n",
       "</style>\n",
       "<table border=\"1\" class=\"dataframe\">\n",
       "  <thead>\n",
       "    <tr style=\"text-align: right;\">\n",
       "      <th>HeartDisease</th>\n",
       "      <th>No</th>\n",
       "      <th>Yes</th>\n",
       "    </tr>\n",
       "    <tr>\n",
       "      <th>Diabetic2</th>\n",
       "      <th></th>\n",
       "      <th></th>\n",
       "    </tr>\n",
       "  </thead>\n",
       "  <tbody>\n",
       "    <tr>\n",
       "      <th>Has/Had Diabeties</th>\n",
       "      <td>0.790941</td>\n",
       "      <td>0.209059</td>\n",
       "    </tr>\n",
       "    <tr>\n",
       "      <th>Never Diabetic</th>\n",
       "      <td>0.933771</td>\n",
       "      <td>0.066229</td>\n",
       "    </tr>\n",
       "  </tbody>\n",
       "</table>\n",
       "</div>"
      ],
      "text/plain": [
       "HeartDisease             No       Yes\n",
       "Diabetic2                            \n",
       "Has/Had Diabeties  0.790941  0.209059\n",
       "Never Diabetic     0.933771  0.066229"
      ]
     },
     "metadata": {},
     "output_type": "display_data"
    },
    {
     "name": "stdout",
     "output_type": "stream",
     "text": [
      "\n",
      "PhysicalActivity2 Crosstab HeartDisease\n"
     ]
    },
    {
     "data": {
      "text/html": [
       "<div>\n",
       "<style scoped>\n",
       "    .dataframe tbody tr th:only-of-type {\n",
       "        vertical-align: middle;\n",
       "    }\n",
       "\n",
       "    .dataframe tbody tr th {\n",
       "        vertical-align: top;\n",
       "    }\n",
       "\n",
       "    .dataframe thead th {\n",
       "        text-align: right;\n",
       "    }\n",
       "</style>\n",
       "<table border=\"1\" class=\"dataframe\">\n",
       "  <thead>\n",
       "    <tr style=\"text-align: right;\">\n",
       "      <th>HeartDisease</th>\n",
       "      <th>No</th>\n",
       "      <th>Yes</th>\n",
       "    </tr>\n",
       "    <tr>\n",
       "      <th>PhysicalActivity2</th>\n",
       "      <th></th>\n",
       "      <th></th>\n",
       "    </tr>\n",
       "  </thead>\n",
       "  <tbody>\n",
       "    <tr>\n",
       "      <th>Physically Active</th>\n",
       "      <td>0.929468</td>\n",
       "      <td>0.070532</td>\n",
       "    </tr>\n",
       "    <tr>\n",
       "      <th>Sedentary</th>\n",
       "      <td>0.862413</td>\n",
       "      <td>0.137587</td>\n",
       "    </tr>\n",
       "  </tbody>\n",
       "</table>\n",
       "</div>"
      ],
      "text/plain": [
       "HeartDisease             No       Yes\n",
       "PhysicalActivity2                    \n",
       "Physically Active  0.929468  0.070532\n",
       "Sedentary          0.862413  0.137587"
      ]
     },
     "metadata": {},
     "output_type": "display_data"
    },
    {
     "name": "stdout",
     "output_type": "stream",
     "text": [
      "\n",
      "Asthma2 Crosstab HeartDisease\n"
     ]
    },
    {
     "data": {
      "text/html": [
       "<div>\n",
       "<style scoped>\n",
       "    .dataframe tbody tr th:only-of-type {\n",
       "        vertical-align: middle;\n",
       "    }\n",
       "\n",
       "    .dataframe tbody tr th {\n",
       "        vertical-align: top;\n",
       "    }\n",
       "\n",
       "    .dataframe thead th {\n",
       "        text-align: right;\n",
       "    }\n",
       "</style>\n",
       "<table border=\"1\" class=\"dataframe\">\n",
       "  <thead>\n",
       "    <tr style=\"text-align: right;\">\n",
       "      <th>HeartDisease</th>\n",
       "      <th>No</th>\n",
       "      <th>Yes</th>\n",
       "    </tr>\n",
       "    <tr>\n",
       "      <th>Asthma2</th>\n",
       "      <th></th>\n",
       "      <th></th>\n",
       "    </tr>\n",
       "  </thead>\n",
       "  <tbody>\n",
       "    <tr>\n",
       "      <th>Has Asthma</th>\n",
       "      <td>0.884937</td>\n",
       "      <td>0.115063</td>\n",
       "    </tr>\n",
       "    <tr>\n",
       "      <th>No Asthma</th>\n",
       "      <td>0.918967</td>\n",
       "      <td>0.081033</td>\n",
       "    </tr>\n",
       "  </tbody>\n",
       "</table>\n",
       "</div>"
      ],
      "text/plain": [
       "HeartDisease        No       Yes\n",
       "Asthma2                         \n",
       "Has Asthma    0.884937  0.115063\n",
       "No Asthma     0.918967  0.081033"
      ]
     },
     "metadata": {},
     "output_type": "display_data"
    },
    {
     "name": "stdout",
     "output_type": "stream",
     "text": [
      "\n",
      "KidneyDisease2 Crosstab HeartDisease\n"
     ]
    },
    {
     "data": {
      "text/html": [
       "<div>\n",
       "<style scoped>\n",
       "    .dataframe tbody tr th:only-of-type {\n",
       "        vertical-align: middle;\n",
       "    }\n",
       "\n",
       "    .dataframe tbody tr th {\n",
       "        vertical-align: top;\n",
       "    }\n",
       "\n",
       "    .dataframe thead th {\n",
       "        text-align: right;\n",
       "    }\n",
       "</style>\n",
       "<table border=\"1\" class=\"dataframe\">\n",
       "  <thead>\n",
       "    <tr style=\"text-align: right;\">\n",
       "      <th>HeartDisease</th>\n",
       "      <th>No</th>\n",
       "      <th>Yes</th>\n",
       "    </tr>\n",
       "    <tr>\n",
       "      <th>KidneyDisease2</th>\n",
       "      <th></th>\n",
       "      <th></th>\n",
       "    </tr>\n",
       "  </thead>\n",
       "  <tbody>\n",
       "    <tr>\n",
       "      <th>Has Kidney Disease</th>\n",
       "      <td>0.706681</td>\n",
       "      <td>0.293319</td>\n",
       "    </tr>\n",
       "    <tr>\n",
       "      <th>No Kidney Disease</th>\n",
       "      <td>0.922348</td>\n",
       "      <td>0.077652</td>\n",
       "    </tr>\n",
       "  </tbody>\n",
       "</table>\n",
       "</div>"
      ],
      "text/plain": [
       "HeartDisease              No       Yes\n",
       "KidneyDisease2                        \n",
       "Has Kidney Disease  0.706681  0.293319\n",
       "No Kidney Disease   0.922348  0.077652"
      ]
     },
     "metadata": {},
     "output_type": "display_data"
    },
    {
     "name": "stdout",
     "output_type": "stream",
     "text": [
      "\n",
      "SkinCancer2 Crosstab HeartDisease\n"
     ]
    },
    {
     "data": {
      "text/html": [
       "<div>\n",
       "<style scoped>\n",
       "    .dataframe tbody tr th:only-of-type {\n",
       "        vertical-align: middle;\n",
       "    }\n",
       "\n",
       "    .dataframe tbody tr th {\n",
       "        vertical-align: top;\n",
       "    }\n",
       "\n",
       "    .dataframe thead th {\n",
       "        text-align: right;\n",
       "    }\n",
       "</style>\n",
       "<table border=\"1\" class=\"dataframe\">\n",
       "  <thead>\n",
       "    <tr style=\"text-align: right;\">\n",
       "      <th>HeartDisease</th>\n",
       "      <th>No</th>\n",
       "      <th>Yes</th>\n",
       "    </tr>\n",
       "    <tr>\n",
       "      <th>SkinCancer2</th>\n",
       "      <th></th>\n",
       "      <th></th>\n",
       "    </tr>\n",
       "  </thead>\n",
       "  <tbody>\n",
       "    <tr>\n",
       "      <th>Has Skin Cancer</th>\n",
       "      <td>0.832992</td>\n",
       "      <td>0.167008</td>\n",
       "    </tr>\n",
       "    <tr>\n",
       "      <th>No Skin Cancer</th>\n",
       "      <td>0.922776</td>\n",
       "      <td>0.077224</td>\n",
       "    </tr>\n",
       "  </tbody>\n",
       "</table>\n",
       "</div>"
      ],
      "text/plain": [
       "HeartDisease           No       Yes\n",
       "SkinCancer2                        \n",
       "Has Skin Cancer  0.832992  0.167008\n",
       "No Skin Cancer   0.922776  0.077224"
      ]
     },
     "metadata": {},
     "output_type": "display_data"
    },
    {
     "name": "stdout",
     "output_type": "stream",
     "text": [
      "\n"
     ]
    }
   ],
   "source": [
    "# Categorical variables of interest\n",
    "cat_cols = ['Smoking_vs_AlcoholDrinking', 'Smoking_vs_Stroke', 'Smoking_vs_Mobility', 'Smoking_vs_Diabeties',\n",
    "            'Smoking_vs_PhysicalActivity', 'Smoking_vs_Asthma','Smoking_vs_SkinCancer', 'Smoking2', 'AlcoholDrinking2', \n",
    "            'Stroke2','DiffWalking2', 'AgeCategory2', 'Diabetic2', 'PhysicalActivity2', 'Asthma2', 'KidneyDisease2', 'SkinCancer2']\n",
    "\n",
    "# Loop through the list of categorical variables and output crosstabs against the target variable\n",
    "for col in cat_cols:\n",
    "    print(f'{col} Crosstab HeartDisease')\n",
    "    display(pd.crosstab(heart[col], heart['HeartDisease'], normalize='index'))\n",
    "    print('')"
   ]
  },
  {
   "cell_type": "markdown",
   "id": "d9e757c9",
   "metadata": {},
   "source": [
    "## Correlation Matrix"
   ]
  },
  {
   "cell_type": "code",
   "execution_count": 29,
   "id": "6c8d5d9a",
   "metadata": {},
   "outputs": [
    {
     "data": {
      "text/html": [
       "<div>\n",
       "<style scoped>\n",
       "    .dataframe tbody tr th:only-of-type {\n",
       "        vertical-align: middle;\n",
       "    }\n",
       "\n",
       "    .dataframe tbody tr th {\n",
       "        vertical-align: top;\n",
       "    }\n",
       "\n",
       "    .dataframe thead th {\n",
       "        text-align: right;\n",
       "    }\n",
       "</style>\n",
       "<table border=\"1\" class=\"dataframe\">\n",
       "  <thead>\n",
       "    <tr style=\"text-align: right;\">\n",
       "      <th></th>\n",
       "      <th>BMI</th>\n",
       "      <th>PhysicalHealth</th>\n",
       "      <th>MentalHealth</th>\n",
       "      <th>SleepTime</th>\n",
       "    </tr>\n",
       "  </thead>\n",
       "  <tbody>\n",
       "    <tr>\n",
       "      <th>BMI</th>\n",
       "      <td>1.000000</td>\n",
       "      <td>0.109788</td>\n",
       "      <td>0.064131</td>\n",
       "      <td>-0.051822</td>\n",
       "    </tr>\n",
       "    <tr>\n",
       "      <th>PhysicalHealth</th>\n",
       "      <td>0.109788</td>\n",
       "      <td>1.000000</td>\n",
       "      <td>0.287987</td>\n",
       "      <td>-0.061387</td>\n",
       "    </tr>\n",
       "    <tr>\n",
       "      <th>MentalHealth</th>\n",
       "      <td>0.064131</td>\n",
       "      <td>0.287987</td>\n",
       "      <td>1.000000</td>\n",
       "      <td>-0.119717</td>\n",
       "    </tr>\n",
       "    <tr>\n",
       "      <th>SleepTime</th>\n",
       "      <td>-0.051822</td>\n",
       "      <td>-0.061387</td>\n",
       "      <td>-0.119717</td>\n",
       "      <td>1.000000</td>\n",
       "    </tr>\n",
       "  </tbody>\n",
       "</table>\n",
       "</div>"
      ],
      "text/plain": [
       "                     BMI  PhysicalHealth  MentalHealth  SleepTime\n",
       "BMI             1.000000        0.109788      0.064131  -0.051822\n",
       "PhysicalHealth  0.109788        1.000000      0.287987  -0.061387\n",
       "MentalHealth    0.064131        0.287987      1.000000  -0.119717\n",
       "SleepTime      -0.051822       -0.061387     -0.119717   1.000000"
      ]
     },
     "execution_count": 29,
     "metadata": {},
     "output_type": "execute_result"
    }
   ],
   "source": [
    "heart.corr()"
   ]
  },
  {
   "cell_type": "markdown",
   "id": "0b4ce810",
   "metadata": {},
   "source": [
    "## Export New Dataframe"
   ]
  },
  {
   "cell_type": "code",
   "execution_count": 30,
   "id": "72514d3a",
   "metadata": {},
   "outputs": [
    {
     "data": {
      "text/plain": [
       "Index(['HeartDisease', 'BMI', 'Smoking', 'AlcoholDrinking', 'Stroke',\n",
       "       'PhysicalHealth', 'MentalHealth', 'DiffWalking', 'Sex', 'AgeCategory',\n",
       "       'Race', 'Diabetic', 'PhysicalActivity', 'GenHealth', 'SleepTime',\n",
       "       'Asthma', 'KidneyDisease', 'SkinCancer', 'AgeCategory2', 'Smoking2',\n",
       "       'AlcoholDrinking2', 'Stroke2', 'DiffWalking2', 'Diabetic2',\n",
       "       'PhysicalActivity2', 'Asthma2', 'KidneyDisease2', 'SkinCancer2',\n",
       "       'Smoking_vs_AlcoholDrinking', 'Smoking_vs_Stroke',\n",
       "       'Smoking_vs_Mobility', 'Smoking_vs_Diabeties',\n",
       "       'Smoking_vs_PhysicalActivity', 'Smoking_vs_Asthma',\n",
       "       'Smoking_vs_SkinCancer'],\n",
       "      dtype='object')"
      ]
     },
     "execution_count": 30,
     "metadata": {},
     "output_type": "execute_result"
    }
   ],
   "source": [
    "heart.columns"
   ]
  },
  {
   "cell_type": "code",
   "execution_count": 31,
   "id": "bdfcf221",
   "metadata": {},
   "outputs": [
    {
     "data": {
      "text/html": [
       "<div>\n",
       "<style scoped>\n",
       "    .dataframe tbody tr th:only-of-type {\n",
       "        vertical-align: middle;\n",
       "    }\n",
       "\n",
       "    .dataframe tbody tr th {\n",
       "        vertical-align: top;\n",
       "    }\n",
       "\n",
       "    .dataframe thead th {\n",
       "        text-align: right;\n",
       "    }\n",
       "</style>\n",
       "<table border=\"1\" class=\"dataframe\">\n",
       "  <thead>\n",
       "    <tr style=\"text-align: right;\">\n",
       "      <th></th>\n",
       "      <th>HeartDisease</th>\n",
       "      <th>BMI</th>\n",
       "      <th>PhysicalHealth</th>\n",
       "      <th>MentalHealth</th>\n",
       "      <th>Sex</th>\n",
       "      <th>Race</th>\n",
       "      <th>GenHealth</th>\n",
       "      <th>SleepTime</th>\n",
       "      <th>AgeCategory2</th>\n",
       "      <th>Smoking2</th>\n",
       "      <th>...</th>\n",
       "      <th>Asthma2</th>\n",
       "      <th>KidneyDisease2</th>\n",
       "      <th>SkinCancer2</th>\n",
       "      <th>Smoking_vs_AlcoholDrinking</th>\n",
       "      <th>Smoking_vs_Stroke</th>\n",
       "      <th>Smoking_vs_Mobility</th>\n",
       "      <th>Smoking_vs_Diabeties</th>\n",
       "      <th>Smoking_vs_PhysicalActivity</th>\n",
       "      <th>Smoking_vs_Asthma</th>\n",
       "      <th>Smoking_vs_SkinCancer</th>\n",
       "    </tr>\n",
       "  </thead>\n",
       "  <tbody>\n",
       "    <tr>\n",
       "      <th>0</th>\n",
       "      <td>No</td>\n",
       "      <td>16.60</td>\n",
       "      <td>3.0</td>\n",
       "      <td>30.0</td>\n",
       "      <td>Female</td>\n",
       "      <td>White</td>\n",
       "      <td>Very good</td>\n",
       "      <td>5.0</td>\n",
       "      <td>Adult (40-59)</td>\n",
       "      <td>Smoker</td>\n",
       "      <td>...</td>\n",
       "      <td>Has Asthma</td>\n",
       "      <td>No Kidney Disease</td>\n",
       "      <td>Has Skin Cancer</td>\n",
       "      <td>Smoker_No Alcohol</td>\n",
       "      <td>Smoker_No Strokes</td>\n",
       "      <td>Smoker_Walks Well</td>\n",
       "      <td>Smoker_Has/Had Diabeties</td>\n",
       "      <td>Physically Active_Smoker</td>\n",
       "      <td>Smoker_Has Asthma</td>\n",
       "      <td>Smoker_Has Skin Cancer</td>\n",
       "    </tr>\n",
       "    <tr>\n",
       "      <th>1</th>\n",
       "      <td>No</td>\n",
       "      <td>20.34</td>\n",
       "      <td>0.0</td>\n",
       "      <td>0.0</td>\n",
       "      <td>Female</td>\n",
       "      <td>White</td>\n",
       "      <td>Very good</td>\n",
       "      <td>7.0</td>\n",
       "      <td>Older Adult (60+)</td>\n",
       "      <td>Non-Smoker</td>\n",
       "      <td>...</td>\n",
       "      <td>No Asthma</td>\n",
       "      <td>No Kidney Disease</td>\n",
       "      <td>No Skin Cancer</td>\n",
       "      <td>Non-Smoker_No Alcohol</td>\n",
       "      <td>Non-Smoker_Had Stroke(s)</td>\n",
       "      <td>Non-Smoker_Walks Well</td>\n",
       "      <td>Non-Smoker_Never Diabetic</td>\n",
       "      <td>Physically Active_Non-Smoker</td>\n",
       "      <td>Non-Smoker_No Asthma</td>\n",
       "      <td>Non-Smoker_No Skin Cancer</td>\n",
       "    </tr>\n",
       "    <tr>\n",
       "      <th>2</th>\n",
       "      <td>No</td>\n",
       "      <td>26.58</td>\n",
       "      <td>20.0</td>\n",
       "      <td>30.0</td>\n",
       "      <td>Male</td>\n",
       "      <td>White</td>\n",
       "      <td>Fair</td>\n",
       "      <td>8.0</td>\n",
       "      <td>Older Adult (60+)</td>\n",
       "      <td>Smoker</td>\n",
       "      <td>...</td>\n",
       "      <td>Has Asthma</td>\n",
       "      <td>No Kidney Disease</td>\n",
       "      <td>No Skin Cancer</td>\n",
       "      <td>Smoker_No Alcohol</td>\n",
       "      <td>Smoker_No Strokes</td>\n",
       "      <td>Smoker_Walks Well</td>\n",
       "      <td>Smoker_Has/Had Diabeties</td>\n",
       "      <td>Physically Active_Smoker</td>\n",
       "      <td>Smoker_Has Asthma</td>\n",
       "      <td>Smoker_No Skin Cancer</td>\n",
       "    </tr>\n",
       "    <tr>\n",
       "      <th>3</th>\n",
       "      <td>No</td>\n",
       "      <td>24.21</td>\n",
       "      <td>0.0</td>\n",
       "      <td>0.0</td>\n",
       "      <td>Female</td>\n",
       "      <td>White</td>\n",
       "      <td>Good</td>\n",
       "      <td>6.0</td>\n",
       "      <td>Older Adult (60+)</td>\n",
       "      <td>Non-Smoker</td>\n",
       "      <td>...</td>\n",
       "      <td>No Asthma</td>\n",
       "      <td>No Kidney Disease</td>\n",
       "      <td>Has Skin Cancer</td>\n",
       "      <td>Non-Smoker_No Alcohol</td>\n",
       "      <td>Non-Smoker_No Strokes</td>\n",
       "      <td>Non-Smoker_Walks Well</td>\n",
       "      <td>Non-Smoker_Never Diabetic</td>\n",
       "      <td>Sedentary_Non-Smoker</td>\n",
       "      <td>Non-Smoker_No Asthma</td>\n",
       "      <td>Non-Smoker_Has Skin Cancer</td>\n",
       "    </tr>\n",
       "    <tr>\n",
       "      <th>4</th>\n",
       "      <td>No</td>\n",
       "      <td>23.71</td>\n",
       "      <td>28.0</td>\n",
       "      <td>0.0</td>\n",
       "      <td>Female</td>\n",
       "      <td>White</td>\n",
       "      <td>Very good</td>\n",
       "      <td>8.0</td>\n",
       "      <td>Adult (40-59)</td>\n",
       "      <td>Non-Smoker</td>\n",
       "      <td>...</td>\n",
       "      <td>No Asthma</td>\n",
       "      <td>No Kidney Disease</td>\n",
       "      <td>No Skin Cancer</td>\n",
       "      <td>Non-Smoker_No Alcohol</td>\n",
       "      <td>Non-Smoker_No Strokes</td>\n",
       "      <td>Non-Smoker_Difficulty Walking</td>\n",
       "      <td>Non-Smoker_Never Diabetic</td>\n",
       "      <td>Physically Active_Non-Smoker</td>\n",
       "      <td>Non-Smoker_No Asthma</td>\n",
       "      <td>Non-Smoker_No Skin Cancer</td>\n",
       "    </tr>\n",
       "  </tbody>\n",
       "</table>\n",
       "<p>5 rows × 25 columns</p>\n",
       "</div>"
      ],
      "text/plain": [
       "  HeartDisease    BMI  PhysicalHealth  MentalHealth     Sex   Race  GenHealth  \\\n",
       "0           No  16.60             3.0          30.0  Female  White  Very good   \n",
       "1           No  20.34             0.0           0.0  Female  White  Very good   \n",
       "2           No  26.58            20.0          30.0    Male  White       Fair   \n",
       "3           No  24.21             0.0           0.0  Female  White       Good   \n",
       "4           No  23.71            28.0           0.0  Female  White  Very good   \n",
       "\n",
       "   SleepTime       AgeCategory2    Smoking2  ...     Asthma2  \\\n",
       "0        5.0      Adult (40-59)      Smoker  ...  Has Asthma   \n",
       "1        7.0  Older Adult (60+)  Non-Smoker  ...   No Asthma   \n",
       "2        8.0  Older Adult (60+)      Smoker  ...  Has Asthma   \n",
       "3        6.0  Older Adult (60+)  Non-Smoker  ...   No Asthma   \n",
       "4        8.0      Adult (40-59)  Non-Smoker  ...   No Asthma   \n",
       "\n",
       "      KidneyDisease2      SkinCancer2 Smoking_vs_AlcoholDrinking  \\\n",
       "0  No Kidney Disease  Has Skin Cancer          Smoker_No Alcohol   \n",
       "1  No Kidney Disease   No Skin Cancer      Non-Smoker_No Alcohol   \n",
       "2  No Kidney Disease   No Skin Cancer          Smoker_No Alcohol   \n",
       "3  No Kidney Disease  Has Skin Cancer      Non-Smoker_No Alcohol   \n",
       "4  No Kidney Disease   No Skin Cancer      Non-Smoker_No Alcohol   \n",
       "\n",
       "          Smoking_vs_Stroke            Smoking_vs_Mobility  \\\n",
       "0         Smoker_No Strokes              Smoker_Walks Well   \n",
       "1  Non-Smoker_Had Stroke(s)          Non-Smoker_Walks Well   \n",
       "2         Smoker_No Strokes              Smoker_Walks Well   \n",
       "3     Non-Smoker_No Strokes          Non-Smoker_Walks Well   \n",
       "4     Non-Smoker_No Strokes  Non-Smoker_Difficulty Walking   \n",
       "\n",
       "        Smoking_vs_Diabeties   Smoking_vs_PhysicalActivity  \\\n",
       "0   Smoker_Has/Had Diabeties      Physically Active_Smoker   \n",
       "1  Non-Smoker_Never Diabetic  Physically Active_Non-Smoker   \n",
       "2   Smoker_Has/Had Diabeties      Physically Active_Smoker   \n",
       "3  Non-Smoker_Never Diabetic          Sedentary_Non-Smoker   \n",
       "4  Non-Smoker_Never Diabetic  Physically Active_Non-Smoker   \n",
       "\n",
       "      Smoking_vs_Asthma       Smoking_vs_SkinCancer  \n",
       "0     Smoker_Has Asthma      Smoker_Has Skin Cancer  \n",
       "1  Non-Smoker_No Asthma   Non-Smoker_No Skin Cancer  \n",
       "2     Smoker_Has Asthma       Smoker_No Skin Cancer  \n",
       "3  Non-Smoker_No Asthma  Non-Smoker_Has Skin Cancer  \n",
       "4  Non-Smoker_No Asthma   Non-Smoker_No Skin Cancer  \n",
       "\n",
       "[5 rows x 25 columns]"
      ]
     },
     "execution_count": 31,
     "metadata": {},
     "output_type": "execute_result"
    }
   ],
   "source": [
    "heart2 = heart[['HeartDisease', 'BMI', 'PhysicalHealth', 'MentalHealth', 'Sex', 'Race', 'GenHealth', 'SleepTime',\n",
    "                'AgeCategory2', 'Smoking2','AlcoholDrinking2', 'Stroke2', 'DiffWalking2', 'Diabetic2','PhysicalActivity2', \n",
    "                'Asthma2', 'KidneyDisease2', 'SkinCancer2','Smoking_vs_AlcoholDrinking', 'Smoking_vs_Stroke',\n",
    "                'Smoking_vs_Mobility', 'Smoking_vs_Diabeties', 'Smoking_vs_PhysicalActivity', 'Smoking_vs_Asthma','Smoking_vs_SkinCancer']].copy()\n",
    "\n",
    "heart2.head()"
   ]
  },
  {
   "cell_type": "code",
   "execution_count": 32,
   "id": "b177dae0",
   "metadata": {},
   "outputs": [
    {
     "data": {
      "text/plain": [
       "Index(['HeartDisease', 'BMI', 'PhysicalHealth', 'MentalHealth', 'Sex', 'Race',\n",
       "       'GenHealth', 'SleepTime', 'AgeCategory2', 'Smoking2',\n",
       "       'AlcoholDrinking2', 'Stroke2', 'DiffWalking2', 'Diabetic2',\n",
       "       'PhysicalActivity2', 'Asthma2', 'KidneyDisease2', 'SkinCancer2',\n",
       "       'Smoking_vs_AlcoholDrinking', 'Smoking_vs_Stroke',\n",
       "       'Smoking_vs_Mobility', 'Smoking_vs_Diabeties',\n",
       "       'Smoking_vs_PhysicalActivity', 'Smoking_vs_Asthma',\n",
       "       'Smoking_vs_SkinCancer'],\n",
       "      dtype='object')"
      ]
     },
     "execution_count": 32,
     "metadata": {},
     "output_type": "execute_result"
    }
   ],
   "source": [
    "heart2.columns"
   ]
  },
  {
   "cell_type": "code",
   "execution_count": 33,
   "id": "496e6249",
   "metadata": {},
   "outputs": [
    {
     "data": {
      "text/html": [
       "<div>\n",
       "<style scoped>\n",
       "    .dataframe tbody tr th:only-of-type {\n",
       "        vertical-align: middle;\n",
       "    }\n",
       "\n",
       "    .dataframe tbody tr th {\n",
       "        vertical-align: top;\n",
       "    }\n",
       "\n",
       "    .dataframe thead th {\n",
       "        text-align: right;\n",
       "    }\n",
       "</style>\n",
       "<table border=\"1\" class=\"dataframe\">\n",
       "  <thead>\n",
       "    <tr style=\"text-align: right;\">\n",
       "      <th></th>\n",
       "      <th>HeartDisease</th>\n",
       "      <th>BMI</th>\n",
       "      <th>PhysicalHealth</th>\n",
       "      <th>MentalHealth</th>\n",
       "      <th>Sex</th>\n",
       "      <th>Race</th>\n",
       "      <th>GenHealth</th>\n",
       "      <th>SleepTime</th>\n",
       "      <th>AgeCategory</th>\n",
       "      <th>Smoking</th>\n",
       "      <th>...</th>\n",
       "      <th>Asthma</th>\n",
       "      <th>KidneyDisease</th>\n",
       "      <th>SkinCancer</th>\n",
       "      <th>Smoking_vs_AlcoholDrinking</th>\n",
       "      <th>Smoking_vs_Stroke</th>\n",
       "      <th>Smoking_vs_Mobility</th>\n",
       "      <th>Smoking_vs_Diabeties</th>\n",
       "      <th>Smoking_vs_PhysicalActivity</th>\n",
       "      <th>Smoking_vs_Asthma</th>\n",
       "      <th>Smoking_vs_SkinCancer</th>\n",
       "    </tr>\n",
       "  </thead>\n",
       "  <tbody>\n",
       "    <tr>\n",
       "      <th>0</th>\n",
       "      <td>No</td>\n",
       "      <td>16.60</td>\n",
       "      <td>3.0</td>\n",
       "      <td>30.0</td>\n",
       "      <td>Female</td>\n",
       "      <td>White</td>\n",
       "      <td>Very good</td>\n",
       "      <td>5.0</td>\n",
       "      <td>Adult (40-59)</td>\n",
       "      <td>Smoker</td>\n",
       "      <td>...</td>\n",
       "      <td>Has Asthma</td>\n",
       "      <td>No Kidney Disease</td>\n",
       "      <td>Has Skin Cancer</td>\n",
       "      <td>Smoker_No Alcohol</td>\n",
       "      <td>Smoker_No Strokes</td>\n",
       "      <td>Smoker_Walks Well</td>\n",
       "      <td>Smoker_Has/Had Diabeties</td>\n",
       "      <td>Physically Active_Smoker</td>\n",
       "      <td>Smoker_Has Asthma</td>\n",
       "      <td>Smoker_Has Skin Cancer</td>\n",
       "    </tr>\n",
       "    <tr>\n",
       "      <th>1</th>\n",
       "      <td>No</td>\n",
       "      <td>20.34</td>\n",
       "      <td>0.0</td>\n",
       "      <td>0.0</td>\n",
       "      <td>Female</td>\n",
       "      <td>White</td>\n",
       "      <td>Very good</td>\n",
       "      <td>7.0</td>\n",
       "      <td>Older Adult (60+)</td>\n",
       "      <td>Non-Smoker</td>\n",
       "      <td>...</td>\n",
       "      <td>No Asthma</td>\n",
       "      <td>No Kidney Disease</td>\n",
       "      <td>No Skin Cancer</td>\n",
       "      <td>Non-Smoker_No Alcohol</td>\n",
       "      <td>Non-Smoker_Had Stroke(s)</td>\n",
       "      <td>Non-Smoker_Walks Well</td>\n",
       "      <td>Non-Smoker_Never Diabetic</td>\n",
       "      <td>Physically Active_Non-Smoker</td>\n",
       "      <td>Non-Smoker_No Asthma</td>\n",
       "      <td>Non-Smoker_No Skin Cancer</td>\n",
       "    </tr>\n",
       "    <tr>\n",
       "      <th>2</th>\n",
       "      <td>No</td>\n",
       "      <td>26.58</td>\n",
       "      <td>20.0</td>\n",
       "      <td>30.0</td>\n",
       "      <td>Male</td>\n",
       "      <td>White</td>\n",
       "      <td>Fair</td>\n",
       "      <td>8.0</td>\n",
       "      <td>Older Adult (60+)</td>\n",
       "      <td>Smoker</td>\n",
       "      <td>...</td>\n",
       "      <td>Has Asthma</td>\n",
       "      <td>No Kidney Disease</td>\n",
       "      <td>No Skin Cancer</td>\n",
       "      <td>Smoker_No Alcohol</td>\n",
       "      <td>Smoker_No Strokes</td>\n",
       "      <td>Smoker_Walks Well</td>\n",
       "      <td>Smoker_Has/Had Diabeties</td>\n",
       "      <td>Physically Active_Smoker</td>\n",
       "      <td>Smoker_Has Asthma</td>\n",
       "      <td>Smoker_No Skin Cancer</td>\n",
       "    </tr>\n",
       "    <tr>\n",
       "      <th>3</th>\n",
       "      <td>No</td>\n",
       "      <td>24.21</td>\n",
       "      <td>0.0</td>\n",
       "      <td>0.0</td>\n",
       "      <td>Female</td>\n",
       "      <td>White</td>\n",
       "      <td>Good</td>\n",
       "      <td>6.0</td>\n",
       "      <td>Older Adult (60+)</td>\n",
       "      <td>Non-Smoker</td>\n",
       "      <td>...</td>\n",
       "      <td>No Asthma</td>\n",
       "      <td>No Kidney Disease</td>\n",
       "      <td>Has Skin Cancer</td>\n",
       "      <td>Non-Smoker_No Alcohol</td>\n",
       "      <td>Non-Smoker_No Strokes</td>\n",
       "      <td>Non-Smoker_Walks Well</td>\n",
       "      <td>Non-Smoker_Never Diabetic</td>\n",
       "      <td>Sedentary_Non-Smoker</td>\n",
       "      <td>Non-Smoker_No Asthma</td>\n",
       "      <td>Non-Smoker_Has Skin Cancer</td>\n",
       "    </tr>\n",
       "    <tr>\n",
       "      <th>4</th>\n",
       "      <td>No</td>\n",
       "      <td>23.71</td>\n",
       "      <td>28.0</td>\n",
       "      <td>0.0</td>\n",
       "      <td>Female</td>\n",
       "      <td>White</td>\n",
       "      <td>Very good</td>\n",
       "      <td>8.0</td>\n",
       "      <td>Adult (40-59)</td>\n",
       "      <td>Non-Smoker</td>\n",
       "      <td>...</td>\n",
       "      <td>No Asthma</td>\n",
       "      <td>No Kidney Disease</td>\n",
       "      <td>No Skin Cancer</td>\n",
       "      <td>Non-Smoker_No Alcohol</td>\n",
       "      <td>Non-Smoker_No Strokes</td>\n",
       "      <td>Non-Smoker_Difficulty Walking</td>\n",
       "      <td>Non-Smoker_Never Diabetic</td>\n",
       "      <td>Physically Active_Non-Smoker</td>\n",
       "      <td>Non-Smoker_No Asthma</td>\n",
       "      <td>Non-Smoker_No Skin Cancer</td>\n",
       "    </tr>\n",
       "  </tbody>\n",
       "</table>\n",
       "<p>5 rows × 25 columns</p>\n",
       "</div>"
      ],
      "text/plain": [
       "  HeartDisease    BMI  PhysicalHealth  MentalHealth     Sex   Race  GenHealth  \\\n",
       "0           No  16.60             3.0          30.0  Female  White  Very good   \n",
       "1           No  20.34             0.0           0.0  Female  White  Very good   \n",
       "2           No  26.58            20.0          30.0    Male  White       Fair   \n",
       "3           No  24.21             0.0           0.0  Female  White       Good   \n",
       "4           No  23.71            28.0           0.0  Female  White  Very good   \n",
       "\n",
       "   SleepTime        AgeCategory     Smoking  ...      Asthma  \\\n",
       "0        5.0      Adult (40-59)      Smoker  ...  Has Asthma   \n",
       "1        7.0  Older Adult (60+)  Non-Smoker  ...   No Asthma   \n",
       "2        8.0  Older Adult (60+)      Smoker  ...  Has Asthma   \n",
       "3        6.0  Older Adult (60+)  Non-Smoker  ...   No Asthma   \n",
       "4        8.0      Adult (40-59)  Non-Smoker  ...   No Asthma   \n",
       "\n",
       "       KidneyDisease       SkinCancer Smoking_vs_AlcoholDrinking  \\\n",
       "0  No Kidney Disease  Has Skin Cancer          Smoker_No Alcohol   \n",
       "1  No Kidney Disease   No Skin Cancer      Non-Smoker_No Alcohol   \n",
       "2  No Kidney Disease   No Skin Cancer          Smoker_No Alcohol   \n",
       "3  No Kidney Disease  Has Skin Cancer      Non-Smoker_No Alcohol   \n",
       "4  No Kidney Disease   No Skin Cancer      Non-Smoker_No Alcohol   \n",
       "\n",
       "          Smoking_vs_Stroke            Smoking_vs_Mobility  \\\n",
       "0         Smoker_No Strokes              Smoker_Walks Well   \n",
       "1  Non-Smoker_Had Stroke(s)          Non-Smoker_Walks Well   \n",
       "2         Smoker_No Strokes              Smoker_Walks Well   \n",
       "3     Non-Smoker_No Strokes          Non-Smoker_Walks Well   \n",
       "4     Non-Smoker_No Strokes  Non-Smoker_Difficulty Walking   \n",
       "\n",
       "        Smoking_vs_Diabeties   Smoking_vs_PhysicalActivity  \\\n",
       "0   Smoker_Has/Had Diabeties      Physically Active_Smoker   \n",
       "1  Non-Smoker_Never Diabetic  Physically Active_Non-Smoker   \n",
       "2   Smoker_Has/Had Diabeties      Physically Active_Smoker   \n",
       "3  Non-Smoker_Never Diabetic          Sedentary_Non-Smoker   \n",
       "4  Non-Smoker_Never Diabetic  Physically Active_Non-Smoker   \n",
       "\n",
       "      Smoking_vs_Asthma       Smoking_vs_SkinCancer  \n",
       "0     Smoker_Has Asthma      Smoker_Has Skin Cancer  \n",
       "1  Non-Smoker_No Asthma   Non-Smoker_No Skin Cancer  \n",
       "2     Smoker_Has Asthma       Smoker_No Skin Cancer  \n",
       "3  Non-Smoker_No Asthma  Non-Smoker_Has Skin Cancer  \n",
       "4  Non-Smoker_No Asthma   Non-Smoker_No Skin Cancer  \n",
       "\n",
       "[5 rows x 25 columns]"
      ]
     },
     "execution_count": 33,
     "metadata": {},
     "output_type": "execute_result"
    }
   ],
   "source": [
    "heart2 = heart2.rename(columns={'AgeCategory2':'AgeCategory', 'Smoking2':'Smoking', 'AlcoholDrinking2':'AlcoholDrinking',\n",
    "                                'Stroke2':'Stroke', 'DiffWalking2':'DiffWalking', 'Diabetic2':'Diabetic', 'PhysicalActivity2':'PhysicalActivity',\n",
    "                                'Asthma2':'Asthma', 'KidneyDisease2':'KidneyDisease', 'SkinCancer2':'SkinCancer'})\n",
    "\n",
    "heart2.head()"
   ]
  },
  {
   "cell_type": "code",
   "execution_count": 34,
   "id": "ea8b618c",
   "metadata": {},
   "outputs": [],
   "source": [
    "#heart2.to_csv('heart.csv')"
   ]
  },
  {
   "cell_type": "markdown",
   "id": "2d3d6e4f",
   "metadata": {},
   "source": [
    "## Binning BMI Column\n",
    "* <u>Underweight</u>: < 18.5\n",
    "* <u>Healthy Weight</u>: 18.5 - 24.9\n",
    "* <u>Overweight</u>: 25.0 - 29.9\n",
    "* <u>Obese</u>: > 30.0"
   ]
  },
  {
   "cell_type": "code",
   "execution_count": 35,
   "id": "cd10119c",
   "metadata": {},
   "outputs": [
    {
     "data": {
      "text/plain": [
       "Overweight        114512\n",
       "Obese             102842\n",
       "Healthy Weight     97331\n",
       "Underweight         5110\n",
       "Name: BMI_Class, dtype: int64"
      ]
     },
     "execution_count": 35,
     "metadata": {},
     "output_type": "execute_result"
    }
   ],
   "source": [
    "def bmi_conv(bmi):\n",
    "    if bmi < 18.5:\n",
    "        return 'Underweight'\n",
    "    elif bmi < 25:\n",
    "        return 'Healthy Weight'\n",
    "    elif bmi < 30:\n",
    "        return 'Overweight'\n",
    "    else:\n",
    "        return 'Obese'\n",
    "\n",
    "heart2['BMI_Class'] = heart2['BMI'].apply(bmi_conv)\n",
    "\n",
    "heart2['BMI_Class'].value_counts()"
   ]
  },
  {
   "cell_type": "code",
   "execution_count": 36,
   "id": "2457f5ef",
   "metadata": {},
   "outputs": [
    {
     "data": {
      "text/html": [
       "<div>\n",
       "<style scoped>\n",
       "    .dataframe tbody tr th:only-of-type {\n",
       "        vertical-align: middle;\n",
       "    }\n",
       "\n",
       "    .dataframe tbody tr th {\n",
       "        vertical-align: top;\n",
       "    }\n",
       "\n",
       "    .dataframe thead th {\n",
       "        text-align: right;\n",
       "    }\n",
       "</style>\n",
       "<table border=\"1\" class=\"dataframe\">\n",
       "  <thead>\n",
       "    <tr style=\"text-align: right;\">\n",
       "      <th>HeartDisease</th>\n",
       "      <th>No</th>\n",
       "      <th>Yes</th>\n",
       "    </tr>\n",
       "    <tr>\n",
       "      <th>BMI_Class</th>\n",
       "      <th></th>\n",
       "      <th></th>\n",
       "    </tr>\n",
       "  </thead>\n",
       "  <tbody>\n",
       "    <tr>\n",
       "      <th>Healthy Weight</th>\n",
       "      <td>0.935180</td>\n",
       "      <td>0.064820</td>\n",
       "    </tr>\n",
       "    <tr>\n",
       "      <th>Obese</th>\n",
       "      <td>0.896229</td>\n",
       "      <td>0.103771</td>\n",
       "    </tr>\n",
       "    <tr>\n",
       "      <th>Overweight</th>\n",
       "      <td>0.912752</td>\n",
       "      <td>0.087248</td>\n",
       "    </tr>\n",
       "    <tr>\n",
       "      <th>Underweight</th>\n",
       "      <td>0.921526</td>\n",
       "      <td>0.078474</td>\n",
       "    </tr>\n",
       "  </tbody>\n",
       "</table>\n",
       "</div>"
      ],
      "text/plain": [
       "HeartDisease          No       Yes\n",
       "BMI_Class                         \n",
       "Healthy Weight  0.935180  0.064820\n",
       "Obese           0.896229  0.103771\n",
       "Overweight      0.912752  0.087248\n",
       "Underweight     0.921526  0.078474"
      ]
     },
     "execution_count": 36,
     "metadata": {},
     "output_type": "execute_result"
    }
   ],
   "source": [
    "pd.crosstab(heart2['BMI_Class'], heart2['HeartDisease'], normalize='index')"
   ]
  },
  {
   "cell_type": "markdown",
   "id": "636fc50d",
   "metadata": {},
   "source": [
    "## BMI Interaction Terms"
   ]
  },
  {
   "cell_type": "code",
   "execution_count": 37,
   "id": "8d614bf8",
   "metadata": {
    "scrolled": false
   },
   "outputs": [
    {
     "name": "stdout",
     "output_type": "stream",
     "text": [
      "BMI_vs_Sex Frequency Counts\n",
      "\n",
      "Overweight_Male          62958\n",
      "Healthy Weight_Female    58871\n",
      "Obese_Female             53883\n",
      "Overweight_Female        51554\n",
      "Obese_Male               48959\n",
      "Healthy Weight_Male      38460\n",
      "Underweight_Female        3497\n",
      "Underweight_Male          1613\n",
      "Name: BMI_vs_Sex, dtype: int64\n",
      "\n",
      "BMI_vs_Race Frequency Counts\n",
      "\n",
      "Overweight_White           88909\n",
      "Healthy Weight_White       76305\n",
      "Obese_White                76132\n",
      "Obese_Black                10069\n",
      "Overweight_Hispanic         9966\n",
      "Obese_Hispanic              9650\n",
      "Healthy Weight_Other        8465\n",
      "Overweight_Other            8156\n",
      "Overweight_Black            7481\n",
      "Healthy Weight_Hispanic     7442\n",
      "Obese_Other                 6991\n",
      "Healthy Weight_Black        5119\n",
      "Underweight_White           3866\n",
      "Underweight_Other            586\n",
      "Underweight_Hispanic         388\n",
      "Underweight_Black            270\n",
      "Name: BMI_vs_Race, dtype: int64\n",
      "\n",
      "BMI_vs_AgeCategory Frequency Counts\n",
      "\n",
      "Overweight_Older Adult (60+)          54960\n",
      "Obese_Older Adult (60+)               43803\n",
      "Healthy Weight_Older Adult (60+)      43422\n",
      "Obese_Adult (40-59)                   36979\n",
      "Overweight_Adult (40-59)              35038\n",
      "Healthy Weight_Young Adult (18-39)    28985\n",
      "Healthy Weight_Adult (40-59)          24924\n",
      "Overweight_Young Adult (18-39)        24514\n",
      "Obese_Young Adult (18-39)             22060\n",
      "Underweight_Older Adult (60+)          2352\n",
      "Underweight_Young Adult (18-39)        1763\n",
      "Underweight_Adult (40-59)               995\n",
      "Name: BMI_vs_AgeCategory, dtype: int64\n",
      "\n",
      "BMI_vs_Smoking Frequency Counts\n",
      "\n",
      "Overweight_Non-Smoker        66489\n",
      "Healthy Weight_Non-Smoker    59597\n",
      "Obese_Non-Smoker             58993\n",
      "Overweight_Smoker            48023\n",
      "Obese_Smoker                 43849\n",
      "Healthy Weight_Smoker        37734\n",
      "Underweight_Non-Smoker        2808\n",
      "Underweight_Smoker            2302\n",
      "Name: BMI_vs_Smoking, dtype: int64\n",
      "\n",
      "BMI_vs_AlcoholDrinking Frequency Counts\n",
      "\n",
      "Overweight_No Alcohol            106522\n",
      "Obese_No Alcohol                  97123\n",
      "Healthy Weight_No Alcohol         89626\n",
      "Overweight_Drinks Alcohol          7990\n",
      "Healthy Weight_Drinks Alcohol      7705\n",
      "Obese_Drinks Alcohol               5719\n",
      "Underweight_No Alcohol             4747\n",
      "Underweight_Drinks Alcohol          363\n",
      "Name: BMI_vs_AlcoholDrinking, dtype: int64\n",
      "\n",
      "BMI_vs_Stroke Frequency Counts\n",
      "\n",
      "Overweight_No Strokes           110223\n",
      "Obese_No Strokes                 98405\n",
      "Healthy Weight_No Strokes        94243\n",
      "Underweight_No Strokes            4855\n",
      "Obese_Had Stroke(s)               4437\n",
      "Overweight_Had Stroke(s)          4289\n",
      "Healthy Weight_Had Stroke(s)      3088\n",
      "Underweight_Had Stroke(s)          255\n",
      "Name: BMI_vs_Stroke, dtype: int64\n",
      "\n",
      "BMI_vs_DiffWalking Frequency Counts\n",
      "\n",
      "Overweight_Walks Well                101659\n",
      "Healthy Weight_Walks Well             88708\n",
      "Obese_Walks Well                      80778\n",
      "Obese_Difficulty Walking              22064\n",
      "Overweight_Difficulty Walking         12853\n",
      "Healthy Weight_Difficulty Walking      8623\n",
      "Underweight_Walks Well                 4240\n",
      "Underweight_Difficulty Walking          870\n",
      "Name: BMI_vs_DiffWalking, dtype: int64\n",
      "\n",
      "BMI_vs_Diabetic Frequency Counts\n",
      "\n",
      "Overweight_Never Diabetic           100880\n",
      "Healthy Weight_Never Diabetic        90850\n",
      "Obese_Never Diabetic                 79899\n",
      "Obese_Has/Had Diabeties              22943\n",
      "Overweight_Has/Had Diabeties         13632\n",
      "Healthy Weight_Has/Had Diabeties      6481\n",
      "Underweight_Never Diabetic            4805\n",
      "Underweight_Has/Had Diabeties          305\n",
      "Name: BMI_vs_Diabetic, dtype: int64\n",
      "\n",
      "BMI_vs_PhysicalActivity Frequency Counts\n",
      "\n",
      "Overweight_Physically Active        91995\n",
      "Healthy Weight_Physically Active    81013\n",
      "Obese_Physically Active             71312\n",
      "Obese_Sedentary                     31530\n",
      "Overweight_Sedentary                22517\n",
      "Healthy Weight_Sedentary            16318\n",
      "Underweight_Physically Active        3637\n",
      "Underweight_Sedentary                1473\n",
      "Name: BMI_vs_PhysicalActivity, dtype: int64\n",
      "\n",
      "BMI_vs_Asthma Frequency Counts\n",
      "\n",
      "Overweight_No Asthma         100938\n",
      "Healthy Weight_No Asthma      86387\n",
      "Obese_No Asthma               85174\n",
      "Obese_Has Asthma              17668\n",
      "Overweight_Has Asthma         13574\n",
      "Healthy Weight_Has Asthma     10944\n",
      "Underweight_No Asthma          4424\n",
      "Underweight_Has Asthma          686\n",
      "Name: BMI_vs_Asthma, dtype: int64\n",
      "\n",
      "BMI_vs_KidneyDisease Frequency Counts\n",
      "\n",
      "Overweight_No Kidney Disease         110659\n",
      "Obese_No Kidney Disease               97798\n",
      "Healthy Weight_No Kidney Disease      94651\n",
      "Obese_Has Kidney Disease               5044\n",
      "Underweight_No Kidney Disease          4908\n",
      "Overweight_Has Kidney Disease          3853\n",
      "Healthy Weight_Has Kidney Disease      2680\n",
      "Underweight_Has Kidney Disease          202\n",
      "Name: BMI_vs_KidneyDisease, dtype: int64\n",
      "\n",
      "BMI_vs_SkinCancer Frequency Counts\n",
      "\n",
      "Overweight_No Skin Cancer         102923\n",
      "Obese_No Skin Cancer               94593\n",
      "Healthy Weight_No Skin Cancer      87843\n",
      "Overweight_Has Skin Cancer         11589\n",
      "Healthy Weight_Has Skin Cancer      9488\n",
      "Obese_Has Skin Cancer               8249\n",
      "Underweight_No Skin Cancer          4617\n",
      "Underweight_Has Skin Cancer          493\n",
      "Name: BMI_vs_SkinCancer, dtype: int64\n",
      "\n"
     ]
    }
   ],
   "source": [
    "ind_vars = ['Sex', 'Race', 'AgeCategory', 'Smoking', 'AlcoholDrinking','Stroke', \n",
    " 'DiffWalking', 'Diabetic', 'PhysicalActivity', 'Asthma','KidneyDisease', \n",
    " 'SkinCancer']\n",
    "\n",
    "for var in ind_vars:\n",
    "    heart2['BMI_vs_'+var] = heart2['BMI_Class'] + '_' + heart2[var]\n",
    "    print(f'BMI_vs_{var} Frequency Counts')\n",
    "    print('')\n",
    "    print(heart2['BMI_vs_'+var].value_counts())\n",
    "    print('')\n",
    "    "
   ]
  },
  {
   "cell_type": "code",
   "execution_count": 38,
   "id": "a09a26e1",
   "metadata": {},
   "outputs": [
    {
     "data": {
      "text/plain": [
       "Overweight_Male          62958\n",
       "Healthy Weight_Female    58871\n",
       "Obese_Female             53883\n",
       "Overweight_Female        51554\n",
       "Obese_Male               48959\n",
       "Healthy Weight_Male      38460\n",
       "Underweight_Female        3497\n",
       "Underweight_Male          1613\n",
       "Name: BMI_vs_Sex, dtype: int64"
      ]
     },
     "execution_count": 38,
     "metadata": {},
     "output_type": "execute_result"
    }
   ],
   "source": [
    "heart2['BMI_vs_Sex'] = heart2['BMI_Class'] + '_' + heart2['Sex']\n",
    "heart2['BMI_vs_Sex'].value_counts()"
   ]
  },
  {
   "cell_type": "code",
   "execution_count": 39,
   "id": "6b995056",
   "metadata": {},
   "outputs": [
    {
     "data": {
      "text/plain": [
       "Index(['HeartDisease', 'BMI', 'PhysicalHealth', 'MentalHealth', 'Sex', 'Race',\n",
       "       'GenHealth', 'SleepTime', 'AgeCategory', 'Smoking', 'AlcoholDrinking',\n",
       "       'Stroke', 'DiffWalking', 'Diabetic', 'PhysicalActivity', 'Asthma',\n",
       "       'KidneyDisease', 'SkinCancer', 'Smoking_vs_AlcoholDrinking',\n",
       "       'Smoking_vs_Stroke', 'Smoking_vs_Mobility', 'Smoking_vs_Diabeties',\n",
       "       'Smoking_vs_PhysicalActivity', 'Smoking_vs_Asthma',\n",
       "       'Smoking_vs_SkinCancer', 'BMI_Class', 'BMI_vs_Sex', 'BMI_vs_Race',\n",
       "       'BMI_vs_AgeCategory', 'BMI_vs_Smoking', 'BMI_vs_AlcoholDrinking',\n",
       "       'BMI_vs_Stroke', 'BMI_vs_DiffWalking', 'BMI_vs_Diabetic',\n",
       "       'BMI_vs_PhysicalActivity', 'BMI_vs_Asthma', 'BMI_vs_KidneyDisease',\n",
       "       'BMI_vs_SkinCancer'],\n",
       "      dtype='object')"
      ]
     },
     "execution_count": 39,
     "metadata": {},
     "output_type": "execute_result"
    }
   ],
   "source": [
    "heart2.columns"
   ]
  },
  {
   "cell_type": "code",
   "execution_count": 40,
   "id": "19ce316c",
   "metadata": {
    "scrolled": false
   },
   "outputs": [
    {
     "name": "stdout",
     "output_type": "stream",
     "text": [
      "BMI_vs_Sex Crosstab\n"
     ]
    },
    {
     "data": {
      "text/html": [
       "<div>\n",
       "<style scoped>\n",
       "    .dataframe tbody tr th:only-of-type {\n",
       "        vertical-align: middle;\n",
       "    }\n",
       "\n",
       "    .dataframe tbody tr th {\n",
       "        vertical-align: top;\n",
       "    }\n",
       "\n",
       "    .dataframe thead th {\n",
       "        text-align: right;\n",
       "    }\n",
       "</style>\n",
       "<table border=\"1\" class=\"dataframe\">\n",
       "  <thead>\n",
       "    <tr style=\"text-align: right;\">\n",
       "      <th>HeartDisease</th>\n",
       "      <th>No</th>\n",
       "      <th>Yes</th>\n",
       "    </tr>\n",
       "    <tr>\n",
       "      <th>BMI_vs_Sex</th>\n",
       "      <th></th>\n",
       "      <th></th>\n",
       "    </tr>\n",
       "  </thead>\n",
       "  <tbody>\n",
       "    <tr>\n",
       "      <th>Healthy Weight_Female</th>\n",
       "      <td>0.947750</td>\n",
       "      <td>0.052250</td>\n",
       "    </tr>\n",
       "    <tr>\n",
       "      <th>Healthy Weight_Male</th>\n",
       "      <td>0.915939</td>\n",
       "      <td>0.084061</td>\n",
       "    </tr>\n",
       "    <tr>\n",
       "      <th>Obese_Female</th>\n",
       "      <td>0.917005</td>\n",
       "      <td>0.082995</td>\n",
       "    </tr>\n",
       "    <tr>\n",
       "      <th>Obese_Male</th>\n",
       "      <td>0.873363</td>\n",
       "      <td>0.126637</td>\n",
       "    </tr>\n",
       "    <tr>\n",
       "      <th>Overweight_Female</th>\n",
       "      <td>0.933720</td>\n",
       "      <td>0.066280</td>\n",
       "    </tr>\n",
       "    <tr>\n",
       "      <th>Overweight_Male</th>\n",
       "      <td>0.895581</td>\n",
       "      <td>0.104419</td>\n",
       "    </tr>\n",
       "    <tr>\n",
       "      <th>Underweight_Female</th>\n",
       "      <td>0.923077</td>\n",
       "      <td>0.076923</td>\n",
       "    </tr>\n",
       "    <tr>\n",
       "      <th>Underweight_Male</th>\n",
       "      <td>0.918165</td>\n",
       "      <td>0.081835</td>\n",
       "    </tr>\n",
       "  </tbody>\n",
       "</table>\n",
       "</div>"
      ],
      "text/plain": [
       "HeartDisease                 No       Yes\n",
       "BMI_vs_Sex                               \n",
       "Healthy Weight_Female  0.947750  0.052250\n",
       "Healthy Weight_Male    0.915939  0.084061\n",
       "Obese_Female           0.917005  0.082995\n",
       "Obese_Male             0.873363  0.126637\n",
       "Overweight_Female      0.933720  0.066280\n",
       "Overweight_Male        0.895581  0.104419\n",
       "Underweight_Female     0.923077  0.076923\n",
       "Underweight_Male       0.918165  0.081835"
      ]
     },
     "metadata": {},
     "output_type": "display_data"
    },
    {
     "name": "stdout",
     "output_type": "stream",
     "text": [
      "\n",
      "BMI_vs_Race Crosstab\n"
     ]
    },
    {
     "data": {
      "text/html": [
       "<div>\n",
       "<style scoped>\n",
       "    .dataframe tbody tr th:only-of-type {\n",
       "        vertical-align: middle;\n",
       "    }\n",
       "\n",
       "    .dataframe tbody tr th {\n",
       "        vertical-align: top;\n",
       "    }\n",
       "\n",
       "    .dataframe thead th {\n",
       "        text-align: right;\n",
       "    }\n",
       "</style>\n",
       "<table border=\"1\" class=\"dataframe\">\n",
       "  <thead>\n",
       "    <tr style=\"text-align: right;\">\n",
       "      <th>HeartDisease</th>\n",
       "      <th>No</th>\n",
       "      <th>Yes</th>\n",
       "    </tr>\n",
       "    <tr>\n",
       "      <th>BMI_vs_Race</th>\n",
       "      <th></th>\n",
       "      <th></th>\n",
       "    </tr>\n",
       "  </thead>\n",
       "  <tbody>\n",
       "    <tr>\n",
       "      <th>Healthy Weight_Black</th>\n",
       "      <td>0.938074</td>\n",
       "      <td>0.061926</td>\n",
       "    </tr>\n",
       "    <tr>\n",
       "      <th>Healthy Weight_Hispanic</th>\n",
       "      <td>0.961704</td>\n",
       "      <td>0.038296</td>\n",
       "    </tr>\n",
       "    <tr>\n",
       "      <th>Healthy Weight_Other</th>\n",
       "      <td>0.950384</td>\n",
       "      <td>0.049616</td>\n",
       "    </tr>\n",
       "    <tr>\n",
       "      <th>Healthy Weight_White</th>\n",
       "      <td>0.930712</td>\n",
       "      <td>0.069288</td>\n",
       "    </tr>\n",
       "    <tr>\n",
       "      <th>Obese_Black</th>\n",
       "      <td>0.912901</td>\n",
       "      <td>0.087099</td>\n",
       "    </tr>\n",
       "    <tr>\n",
       "      <th>Obese_Hispanic</th>\n",
       "      <td>0.935233</td>\n",
       "      <td>0.064767</td>\n",
       "    </tr>\n",
       "    <tr>\n",
       "      <th>Obese_Other</th>\n",
       "      <td>0.904592</td>\n",
       "      <td>0.095408</td>\n",
       "    </tr>\n",
       "    <tr>\n",
       "      <th>Obese_White</th>\n",
       "      <td>0.888312</td>\n",
       "      <td>0.111688</td>\n",
       "    </tr>\n",
       "    <tr>\n",
       "      <th>Overweight_Black</th>\n",
       "      <td>0.931293</td>\n",
       "      <td>0.068707</td>\n",
       "    </tr>\n",
       "    <tr>\n",
       "      <th>Overweight_Hispanic</th>\n",
       "      <td>0.948726</td>\n",
       "      <td>0.051274</td>\n",
       "    </tr>\n",
       "    <tr>\n",
       "      <th>Overweight_Other</th>\n",
       "      <td>0.929377</td>\n",
       "      <td>0.070623</td>\n",
       "    </tr>\n",
       "    <tr>\n",
       "      <th>Overweight_White</th>\n",
       "      <td>0.905634</td>\n",
       "      <td>0.094366</td>\n",
       "    </tr>\n",
       "    <tr>\n",
       "      <th>Underweight_Black</th>\n",
       "      <td>0.922222</td>\n",
       "      <td>0.077778</td>\n",
       "    </tr>\n",
       "    <tr>\n",
       "      <th>Underweight_Hispanic</th>\n",
       "      <td>0.943299</td>\n",
       "      <td>0.056701</td>\n",
       "    </tr>\n",
       "    <tr>\n",
       "      <th>Underweight_Other</th>\n",
       "      <td>0.947099</td>\n",
       "      <td>0.052901</td>\n",
       "    </tr>\n",
       "    <tr>\n",
       "      <th>Underweight_White</th>\n",
       "      <td>0.915416</td>\n",
       "      <td>0.084584</td>\n",
       "    </tr>\n",
       "  </tbody>\n",
       "</table>\n",
       "</div>"
      ],
      "text/plain": [
       "HeartDisease                   No       Yes\n",
       "BMI_vs_Race                                \n",
       "Healthy Weight_Black     0.938074  0.061926\n",
       "Healthy Weight_Hispanic  0.961704  0.038296\n",
       "Healthy Weight_Other     0.950384  0.049616\n",
       "Healthy Weight_White     0.930712  0.069288\n",
       "Obese_Black              0.912901  0.087099\n",
       "Obese_Hispanic           0.935233  0.064767\n",
       "Obese_Other              0.904592  0.095408\n",
       "Obese_White              0.888312  0.111688\n",
       "Overweight_Black         0.931293  0.068707\n",
       "Overweight_Hispanic      0.948726  0.051274\n",
       "Overweight_Other         0.929377  0.070623\n",
       "Overweight_White         0.905634  0.094366\n",
       "Underweight_Black        0.922222  0.077778\n",
       "Underweight_Hispanic     0.943299  0.056701\n",
       "Underweight_Other        0.947099  0.052901\n",
       "Underweight_White        0.915416  0.084584"
      ]
     },
     "metadata": {},
     "output_type": "display_data"
    },
    {
     "name": "stdout",
     "output_type": "stream",
     "text": [
      "\n",
      "BMI_vs_AgeCategory Crosstab\n"
     ]
    },
    {
     "data": {
      "text/html": [
       "<div>\n",
       "<style scoped>\n",
       "    .dataframe tbody tr th:only-of-type {\n",
       "        vertical-align: middle;\n",
       "    }\n",
       "\n",
       "    .dataframe tbody tr th {\n",
       "        vertical-align: top;\n",
       "    }\n",
       "\n",
       "    .dataframe thead th {\n",
       "        text-align: right;\n",
       "    }\n",
       "</style>\n",
       "<table border=\"1\" class=\"dataframe\">\n",
       "  <thead>\n",
       "    <tr style=\"text-align: right;\">\n",
       "      <th>HeartDisease</th>\n",
       "      <th>No</th>\n",
       "      <th>Yes</th>\n",
       "    </tr>\n",
       "    <tr>\n",
       "      <th>BMI_vs_AgeCategory</th>\n",
       "      <th></th>\n",
       "      <th></th>\n",
       "    </tr>\n",
       "  </thead>\n",
       "  <tbody>\n",
       "    <tr>\n",
       "      <th>Healthy Weight_Adult (40-59)</th>\n",
       "      <td>0.967742</td>\n",
       "      <td>0.032258</td>\n",
       "    </tr>\n",
       "    <tr>\n",
       "      <th>Healthy Weight_Older Adult (60+)</th>\n",
       "      <td>0.878840</td>\n",
       "      <td>0.121160</td>\n",
       "    </tr>\n",
       "    <tr>\n",
       "      <th>Healthy Weight_Young Adult (18-39)</th>\n",
       "      <td>0.991582</td>\n",
       "      <td>0.008418</td>\n",
       "    </tr>\n",
       "    <tr>\n",
       "      <th>Obese_Adult (40-59)</th>\n",
       "      <td>0.932962</td>\n",
       "      <td>0.067038</td>\n",
       "    </tr>\n",
       "    <tr>\n",
       "      <th>Obese_Older Adult (60+)</th>\n",
       "      <td>0.819624</td>\n",
       "      <td>0.180376</td>\n",
       "    </tr>\n",
       "    <tr>\n",
       "      <th>Obese_Young Adult (18-39)</th>\n",
       "      <td>0.986763</td>\n",
       "      <td>0.013237</td>\n",
       "    </tr>\n",
       "    <tr>\n",
       "      <th>Overweight_Adult (40-59)</th>\n",
       "      <td>0.958131</td>\n",
       "      <td>0.041869</td>\n",
       "    </tr>\n",
       "    <tr>\n",
       "      <th>Overweight_Older Adult (60+)</th>\n",
       "      <td>0.848872</td>\n",
       "      <td>0.151128</td>\n",
       "    </tr>\n",
       "    <tr>\n",
       "      <th>Overweight_Young Adult (18-39)</th>\n",
       "      <td>0.991107</td>\n",
       "      <td>0.008893</td>\n",
       "    </tr>\n",
       "    <tr>\n",
       "      <th>Underweight_Adult (40-59)</th>\n",
       "      <td>0.934673</td>\n",
       "      <td>0.065327</td>\n",
       "    </tr>\n",
       "    <tr>\n",
       "      <th>Underweight_Older Adult (60+)</th>\n",
       "      <td>0.870323</td>\n",
       "      <td>0.129677</td>\n",
       "    </tr>\n",
       "    <tr>\n",
       "      <th>Underweight_Young Adult (18-39)</th>\n",
       "      <td>0.982416</td>\n",
       "      <td>0.017584</td>\n",
       "    </tr>\n",
       "  </tbody>\n",
       "</table>\n",
       "</div>"
      ],
      "text/plain": [
       "HeartDisease                              No       Yes\n",
       "BMI_vs_AgeCategory                                    \n",
       "Healthy Weight_Adult (40-59)        0.967742  0.032258\n",
       "Healthy Weight_Older Adult (60+)    0.878840  0.121160\n",
       "Healthy Weight_Young Adult (18-39)  0.991582  0.008418\n",
       "Obese_Adult (40-59)                 0.932962  0.067038\n",
       "Obese_Older Adult (60+)             0.819624  0.180376\n",
       "Obese_Young Adult (18-39)           0.986763  0.013237\n",
       "Overweight_Adult (40-59)            0.958131  0.041869\n",
       "Overweight_Older Adult (60+)        0.848872  0.151128\n",
       "Overweight_Young Adult (18-39)      0.991107  0.008893\n",
       "Underweight_Adult (40-59)           0.934673  0.065327\n",
       "Underweight_Older Adult (60+)       0.870323  0.129677\n",
       "Underweight_Young Adult (18-39)     0.982416  0.017584"
      ]
     },
     "metadata": {},
     "output_type": "display_data"
    },
    {
     "name": "stdout",
     "output_type": "stream",
     "text": [
      "\n",
      "BMI_vs_Smoking Crosstab\n"
     ]
    },
    {
     "data": {
      "text/html": [
       "<div>\n",
       "<style scoped>\n",
       "    .dataframe tbody tr th:only-of-type {\n",
       "        vertical-align: middle;\n",
       "    }\n",
       "\n",
       "    .dataframe tbody tr th {\n",
       "        vertical-align: top;\n",
       "    }\n",
       "\n",
       "    .dataframe thead th {\n",
       "        text-align: right;\n",
       "    }\n",
       "</style>\n",
       "<table border=\"1\" class=\"dataframe\">\n",
       "  <thead>\n",
       "    <tr style=\"text-align: right;\">\n",
       "      <th>HeartDisease</th>\n",
       "      <th>No</th>\n",
       "      <th>Yes</th>\n",
       "    </tr>\n",
       "    <tr>\n",
       "      <th>BMI_vs_Smoking</th>\n",
       "      <th></th>\n",
       "      <th></th>\n",
       "    </tr>\n",
       "  </thead>\n",
       "  <tbody>\n",
       "    <tr>\n",
       "      <th>Healthy Weight_Non-Smoker</th>\n",
       "      <td>0.957582</td>\n",
       "      <td>0.042418</td>\n",
       "    </tr>\n",
       "    <tr>\n",
       "      <th>Healthy Weight_Smoker</th>\n",
       "      <td>0.899799</td>\n",
       "      <td>0.100201</td>\n",
       "    </tr>\n",
       "    <tr>\n",
       "      <th>Obese_Non-Smoker</th>\n",
       "      <td>0.923754</td>\n",
       "      <td>0.076246</td>\n",
       "    </tr>\n",
       "    <tr>\n",
       "      <th>Obese_Smoker</th>\n",
       "      <td>0.859199</td>\n",
       "      <td>0.140801</td>\n",
       "    </tr>\n",
       "    <tr>\n",
       "      <th>Overweight_Non-Smoker</th>\n",
       "      <td>0.937132</td>\n",
       "      <td>0.062868</td>\n",
       "    </tr>\n",
       "    <tr>\n",
       "      <th>Overweight_Smoker</th>\n",
       "      <td>0.878995</td>\n",
       "      <td>0.121005</td>\n",
       "    </tr>\n",
       "    <tr>\n",
       "      <th>Underweight_Non-Smoker</th>\n",
       "      <td>0.953704</td>\n",
       "      <td>0.046296</td>\n",
       "    </tr>\n",
       "    <tr>\n",
       "      <th>Underweight_Smoker</th>\n",
       "      <td>0.882276</td>\n",
       "      <td>0.117724</td>\n",
       "    </tr>\n",
       "  </tbody>\n",
       "</table>\n",
       "</div>"
      ],
      "text/plain": [
       "HeartDisease                     No       Yes\n",
       "BMI_vs_Smoking                               \n",
       "Healthy Weight_Non-Smoker  0.957582  0.042418\n",
       "Healthy Weight_Smoker      0.899799  0.100201\n",
       "Obese_Non-Smoker           0.923754  0.076246\n",
       "Obese_Smoker               0.859199  0.140801\n",
       "Overweight_Non-Smoker      0.937132  0.062868\n",
       "Overweight_Smoker          0.878995  0.121005\n",
       "Underweight_Non-Smoker     0.953704  0.046296\n",
       "Underweight_Smoker         0.882276  0.117724"
      ]
     },
     "metadata": {},
     "output_type": "display_data"
    },
    {
     "name": "stdout",
     "output_type": "stream",
     "text": [
      "\n",
      "BMI_vs_AlcoholDrinking Crosstab\n"
     ]
    },
    {
     "data": {
      "text/html": [
       "<div>\n",
       "<style scoped>\n",
       "    .dataframe tbody tr th:only-of-type {\n",
       "        vertical-align: middle;\n",
       "    }\n",
       "\n",
       "    .dataframe tbody tr th {\n",
       "        vertical-align: top;\n",
       "    }\n",
       "\n",
       "    .dataframe thead th {\n",
       "        text-align: right;\n",
       "    }\n",
       "</style>\n",
       "<table border=\"1\" class=\"dataframe\">\n",
       "  <thead>\n",
       "    <tr style=\"text-align: right;\">\n",
       "      <th>HeartDisease</th>\n",
       "      <th>No</th>\n",
       "      <th>Yes</th>\n",
       "    </tr>\n",
       "    <tr>\n",
       "      <th>BMI_vs_AlcoholDrinking</th>\n",
       "      <th></th>\n",
       "      <th></th>\n",
       "    </tr>\n",
       "  </thead>\n",
       "  <tbody>\n",
       "    <tr>\n",
       "      <th>Healthy Weight_Drinks Alcohol</th>\n",
       "      <td>0.961194</td>\n",
       "      <td>0.038806</td>\n",
       "    </tr>\n",
       "    <tr>\n",
       "      <th>Healthy Weight_No Alcohol</th>\n",
       "      <td>0.932944</td>\n",
       "      <td>0.067056</td>\n",
       "    </tr>\n",
       "    <tr>\n",
       "      <th>Obese_Drinks Alcohol</th>\n",
       "      <td>0.930233</td>\n",
       "      <td>0.069767</td>\n",
       "    </tr>\n",
       "    <tr>\n",
       "      <th>Obese_No Alcohol</th>\n",
       "      <td>0.894227</td>\n",
       "      <td>0.105773</td>\n",
       "    </tr>\n",
       "    <tr>\n",
       "      <th>Overweight_Drinks Alcohol</th>\n",
       "      <td>0.947434</td>\n",
       "      <td>0.052566</td>\n",
       "    </tr>\n",
       "    <tr>\n",
       "      <th>Overweight_No Alcohol</th>\n",
       "      <td>0.910150</td>\n",
       "      <td>0.089850</td>\n",
       "    </tr>\n",
       "    <tr>\n",
       "      <th>Underweight_Drinks Alcohol</th>\n",
       "      <td>0.936639</td>\n",
       "      <td>0.063361</td>\n",
       "    </tr>\n",
       "    <tr>\n",
       "      <th>Underweight_No Alcohol</th>\n",
       "      <td>0.920371</td>\n",
       "      <td>0.079629</td>\n",
       "    </tr>\n",
       "  </tbody>\n",
       "</table>\n",
       "</div>"
      ],
      "text/plain": [
       "HeartDisease                         No       Yes\n",
       "BMI_vs_AlcoholDrinking                           \n",
       "Healthy Weight_Drinks Alcohol  0.961194  0.038806\n",
       "Healthy Weight_No Alcohol      0.932944  0.067056\n",
       "Obese_Drinks Alcohol           0.930233  0.069767\n",
       "Obese_No Alcohol               0.894227  0.105773\n",
       "Overweight_Drinks Alcohol      0.947434  0.052566\n",
       "Overweight_No Alcohol          0.910150  0.089850\n",
       "Underweight_Drinks Alcohol     0.936639  0.063361\n",
       "Underweight_No Alcohol         0.920371  0.079629"
      ]
     },
     "metadata": {},
     "output_type": "display_data"
    },
    {
     "name": "stdout",
     "output_type": "stream",
     "text": [
      "\n",
      "BMI_vs_Stroke Crosstab\n"
     ]
    },
    {
     "data": {
      "text/html": [
       "<div>\n",
       "<style scoped>\n",
       "    .dataframe tbody tr th:only-of-type {\n",
       "        vertical-align: middle;\n",
       "    }\n",
       "\n",
       "    .dataframe tbody tr th {\n",
       "        vertical-align: top;\n",
       "    }\n",
       "\n",
       "    .dataframe thead th {\n",
       "        text-align: right;\n",
       "    }\n",
       "</style>\n",
       "<table border=\"1\" class=\"dataframe\">\n",
       "  <thead>\n",
       "    <tr style=\"text-align: right;\">\n",
       "      <th>HeartDisease</th>\n",
       "      <th>No</th>\n",
       "      <th>Yes</th>\n",
       "    </tr>\n",
       "    <tr>\n",
       "      <th>BMI_vs_Stroke</th>\n",
       "      <th></th>\n",
       "      <th></th>\n",
       "    </tr>\n",
       "  </thead>\n",
       "  <tbody>\n",
       "    <tr>\n",
       "      <th>Healthy Weight_Had Stroke(s)</th>\n",
       "      <td>0.669365</td>\n",
       "      <td>0.330635</td>\n",
       "    </tr>\n",
       "    <tr>\n",
       "      <th>Healthy Weight_No Strokes</th>\n",
       "      <td>0.943890</td>\n",
       "      <td>0.056110</td>\n",
       "    </tr>\n",
       "    <tr>\n",
       "      <th>Obese_Had Stroke(s)</th>\n",
       "      <td>0.608519</td>\n",
       "      <td>0.391481</td>\n",
       "    </tr>\n",
       "    <tr>\n",
       "      <th>Obese_No Strokes</th>\n",
       "      <td>0.909202</td>\n",
       "      <td>0.090798</td>\n",
       "    </tr>\n",
       "    <tr>\n",
       "      <th>Overweight_Had Stroke(s)</th>\n",
       "      <td>0.641641</td>\n",
       "      <td>0.358359</td>\n",
       "    </tr>\n",
       "    <tr>\n",
       "      <th>Overweight_No Strokes</th>\n",
       "      <td>0.923301</td>\n",
       "      <td>0.076699</td>\n",
       "    </tr>\n",
       "    <tr>\n",
       "      <th>Underweight_Had Stroke(s)</th>\n",
       "      <td>0.631373</td>\n",
       "      <td>0.368627</td>\n",
       "    </tr>\n",
       "    <tr>\n",
       "      <th>Underweight_No Strokes</th>\n",
       "      <td>0.936766</td>\n",
       "      <td>0.063234</td>\n",
       "    </tr>\n",
       "  </tbody>\n",
       "</table>\n",
       "</div>"
      ],
      "text/plain": [
       "HeartDisease                        No       Yes\n",
       "BMI_vs_Stroke                                   \n",
       "Healthy Weight_Had Stroke(s)  0.669365  0.330635\n",
       "Healthy Weight_No Strokes     0.943890  0.056110\n",
       "Obese_Had Stroke(s)           0.608519  0.391481\n",
       "Obese_No Strokes              0.909202  0.090798\n",
       "Overweight_Had Stroke(s)      0.641641  0.358359\n",
       "Overweight_No Strokes         0.923301  0.076699\n",
       "Underweight_Had Stroke(s)     0.631373  0.368627\n",
       "Underweight_No Strokes        0.936766  0.063234"
      ]
     },
     "metadata": {},
     "output_type": "display_data"
    },
    {
     "name": "stdout",
     "output_type": "stream",
     "text": [
      "\n",
      "BMI_vs_DiffWalking Crosstab\n"
     ]
    },
    {
     "data": {
      "text/html": [
       "<div>\n",
       "<style scoped>\n",
       "    .dataframe tbody tr th:only-of-type {\n",
       "        vertical-align: middle;\n",
       "    }\n",
       "\n",
       "    .dataframe tbody tr th {\n",
       "        vertical-align: top;\n",
       "    }\n",
       "\n",
       "    .dataframe thead th {\n",
       "        text-align: right;\n",
       "    }\n",
       "</style>\n",
       "<table border=\"1\" class=\"dataframe\">\n",
       "  <thead>\n",
       "    <tr style=\"text-align: right;\">\n",
       "      <th>HeartDisease</th>\n",
       "      <th>No</th>\n",
       "      <th>Yes</th>\n",
       "    </tr>\n",
       "    <tr>\n",
       "      <th>BMI_vs_DiffWalking</th>\n",
       "      <th></th>\n",
       "      <th></th>\n",
       "    </tr>\n",
       "  </thead>\n",
       "  <tbody>\n",
       "    <tr>\n",
       "      <th>Healthy Weight_Difficulty Walking</th>\n",
       "      <td>0.783370</td>\n",
       "      <td>0.216630</td>\n",
       "    </tr>\n",
       "    <tr>\n",
       "      <th>Healthy Weight_Walks Well</th>\n",
       "      <td>0.949937</td>\n",
       "      <td>0.050063</td>\n",
       "    </tr>\n",
       "    <tr>\n",
       "      <th>Obese_Difficulty Walking</th>\n",
       "      <td>0.774293</td>\n",
       "      <td>0.225707</td>\n",
       "    </tr>\n",
       "    <tr>\n",
       "      <th>Obese_Walks Well</th>\n",
       "      <td>0.929535</td>\n",
       "      <td>0.070465</td>\n",
       "    </tr>\n",
       "    <tr>\n",
       "      <th>Overweight_Difficulty Walking</th>\n",
       "      <td>0.765891</td>\n",
       "      <td>0.234109</td>\n",
       "    </tr>\n",
       "    <tr>\n",
       "      <th>Overweight_Walks Well</th>\n",
       "      <td>0.931319</td>\n",
       "      <td>0.068681</td>\n",
       "    </tr>\n",
       "    <tr>\n",
       "      <th>Underweight_Difficulty Walking</th>\n",
       "      <td>0.803448</td>\n",
       "      <td>0.196552</td>\n",
       "    </tr>\n",
       "    <tr>\n",
       "      <th>Underweight_Walks Well</th>\n",
       "      <td>0.945755</td>\n",
       "      <td>0.054245</td>\n",
       "    </tr>\n",
       "  </tbody>\n",
       "</table>\n",
       "</div>"
      ],
      "text/plain": [
       "HeartDisease                             No       Yes\n",
       "BMI_vs_DiffWalking                                   \n",
       "Healthy Weight_Difficulty Walking  0.783370  0.216630\n",
       "Healthy Weight_Walks Well          0.949937  0.050063\n",
       "Obese_Difficulty Walking           0.774293  0.225707\n",
       "Obese_Walks Well                   0.929535  0.070465\n",
       "Overweight_Difficulty Walking      0.765891  0.234109\n",
       "Overweight_Walks Well              0.931319  0.068681\n",
       "Underweight_Difficulty Walking     0.803448  0.196552\n",
       "Underweight_Walks Well             0.945755  0.054245"
      ]
     },
     "metadata": {},
     "output_type": "display_data"
    },
    {
     "name": "stdout",
     "output_type": "stream",
     "text": [
      "\n",
      "BMI_vs_Diabetic Crosstab\n"
     ]
    },
    {
     "data": {
      "text/html": [
       "<div>\n",
       "<style scoped>\n",
       "    .dataframe tbody tr th:only-of-type {\n",
       "        vertical-align: middle;\n",
       "    }\n",
       "\n",
       "    .dataframe tbody tr th {\n",
       "        vertical-align: top;\n",
       "    }\n",
       "\n",
       "    .dataframe thead th {\n",
       "        text-align: right;\n",
       "    }\n",
       "</style>\n",
       "<table border=\"1\" class=\"dataframe\">\n",
       "  <thead>\n",
       "    <tr style=\"text-align: right;\">\n",
       "      <th>HeartDisease</th>\n",
       "      <th>No</th>\n",
       "      <th>Yes</th>\n",
       "    </tr>\n",
       "    <tr>\n",
       "      <th>BMI_vs_Diabetic</th>\n",
       "      <th></th>\n",
       "      <th></th>\n",
       "    </tr>\n",
       "  </thead>\n",
       "  <tbody>\n",
       "    <tr>\n",
       "      <th>Healthy Weight_Has/Had Diabeties</th>\n",
       "      <td>0.805586</td>\n",
       "      <td>0.194414</td>\n",
       "    </tr>\n",
       "    <tr>\n",
       "      <th>Healthy Weight_Never Diabetic</th>\n",
       "      <td>0.944425</td>\n",
       "      <td>0.055575</td>\n",
       "    </tr>\n",
       "    <tr>\n",
       "      <th>Obese_Has/Had Diabeties</th>\n",
       "      <td>0.790524</td>\n",
       "      <td>0.209476</td>\n",
       "    </tr>\n",
       "    <tr>\n",
       "      <th>Obese_Never Diabetic</th>\n",
       "      <td>0.926582</td>\n",
       "      <td>0.073418</td>\n",
       "    </tr>\n",
       "    <tr>\n",
       "      <th>Overweight_Has/Had Diabeties</th>\n",
       "      <td>0.785065</td>\n",
       "      <td>0.214935</td>\n",
       "    </tr>\n",
       "    <tr>\n",
       "      <th>Overweight_Never Diabetic</th>\n",
       "      <td>0.930006</td>\n",
       "      <td>0.069994</td>\n",
       "    </tr>\n",
       "    <tr>\n",
       "      <th>Underweight_Has/Had Diabeties</th>\n",
       "      <td>0.773770</td>\n",
       "      <td>0.226230</td>\n",
       "    </tr>\n",
       "    <tr>\n",
       "      <th>Underweight_Never Diabetic</th>\n",
       "      <td>0.930905</td>\n",
       "      <td>0.069095</td>\n",
       "    </tr>\n",
       "  </tbody>\n",
       "</table>\n",
       "</div>"
      ],
      "text/plain": [
       "HeartDisease                            No       Yes\n",
       "BMI_vs_Diabetic                                     \n",
       "Healthy Weight_Has/Had Diabeties  0.805586  0.194414\n",
       "Healthy Weight_Never Diabetic     0.944425  0.055575\n",
       "Obese_Has/Had Diabeties           0.790524  0.209476\n",
       "Obese_Never Diabetic              0.926582  0.073418\n",
       "Overweight_Has/Had Diabeties      0.785065  0.214935\n",
       "Overweight_Never Diabetic         0.930006  0.069994\n",
       "Underweight_Has/Had Diabeties     0.773770  0.226230\n",
       "Underweight_Never Diabetic        0.930905  0.069095"
      ]
     },
     "metadata": {},
     "output_type": "display_data"
    },
    {
     "name": "stdout",
     "output_type": "stream",
     "text": [
      "\n",
      "BMI_vs_PhysicalActivity Crosstab\n"
     ]
    },
    {
     "data": {
      "text/html": [
       "<div>\n",
       "<style scoped>\n",
       "    .dataframe tbody tr th:only-of-type {\n",
       "        vertical-align: middle;\n",
       "    }\n",
       "\n",
       "    .dataframe tbody tr th {\n",
       "        vertical-align: top;\n",
       "    }\n",
       "\n",
       "    .dataframe thead th {\n",
       "        text-align: right;\n",
       "    }\n",
       "</style>\n",
       "<table border=\"1\" class=\"dataframe\">\n",
       "  <thead>\n",
       "    <tr style=\"text-align: right;\">\n",
       "      <th>HeartDisease</th>\n",
       "      <th>No</th>\n",
       "      <th>Yes</th>\n",
       "    </tr>\n",
       "    <tr>\n",
       "      <th>BMI_vs_PhysicalActivity</th>\n",
       "      <th></th>\n",
       "      <th></th>\n",
       "    </tr>\n",
       "  </thead>\n",
       "  <tbody>\n",
       "    <tr>\n",
       "      <th>Healthy Weight_Physically Active</th>\n",
       "      <td>0.945379</td>\n",
       "      <td>0.054621</td>\n",
       "    </tr>\n",
       "    <tr>\n",
       "      <th>Healthy Weight_Sedentary</th>\n",
       "      <td>0.884545</td>\n",
       "      <td>0.115455</td>\n",
       "    </tr>\n",
       "    <tr>\n",
       "      <th>Obese_Physically Active</th>\n",
       "      <td>0.916606</td>\n",
       "      <td>0.083394</td>\n",
       "    </tr>\n",
       "    <tr>\n",
       "      <th>Obese_Sedentary</th>\n",
       "      <td>0.850143</td>\n",
       "      <td>0.149857</td>\n",
       "    </tr>\n",
       "    <tr>\n",
       "      <th>Overweight_Physically Active</th>\n",
       "      <td>0.925061</td>\n",
       "      <td>0.074939</td>\n",
       "    </tr>\n",
       "    <tr>\n",
       "      <th>Overweight_Sedentary</th>\n",
       "      <td>0.862459</td>\n",
       "      <td>0.137541</td>\n",
       "    </tr>\n",
       "    <tr>\n",
       "      <th>Underweight_Physically Active</th>\n",
       "      <td>0.938686</td>\n",
       "      <td>0.061314</td>\n",
       "    </tr>\n",
       "    <tr>\n",
       "      <th>Underweight_Sedentary</th>\n",
       "      <td>0.879158</td>\n",
       "      <td>0.120842</td>\n",
       "    </tr>\n",
       "  </tbody>\n",
       "</table>\n",
       "</div>"
      ],
      "text/plain": [
       "HeartDisease                            No       Yes\n",
       "BMI_vs_PhysicalActivity                             \n",
       "Healthy Weight_Physically Active  0.945379  0.054621\n",
       "Healthy Weight_Sedentary          0.884545  0.115455\n",
       "Obese_Physically Active           0.916606  0.083394\n",
       "Obese_Sedentary                   0.850143  0.149857\n",
       "Overweight_Physically Active      0.925061  0.074939\n",
       "Overweight_Sedentary              0.862459  0.137541\n",
       "Underweight_Physically Active     0.938686  0.061314\n",
       "Underweight_Sedentary             0.879158  0.120842"
      ]
     },
     "metadata": {},
     "output_type": "display_data"
    },
    {
     "name": "stdout",
     "output_type": "stream",
     "text": [
      "\n",
      "BMI_vs_Asthma Crosstab\n"
     ]
    },
    {
     "data": {
      "text/html": [
       "<div>\n",
       "<style scoped>\n",
       "    .dataframe tbody tr th:only-of-type {\n",
       "        vertical-align: middle;\n",
       "    }\n",
       "\n",
       "    .dataframe tbody tr th {\n",
       "        vertical-align: top;\n",
       "    }\n",
       "\n",
       "    .dataframe thead th {\n",
       "        text-align: right;\n",
       "    }\n",
       "</style>\n",
       "<table border=\"1\" class=\"dataframe\">\n",
       "  <thead>\n",
       "    <tr style=\"text-align: right;\">\n",
       "      <th>HeartDisease</th>\n",
       "      <th>No</th>\n",
       "      <th>Yes</th>\n",
       "    </tr>\n",
       "    <tr>\n",
       "      <th>BMI_vs_Asthma</th>\n",
       "      <th></th>\n",
       "      <th></th>\n",
       "    </tr>\n",
       "  </thead>\n",
       "  <tbody>\n",
       "    <tr>\n",
       "      <th>Healthy Weight_Has Asthma</th>\n",
       "      <td>0.913103</td>\n",
       "      <td>0.086897</td>\n",
       "    </tr>\n",
       "    <tr>\n",
       "      <th>Healthy Weight_No Asthma</th>\n",
       "      <td>0.937977</td>\n",
       "      <td>0.062023</td>\n",
       "    </tr>\n",
       "    <tr>\n",
       "      <th>Obese_Has Asthma</th>\n",
       "      <td>0.863256</td>\n",
       "      <td>0.136744</td>\n",
       "    </tr>\n",
       "    <tr>\n",
       "      <th>Obese_No Asthma</th>\n",
       "      <td>0.903069</td>\n",
       "      <td>0.096931</td>\n",
       "    </tr>\n",
       "    <tr>\n",
       "      <th>Overweight_Has Asthma</th>\n",
       "      <td>0.891631</td>\n",
       "      <td>0.108369</td>\n",
       "    </tr>\n",
       "    <tr>\n",
       "      <th>Overweight_No Asthma</th>\n",
       "      <td>0.915592</td>\n",
       "      <td>0.084408</td>\n",
       "    </tr>\n",
       "    <tr>\n",
       "      <th>Underweight_Has Asthma</th>\n",
       "      <td>0.861516</td>\n",
       "      <td>0.138484</td>\n",
       "    </tr>\n",
       "    <tr>\n",
       "      <th>Underweight_No Asthma</th>\n",
       "      <td>0.930832</td>\n",
       "      <td>0.069168</td>\n",
       "    </tr>\n",
       "  </tbody>\n",
       "</table>\n",
       "</div>"
      ],
      "text/plain": [
       "HeartDisease                     No       Yes\n",
       "BMI_vs_Asthma                                \n",
       "Healthy Weight_Has Asthma  0.913103  0.086897\n",
       "Healthy Weight_No Asthma   0.937977  0.062023\n",
       "Obese_Has Asthma           0.863256  0.136744\n",
       "Obese_No Asthma            0.903069  0.096931\n",
       "Overweight_Has Asthma      0.891631  0.108369\n",
       "Overweight_No Asthma       0.915592  0.084408\n",
       "Underweight_Has Asthma     0.861516  0.138484\n",
       "Underweight_No Asthma      0.930832  0.069168"
      ]
     },
     "metadata": {},
     "output_type": "display_data"
    },
    {
     "name": "stdout",
     "output_type": "stream",
     "text": [
      "\n",
      "BMI_vs_KidneyDisease Crosstab\n"
     ]
    },
    {
     "data": {
      "text/html": [
       "<div>\n",
       "<style scoped>\n",
       "    .dataframe tbody tr th:only-of-type {\n",
       "        vertical-align: middle;\n",
       "    }\n",
       "\n",
       "    .dataframe tbody tr th {\n",
       "        vertical-align: top;\n",
       "    }\n",
       "\n",
       "    .dataframe thead th {\n",
       "        text-align: right;\n",
       "    }\n",
       "</style>\n",
       "<table border=\"1\" class=\"dataframe\">\n",
       "  <thead>\n",
       "    <tr style=\"text-align: right;\">\n",
       "      <th>HeartDisease</th>\n",
       "      <th>No</th>\n",
       "      <th>Yes</th>\n",
       "    </tr>\n",
       "    <tr>\n",
       "      <th>BMI_vs_KidneyDisease</th>\n",
       "      <th></th>\n",
       "      <th></th>\n",
       "    </tr>\n",
       "  </thead>\n",
       "  <tbody>\n",
       "    <tr>\n",
       "      <th>Healthy Weight_Has Kidney Disease</th>\n",
       "      <td>0.751493</td>\n",
       "      <td>0.248507</td>\n",
       "    </tr>\n",
       "    <tr>\n",
       "      <th>Healthy Weight_No Kidney Disease</th>\n",
       "      <td>0.940381</td>\n",
       "      <td>0.059619</td>\n",
       "    </tr>\n",
       "    <tr>\n",
       "      <th>Obese_Has Kidney Disease</th>\n",
       "      <td>0.685170</td>\n",
       "      <td>0.314830</td>\n",
       "    </tr>\n",
       "    <tr>\n",
       "      <th>Obese_No Kidney Disease</th>\n",
       "      <td>0.907115</td>\n",
       "      <td>0.092885</td>\n",
       "    </tr>\n",
       "    <tr>\n",
       "      <th>Overweight_Has Kidney Disease</th>\n",
       "      <td>0.701791</td>\n",
       "      <td>0.298209</td>\n",
       "    </tr>\n",
       "    <tr>\n",
       "      <th>Overweight_No Kidney Disease</th>\n",
       "      <td>0.920097</td>\n",
       "      <td>0.079903</td>\n",
       "    </tr>\n",
       "    <tr>\n",
       "      <th>Underweight_Has Kidney Disease</th>\n",
       "      <td>0.742574</td>\n",
       "      <td>0.257426</td>\n",
       "    </tr>\n",
       "    <tr>\n",
       "      <th>Underweight_No Kidney Disease</th>\n",
       "      <td>0.928892</td>\n",
       "      <td>0.071108</td>\n",
       "    </tr>\n",
       "  </tbody>\n",
       "</table>\n",
       "</div>"
      ],
      "text/plain": [
       "HeartDisease                             No       Yes\n",
       "BMI_vs_KidneyDisease                                 \n",
       "Healthy Weight_Has Kidney Disease  0.751493  0.248507\n",
       "Healthy Weight_No Kidney Disease   0.940381  0.059619\n",
       "Obese_Has Kidney Disease           0.685170  0.314830\n",
       "Obese_No Kidney Disease            0.907115  0.092885\n",
       "Overweight_Has Kidney Disease      0.701791  0.298209\n",
       "Overweight_No Kidney Disease       0.920097  0.079903\n",
       "Underweight_Has Kidney Disease     0.742574  0.257426\n",
       "Underweight_No Kidney Disease      0.928892  0.071108"
      ]
     },
     "metadata": {},
     "output_type": "display_data"
    },
    {
     "name": "stdout",
     "output_type": "stream",
     "text": [
      "\n",
      "BMI_vs_SkinCancer Crosstab\n"
     ]
    },
    {
     "data": {
      "text/html": [
       "<div>\n",
       "<style scoped>\n",
       "    .dataframe tbody tr th:only-of-type {\n",
       "        vertical-align: middle;\n",
       "    }\n",
       "\n",
       "    .dataframe tbody tr th {\n",
       "        vertical-align: top;\n",
       "    }\n",
       "\n",
       "    .dataframe thead th {\n",
       "        text-align: right;\n",
       "    }\n",
       "</style>\n",
       "<table border=\"1\" class=\"dataframe\">\n",
       "  <thead>\n",
       "    <tr style=\"text-align: right;\">\n",
       "      <th>HeartDisease</th>\n",
       "      <th>No</th>\n",
       "      <th>Yes</th>\n",
       "    </tr>\n",
       "    <tr>\n",
       "      <th>BMI_vs_SkinCancer</th>\n",
       "      <th></th>\n",
       "      <th></th>\n",
       "    </tr>\n",
       "  </thead>\n",
       "  <tbody>\n",
       "    <tr>\n",
       "      <th>Healthy Weight_Has Skin Cancer</th>\n",
       "      <td>0.864144</td>\n",
       "      <td>0.135856</td>\n",
       "    </tr>\n",
       "    <tr>\n",
       "      <th>Healthy Weight_No Skin Cancer</th>\n",
       "      <td>0.942853</td>\n",
       "      <td>0.057147</td>\n",
       "    </tr>\n",
       "    <tr>\n",
       "      <th>Obese_Has Skin Cancer</th>\n",
       "      <td>0.799370</td>\n",
       "      <td>0.200630</td>\n",
       "    </tr>\n",
       "    <tr>\n",
       "      <th>Obese_No Skin Cancer</th>\n",
       "      <td>0.904676</td>\n",
       "      <td>0.095324</td>\n",
       "    </tr>\n",
       "    <tr>\n",
       "      <th>Overweight_Has Skin Cancer</th>\n",
       "      <td>0.830270</td>\n",
       "      <td>0.169730</td>\n",
       "    </tr>\n",
       "    <tr>\n",
       "      <th>Overweight_No Skin Cancer</th>\n",
       "      <td>0.922039</td>\n",
       "      <td>0.077961</td>\n",
       "    </tr>\n",
       "    <tr>\n",
       "      <th>Underweight_Has Skin Cancer</th>\n",
       "      <td>0.860041</td>\n",
       "      <td>0.139959</td>\n",
       "    </tr>\n",
       "    <tr>\n",
       "      <th>Underweight_No Skin Cancer</th>\n",
       "      <td>0.928092</td>\n",
       "      <td>0.071908</td>\n",
       "    </tr>\n",
       "  </tbody>\n",
       "</table>\n",
       "</div>"
      ],
      "text/plain": [
       "HeartDisease                          No       Yes\n",
       "BMI_vs_SkinCancer                                 \n",
       "Healthy Weight_Has Skin Cancer  0.864144  0.135856\n",
       "Healthy Weight_No Skin Cancer   0.942853  0.057147\n",
       "Obese_Has Skin Cancer           0.799370  0.200630\n",
       "Obese_No Skin Cancer            0.904676  0.095324\n",
       "Overweight_Has Skin Cancer      0.830270  0.169730\n",
       "Overweight_No Skin Cancer       0.922039  0.077961\n",
       "Underweight_Has Skin Cancer     0.860041  0.139959\n",
       "Underweight_No Skin Cancer      0.928092  0.071908"
      ]
     },
     "metadata": {},
     "output_type": "display_data"
    },
    {
     "name": "stdout",
     "output_type": "stream",
     "text": [
      "\n"
     ]
    }
   ],
   "source": [
    "bmi_vars = ['BMI_vs_Sex', 'BMI_vs_Race', 'BMI_vs_AgeCategory', 'BMI_vs_Smoking', 'BMI_vs_AlcoholDrinking',\n",
    "            'BMI_vs_Stroke', 'BMI_vs_DiffWalking', 'BMI_vs_Diabetic', 'BMI_vs_PhysicalActivity', 'BMI_vs_Asthma', \n",
    "            'BMI_vs_KidneyDisease', 'BMI_vs_SkinCancer']\n",
    "\n",
    "for var in bmi_vars:\n",
    "    print(f'{var} Crosstab')\n",
    "    display(pd.crosstab(heart2[var], heart2['HeartDisease'], normalize='index'))\n",
    "    print('')"
   ]
  },
  {
   "cell_type": "code",
   "execution_count": 41,
   "id": "a1626ec5",
   "metadata": {},
   "outputs": [
    {
     "data": {
      "text/plain": [
       "Index(['HeartDisease', 'BMI', 'PhysicalHealth', 'MentalHealth', 'Sex', 'Race',\n",
       "       'GenHealth', 'SleepTime', 'AgeCategory', 'Smoking', 'AlcoholDrinking',\n",
       "       'Stroke', 'DiffWalking', 'Diabetic', 'PhysicalActivity', 'Asthma',\n",
       "       'KidneyDisease', 'SkinCancer', 'Smoking_vs_AlcoholDrinking',\n",
       "       'Smoking_vs_Stroke', 'Smoking_vs_Mobility', 'Smoking_vs_Diabeties',\n",
       "       'Smoking_vs_PhysicalActivity', 'Smoking_vs_Asthma',\n",
       "       'Smoking_vs_SkinCancer', 'BMI_Class', 'BMI_vs_Sex', 'BMI_vs_Race',\n",
       "       'BMI_vs_AgeCategory', 'BMI_vs_Smoking', 'BMI_vs_AlcoholDrinking',\n",
       "       'BMI_vs_Stroke', 'BMI_vs_DiffWalking', 'BMI_vs_Diabetic',\n",
       "       'BMI_vs_PhysicalActivity', 'BMI_vs_Asthma', 'BMI_vs_KidneyDisease',\n",
       "       'BMI_vs_SkinCancer'],\n",
       "      dtype='object')"
      ]
     },
     "execution_count": 41,
     "metadata": {},
     "output_type": "execute_result"
    }
   ],
   "source": [
    "heart2.columns"
   ]
  },
  {
   "cell_type": "code",
   "execution_count": null,
   "id": "f6fb8a80",
   "metadata": {},
   "outputs": [],
   "source": []
  },
  {
   "cell_type": "markdown",
   "id": "df70fc85",
   "metadata": {},
   "source": [
    "## Logistic Regression Models"
   ]
  },
  {
   "cell_type": "code",
   "execution_count": 42,
   "id": "469e330a",
   "metadata": {},
   "outputs": [
    {
     "data": {
      "text/plain": [
       "Index(['HeartDisease', 'BMI', 'PhysicalHealth', 'MentalHealth', 'Sex', 'Race',\n",
       "       'GenHealth', 'SleepTime', 'AgeCategory', 'Smoking', 'AlcoholDrinking',\n",
       "       'Stroke', 'DiffWalking', 'Diabetic', 'PhysicalActivity', 'Asthma',\n",
       "       'KidneyDisease', 'SkinCancer', 'Smoking_vs_AlcoholDrinking',\n",
       "       'Smoking_vs_Stroke', 'Smoking_vs_Mobility', 'Smoking_vs_Diabeties',\n",
       "       'Smoking_vs_PhysicalActivity', 'Smoking_vs_Asthma',\n",
       "       'Smoking_vs_SkinCancer', 'BMI_Class', 'BMI_vs_Sex', 'BMI_vs_Race',\n",
       "       'BMI_vs_AgeCategory', 'BMI_vs_Smoking', 'BMI_vs_AlcoholDrinking',\n",
       "       'BMI_vs_Stroke', 'BMI_vs_DiffWalking', 'BMI_vs_Diabetic',\n",
       "       'BMI_vs_PhysicalActivity', 'BMI_vs_Asthma', 'BMI_vs_KidneyDisease',\n",
       "       'BMI_vs_SkinCancer'],\n",
       "      dtype='object')"
      ]
     },
     "execution_count": 42,
     "metadata": {},
     "output_type": "execute_result"
    }
   ],
   "source": [
    "heart2.columns"
   ]
  },
  {
   "cell_type": "code",
   "execution_count": 43,
   "id": "065ccd6a",
   "metadata": {},
   "outputs": [
    {
     "data": {
      "text/plain": [
       "0    292422\n",
       "1     27373\n",
       "Name: HeartDisease, dtype: int64"
      ]
     },
     "execution_count": 43,
     "metadata": {},
     "output_type": "execute_result"
    }
   ],
   "source": [
    "heart2['HeartDisease'] = heart2['HeartDisease'].apply(lambda x: 1 if x == 'Yes' else 0)\n",
    "\n",
    "heart2['HeartDisease'].value_counts()"
   ]
  },
  {
   "cell_type": "markdown",
   "id": "c0e79389",
   "metadata": {},
   "source": [
    "#### Model #1a\n",
    "* BMI_Class\n",
    "\n",
    "#### Interpretation: \n",
    "This model does a poor job separting classes(Heart Disease vs No Heart Disease). WIth an AUC score of 55%, this model's accuracy not much better than random predictions. The probability of a person with a Healthy weight BMI class getting Heart Disease is about 6.5%.\n",
    "\n",
    "AUC Score: 55%"
   ]
  },
  {
   "cell_type": "code",
   "execution_count": 44,
   "id": "e5c7245c",
   "metadata": {},
   "outputs": [
    {
     "name": "stdout",
     "output_type": "stream",
     "text": [
      "Optimization terminated successfully.\n",
      "         Current function value: 0.290667\n",
      "         Iterations 7\n"
     ]
    },
    {
     "data": {
      "text/html": [
       "<table class=\"simpletable\">\n",
       "<caption>Logit Regression Results</caption>\n",
       "<tr>\n",
       "  <th>Dep. Variable:</th>     <td>HeartDisease</td>   <th>  No. Observations:  </th>   <td>319795</td>  \n",
       "</tr>\n",
       "<tr>\n",
       "  <th>Model:</th>                 <td>Logit</td>      <th>  Df Residuals:      </th>   <td>319791</td>  \n",
       "</tr>\n",
       "<tr>\n",
       "  <th>Method:</th>                 <td>MLE</td>       <th>  Df Model:          </th>   <td>     3</td>  \n",
       "</tr>\n",
       "<tr>\n",
       "  <th>Date:</th>            <td>Mon, 01 May 2023</td> <th>  Pseudo R-squ.:     </th>  <td>0.005340</td> \n",
       "</tr>\n",
       "<tr>\n",
       "  <th>Time:</th>                <td>17:09:47</td>     <th>  Log-Likelihood:    </th>  <td> -92954.</td> \n",
       "</tr>\n",
       "<tr>\n",
       "  <th>converged:</th>             <td>True</td>       <th>  LL-Null:           </th>  <td> -93453.</td> \n",
       "</tr>\n",
       "<tr>\n",
       "  <th>Covariance Type:</th>     <td>nonrobust</td>    <th>  LLR p-value:       </th> <td>4.897e-216</td>\n",
       "</tr>\n",
       "</table>\n",
       "<table class=\"simpletable\">\n",
       "<tr>\n",
       "               <td></td>                  <th>coef</th>     <th>std err</th>      <th>z</th>      <th>P>|z|</th>  <th>[0.025</th>    <th>0.975]</th>  \n",
       "</tr>\n",
       "<tr>\n",
       "  <th>Intercept</th>                   <td>   -2.6691</td> <td>    0.013</td> <td> -205.020</td> <td> 0.000</td> <td>   -2.695</td> <td>   -2.644</td>\n",
       "</tr>\n",
       "<tr>\n",
       "  <th>C(BMI_Class)[T.Obese]</th>       <td>    0.5131</td> <td>    0.017</td> <td>   30.996</td> <td> 0.000</td> <td>    0.481</td> <td>    0.546</td>\n",
       "</tr>\n",
       "<tr>\n",
       "  <th>C(BMI_Class)[T.Overweight]</th>  <td>    0.3214</td> <td>    0.017</td> <td>   19.238</td> <td> 0.000</td> <td>    0.289</td> <td>    0.354</td>\n",
       "</tr>\n",
       "<tr>\n",
       "  <th>C(BMI_Class)[T.Underweight]</th> <td>    0.2059</td> <td>    0.054</td> <td>    3.839</td> <td> 0.000</td> <td>    0.101</td> <td>    0.311</td>\n",
       "</tr>\n",
       "</table>"
      ],
      "text/plain": [
       "<class 'statsmodels.iolib.summary.Summary'>\n",
       "\"\"\"\n",
       "                           Logit Regression Results                           \n",
       "==============================================================================\n",
       "Dep. Variable:           HeartDisease   No. Observations:               319795\n",
       "Model:                          Logit   Df Residuals:                   319791\n",
       "Method:                           MLE   Df Model:                            3\n",
       "Date:                Mon, 01 May 2023   Pseudo R-squ.:                0.005340\n",
       "Time:                        17:09:47   Log-Likelihood:                -92954.\n",
       "converged:                       True   LL-Null:                       -93453.\n",
       "Covariance Type:            nonrobust   LLR p-value:                4.897e-216\n",
       "===============================================================================================\n",
       "                                  coef    std err          z      P>|z|      [0.025      0.975]\n",
       "-----------------------------------------------------------------------------------------------\n",
       "Intercept                      -2.6691      0.013   -205.020      0.000      -2.695      -2.644\n",
       "C(BMI_Class)[T.Obese]           0.5131      0.017     30.996      0.000       0.481       0.546\n",
       "C(BMI_Class)[T.Overweight]      0.3214      0.017     19.238      0.000       0.289       0.354\n",
       "C(BMI_Class)[T.Underweight]     0.2059      0.054      3.839      0.000       0.101       0.311\n",
       "===============================================================================================\n",
       "\"\"\""
      ]
     },
     "execution_count": 44,
     "metadata": {},
     "output_type": "execute_result"
    }
   ],
   "source": [
    "from statsmodels.formula.api import logit\n",
    "\n",
    "model1a = logit(formula=\"\"\"HeartDisease ~ C(BMI_Class)\"\"\", data=heart2).fit()\n",
    "\n",
    "model1a.summary()"
   ]
  },
  {
   "cell_type": "code",
   "execution_count": 45,
   "id": "f1f882a8",
   "metadata": {},
   "outputs": [
    {
     "data": {
      "image/png": "[encoded data removed]",
      "text/plain": [
       "<Figure size 432x288 with 1 Axes>"
      ]
     },
     "metadata": {
      "needs_background": "light"
     },
     "output_type": "display_data"
    }
   ],
   "source": [
    "import matplotlib.pyplot as plt\n",
    "\n",
    "# Import Metrics package\n",
    "import sklearn.metrics as skm\n",
    "\n",
    "# Make predictions for Model #1\n",
    "heart2['pred_1a'] = model1a.predict(heart2)\n",
    "\n",
    "# Generate fpr, tpr, and thresholds for ROC curve\n",
    "fpr, tpr, thresholds = skm.roc_curve(heart2['HeartDisease'], heart2['pred_1a'])\n",
    "\n",
    "\n",
    "# ROC Curve Plot Function\n",
    "def plot_roc(fpr,tpr, title):\n",
    "    \n",
    "    # AUC score\n",
    "    auc_score = skm.auc(fpr,tpr)\n",
    "    \n",
    "    # ROC curve\n",
    "    skm.RocCurveDisplay(fpr=fpr, tpr=tpr,\n",
    "                        roc_auc=auc_score,\n",
    "                        estimator_name='results').plot()\n",
    "    \n",
    "    # Add title to ROC curve\n",
    "    plt.title(title)\n",
    "    \n",
    "    # Add the diagonal line\n",
    "    plt.plot([0, 1], [0, 1], \n",
    "             color='orange', \n",
    "             linestyle='--')\n",
    "\n",
    "# Display ROC Curve w/ AUC Score: Model1a\n",
    "plot_roc(fpr,tpr, title='Model 1a')"
   ]
  },
  {
   "cell_type": "code",
   "execution_count": 46,
   "id": "4248577c",
   "metadata": {},
   "outputs": [
    {
     "data": {
      "text/plain": [
       "0    0.06482\n",
       "dtype: float64"
      ]
     },
     "execution_count": 46,
     "metadata": {},
     "output_type": "execute_result"
    }
   ],
   "source": [
    "model1a.predict({'BMI_Class':'Healthy Weight'})"
   ]
  },
  {
   "cell_type": "markdown",
   "id": "8152595b",
   "metadata": {},
   "source": [
    "#### Model #1\n",
    "* AgeCategory\n",
    "* Stroke\n",
    "\n",
    "#### Interpretation: \n",
    "All coefficients are significant to the model. This model predicts that the probability of Heart Disease for a person 60 years of age or older who has had at least one stroke is about 43%.\n",
    "\n",
    "AUC Score: 74%"
   ]
  },
  {
   "cell_type": "code",
   "execution_count": 47,
   "id": "e463d323",
   "metadata": {},
   "outputs": [
    {
     "name": "stdout",
     "output_type": "stream",
     "text": [
      "Optimization terminated successfully.\n",
      "         Current function value: 0.257333\n",
      "         Iterations 9\n"
     ]
    },
    {
     "data": {
      "text/html": [
       "<table class=\"simpletable\">\n",
       "<caption>Logit Regression Results</caption>\n",
       "<tr>\n",
       "  <th>Dep. Variable:</th>     <td>HeartDisease</td>   <th>  No. Observations:  </th>  <td>319795</td> \n",
       "</tr>\n",
       "<tr>\n",
       "  <th>Model:</th>                 <td>Logit</td>      <th>  Df Residuals:      </th>  <td>319791</td> \n",
       "</tr>\n",
       "<tr>\n",
       "  <th>Method:</th>                 <td>MLE</td>       <th>  Df Model:          </th>  <td>     3</td> \n",
       "</tr>\n",
       "<tr>\n",
       "  <th>Date:</th>            <td>Mon, 01 May 2023</td> <th>  Pseudo R-squ.:     </th>  <td>0.1194</td> \n",
       "</tr>\n",
       "<tr>\n",
       "  <th>Time:</th>                <td>17:09:52</td>     <th>  Log-Likelihood:    </th> <td> -82294.</td>\n",
       "</tr>\n",
       "<tr>\n",
       "  <th>converged:</th>             <td>True</td>       <th>  LL-Null:           </th> <td> -93453.</td>\n",
       "</tr>\n",
       "<tr>\n",
       "  <th>Covariance Type:</th>     <td>nonrobust</td>    <th>  LLR p-value:       </th>  <td> 0.000</td> \n",
       "</tr>\n",
       "</table>\n",
       "<table class=\"simpletable\">\n",
       "<tr>\n",
       "                    <td></td>                       <th>coef</th>     <th>std err</th>      <th>z</th>      <th>P>|z|</th>  <th>[0.025</th>    <th>0.975]</th>  \n",
       "</tr>\n",
       "<tr>\n",
       "  <th>Intercept</th>                             <td>   -1.4505</td> <td>    0.024</td> <td>  -60.141</td> <td> 0.000</td> <td>   -1.498</td> <td>   -1.403</td>\n",
       "</tr>\n",
       "<tr>\n",
       "  <th>C(AgeCategory)[T.Older Adult (60+)]</th>   <td>    1.1610</td> <td>    0.017</td> <td>   69.644</td> <td> 0.000</td> <td>    1.128</td> <td>    1.194</td>\n",
       "</tr>\n",
       "<tr>\n",
       "  <th>C(AgeCategory)[T.Young Adult (18-39)]</th> <td>   -1.5585</td> <td>    0.039</td> <td>  -40.103</td> <td> 0.000</td> <td>   -1.635</td> <td>   -1.482</td>\n",
       "</tr>\n",
       "<tr>\n",
       "  <th>C(Stroke)[T.No Strokes]</th>               <td>   -1.5938</td> <td>    0.021</td> <td>  -76.756</td> <td> 0.000</td> <td>   -1.634</td> <td>   -1.553</td>\n",
       "</tr>\n",
       "</table>"
      ],
      "text/plain": [
       "<class 'statsmodels.iolib.summary.Summary'>\n",
       "\"\"\"\n",
       "                           Logit Regression Results                           \n",
       "==============================================================================\n",
       "Dep. Variable:           HeartDisease   No. Observations:               319795\n",
       "Model:                          Logit   Df Residuals:                   319791\n",
       "Method:                           MLE   Df Model:                            3\n",
       "Date:                Mon, 01 May 2023   Pseudo R-squ.:                  0.1194\n",
       "Time:                        17:09:52   Log-Likelihood:                -82294.\n",
       "converged:                       True   LL-Null:                       -93453.\n",
       "Covariance Type:            nonrobust   LLR p-value:                     0.000\n",
       "=========================================================================================================\n",
       "                                            coef    std err          z      P>|z|      [0.025      0.975]\n",
       "---------------------------------------------------------------------------------------------------------\n",
       "Intercept                                -1.4505      0.024    -60.141      0.000      -1.498      -1.403\n",
       "C(AgeCategory)[T.Older Adult (60+)]       1.1610      0.017     69.644      0.000       1.128       1.194\n",
       "C(AgeCategory)[T.Young Adult (18-39)]    -1.5585      0.039    -40.103      0.000      -1.635      -1.482\n",
       "C(Stroke)[T.No Strokes]                  -1.5938      0.021    -76.756      0.000      -1.634      -1.553\n",
       "=========================================================================================================\n",
       "\"\"\""
      ]
     },
     "execution_count": 47,
     "metadata": {},
     "output_type": "execute_result"
    }
   ],
   "source": [
    "from statsmodels.formula.api import logit\n",
    "\n",
    "model1 = logit(formula=\"\"\"HeartDisease ~ C(AgeCategory) + \n",
    "                                         C(Stroke)\"\"\", data=heart2).fit()\n",
    "\n",
    "model1.summary()"
   ]
  },
  {
   "cell_type": "code",
   "execution_count": 65,
   "id": "861c8938",
   "metadata": {},
   "outputs": [
    {
     "data": {
      "image/png": "[encoded data removed]",
      "text/plain": [
       "<Figure size 432x288 with 1 Axes>"
      ]
     },
     "metadata": {
      "needs_background": "light"
     },
     "output_type": "display_data"
    }
   ],
   "source": [
    "import matplotlib.pyplot as plt\n",
    "\n",
    "# Import Metrics package\n",
    "import sklearn.metrics as skm\n",
    "\n",
    "# Make predictions for Model #1\n",
    "heart2['pred_1'] = model1.predict(heart2)\n",
    "\n",
    "# Generate fpr, tpr, and thresholds for ROC curve\n",
    "fpr, tpr, thresholds = skm.roc_curve(heart2['HeartDisease'], heart2['pred_1'])\n",
    "\n",
    "# Display ROC Curve w/ AUC Score: Model1\n",
    "plot_roc(fpr,tpr, title='Model 1')"
   ]
  },
  {
   "cell_type": "code",
   "execution_count": 49,
   "id": "65c049b8",
   "metadata": {},
   "outputs": [
    {
     "data": {
      "text/plain": [
       "0    0.428141\n",
       "dtype: float64"
      ]
     },
     "execution_count": 49,
     "metadata": {},
     "output_type": "execute_result"
    }
   ],
   "source": [
    "model1.predict({'AgeCategory':'Older Adult (60+)', 'Stroke':'Had Stroke(s)'})"
   ]
  },
  {
   "cell_type": "markdown",
   "id": "1917c485",
   "metadata": {},
   "source": [
    "#### Model #2\n",
    "* <b>GenHealth</b>\n",
    "* AgeCategory\n",
    "* Stroke\n",
    "\n",
    "#### Interpretation: \n",
    "All coefficients are significant to the model. This model predicts that the probability of Heart Disease for a person between the ages of 18 and 39, in poor health, with no prior strokes is about 5%.  \n",
    "\n",
    "AUC Score: 81%"
   ]
  },
  {
   "cell_type": "code",
   "execution_count": 50,
   "id": "c4fe3f02",
   "metadata": {},
   "outputs": [
    {
     "name": "stdout",
     "output_type": "stream",
     "text": [
      "Optimization terminated successfully.\n",
      "         Current function value: 0.239835\n",
      "         Iterations 9\n"
     ]
    },
    {
     "data": {
      "text/html": [
       "<table class=\"simpletable\">\n",
       "<caption>Logit Regression Results</caption>\n",
       "<tr>\n",
       "  <th>Dep. Variable:</th>     <td>HeartDisease</td>   <th>  No. Observations:  </th>  <td>319795</td> \n",
       "</tr>\n",
       "<tr>\n",
       "  <th>Model:</th>                 <td>Logit</td>      <th>  Df Residuals:      </th>  <td>319787</td> \n",
       "</tr>\n",
       "<tr>\n",
       "  <th>Method:</th>                 <td>MLE</td>       <th>  Df Model:          </th>  <td>     7</td> \n",
       "</tr>\n",
       "<tr>\n",
       "  <th>Date:</th>            <td>Mon, 01 May 2023</td> <th>  Pseudo R-squ.:     </th>  <td>0.1793</td> \n",
       "</tr>\n",
       "<tr>\n",
       "  <th>Time:</th>                <td>17:09:58</td>     <th>  Log-Likelihood:    </th> <td> -76698.</td>\n",
       "</tr>\n",
       "<tr>\n",
       "  <th>converged:</th>             <td>True</td>       <th>  LL-Null:           </th> <td> -93453.</td>\n",
       "</tr>\n",
       "<tr>\n",
       "  <th>Covariance Type:</th>     <td>nonrobust</td>    <th>  LLR p-value:       </th>  <td> 0.000</td> \n",
       "</tr>\n",
       "</table>\n",
       "<table class=\"simpletable\">\n",
       "<tr>\n",
       "                    <td></td>                       <th>coef</th>     <th>std err</th>      <th>z</th>      <th>P>|z|</th>  <th>[0.025</th>    <th>0.975]</th>  \n",
       "</tr>\n",
       "<tr>\n",
       "  <th>Intercept</th>                             <td>   -2.9540</td> <td>    0.036</td> <td>  -81.523</td> <td> 0.000</td> <td>   -3.025</td> <td>   -2.883</td>\n",
       "</tr>\n",
       "<tr>\n",
       "  <th>C(AgeCategory)[T.Older Adult (60+)]</th>   <td>    1.0994</td> <td>    0.017</td> <td>   64.491</td> <td> 0.000</td> <td>    1.066</td> <td>    1.133</td>\n",
       "</tr>\n",
       "<tr>\n",
       "  <th>C(AgeCategory)[T.Young Adult (18-39)]</th> <td>   -1.3898</td> <td>    0.039</td> <td>  -35.517</td> <td> 0.000</td> <td>   -1.466</td> <td>   -1.313</td>\n",
       "</tr>\n",
       "<tr>\n",
       "  <th>C(Stroke)[T.No Strokes]</th>               <td>   -1.1846</td> <td>    0.022</td> <td>  -54.183</td> <td> 0.000</td> <td>   -1.227</td> <td>   -1.142</td>\n",
       "</tr>\n",
       "<tr>\n",
       "  <th>C(GenHealth)[T.Fair]</th>                  <td>    1.9805</td> <td>    0.030</td> <td>   66.062</td> <td> 0.000</td> <td>    1.922</td> <td>    2.039</td>\n",
       "</tr>\n",
       "<tr>\n",
       "  <th>C(GenHealth)[T.Good]</th>                  <td>    1.3227</td> <td>    0.029</td> <td>   46.133</td> <td> 0.000</td> <td>    1.267</td> <td>    1.379</td>\n",
       "</tr>\n",
       "<tr>\n",
       "  <th>C(GenHealth)[T.Poor]</th>                  <td>    2.5617</td> <td>    0.034</td> <td>   75.296</td> <td> 0.000</td> <td>    2.495</td> <td>    2.628</td>\n",
       "</tr>\n",
       "<tr>\n",
       "  <th>C(GenHealth)[T.Very good]</th>             <td>    0.5866</td> <td>    0.030</td> <td>   19.582</td> <td> 0.000</td> <td>    0.528</td> <td>    0.645</td>\n",
       "</tr>\n",
       "</table>"
      ],
      "text/plain": [
       "<class 'statsmodels.iolib.summary.Summary'>\n",
       "\"\"\"\n",
       "                           Logit Regression Results                           \n",
       "==============================================================================\n",
       "Dep. Variable:           HeartDisease   No. Observations:               319795\n",
       "Model:                          Logit   Df Residuals:                   319787\n",
       "Method:                           MLE   Df Model:                            7\n",
       "Date:                Mon, 01 May 2023   Pseudo R-squ.:                  0.1793\n",
       "Time:                        17:09:58   Log-Likelihood:                -76698.\n",
       "converged:                       True   LL-Null:                       -93453.\n",
       "Covariance Type:            nonrobust   LLR p-value:                     0.000\n",
       "=========================================================================================================\n",
       "                                            coef    std err          z      P>|z|      [0.025      0.975]\n",
       "---------------------------------------------------------------------------------------------------------\n",
       "Intercept                                -2.9540      0.036    -81.523      0.000      -3.025      -2.883\n",
       "C(AgeCategory)[T.Older Adult (60+)]       1.0994      0.017     64.491      0.000       1.066       1.133\n",
       "C(AgeCategory)[T.Young Adult (18-39)]    -1.3898      0.039    -35.517      0.000      -1.466      -1.313\n",
       "C(Stroke)[T.No Strokes]                  -1.1846      0.022    -54.183      0.000      -1.227      -1.142\n",
       "C(GenHealth)[T.Fair]                      1.9805      0.030     66.062      0.000       1.922       2.039\n",
       "C(GenHealth)[T.Good]                      1.3227      0.029     46.133      0.000       1.267       1.379\n",
       "C(GenHealth)[T.Poor]                      2.5617      0.034     75.296      0.000       2.495       2.628\n",
       "C(GenHealth)[T.Very good]                 0.5866      0.030     19.582      0.000       0.528       0.645\n",
       "=========================================================================================================\n",
       "\"\"\""
      ]
     },
     "execution_count": 50,
     "metadata": {},
     "output_type": "execute_result"
    }
   ],
   "source": [
    "model2 = logit(formula=\"\"\"HeartDisease ~ C(AgeCategory) + \n",
    "                                         C(Stroke) +\n",
    "                                         C(GenHealth)\"\"\", data=heart2).fit()\n",
    "\n",
    "model2.summary()"
   ]
  },
  {
   "cell_type": "code",
   "execution_count": 66,
   "id": "08952342",
   "metadata": {},
   "outputs": [
    {
     "data": {
      "image/png": "[encoded data removed]",
      "text/plain": [
       "<Figure size 432x288 with 1 Axes>"
      ]
     },
     "metadata": {
      "needs_background": "light"
     },
     "output_type": "display_data"
    }
   ],
   "source": [
    "# Make predictions for Model #2\n",
    "heart2['pred_2'] = model2.predict(heart2)\n",
    "\n",
    "# Generate fpr, tpr, and thresholds for ROC curve\n",
    "fpr, tpr, thresholds = skm.roc_curve(heart2['HeartDisease'], heart2['pred_2'])\n",
    "\n",
    "# Display ROC Curve w/ AUC Score: Model2\n",
    "plot_roc(fpr,tpr, title='Model 2')"
   ]
  },
  {
   "cell_type": "code",
   "execution_count": 52,
   "id": "a338e795",
   "metadata": {},
   "outputs": [
    {
     "data": {
      "text/plain": [
       "0    0.048952\n",
       "dtype: float64"
      ]
     },
     "execution_count": 52,
     "metadata": {},
     "output_type": "execute_result"
    }
   ],
   "source": [
    "model2.predict({'GenHealth':'Poor', 'AgeCategory':'Young Adult (18-39)', 'Stroke':'No Strokes'})"
   ]
  },
  {
   "cell_type": "markdown",
   "id": "61d13bc0",
   "metadata": {},
   "source": [
    "### Add Numeric Variables: BMI vs Sleep Time"
   ]
  },
  {
   "cell_type": "markdown",
   "id": "2a948761",
   "metadata": {},
   "source": [
    "#### Model #3\n",
    "* <b>BMI</b>\n",
    "* GenHealth\n",
    "* AgeCategory\n",
    "* Stroke\n",
    "\n",
    "#### Interpretation: \n",
    "All coefficients are significant to the model. This model has similar performance metrics to model #2. While it does not increase the AUC Score, this model does present the ability to take a patients weight into consideration. This model predicts that the probability of Heart Disease for an adult that is 60 years of age or older, in poor health, with a BMI of 30, who has had at least one stroke is about 67%"
   ]
  },
  {
   "cell_type": "code",
   "execution_count": 53,
   "id": "c18d1679",
   "metadata": {},
   "outputs": [
    {
     "name": "stdout",
     "output_type": "stream",
     "text": [
      "Optimization terminated successfully.\n",
      "         Current function value: 0.239659\n",
      "         Iterations 9\n"
     ]
    },
    {
     "data": {
      "text/html": [
       "<table class=\"simpletable\">\n",
       "<caption>Logit Regression Results</caption>\n",
       "<tr>\n",
       "  <th>Dep. Variable:</th>     <td>HeartDisease</td>   <th>  No. Observations:  </th>  <td>319795</td> \n",
       "</tr>\n",
       "<tr>\n",
       "  <th>Model:</th>                 <td>Logit</td>      <th>  Df Residuals:      </th>  <td>319786</td> \n",
       "</tr>\n",
       "<tr>\n",
       "  <th>Method:</th>                 <td>MLE</td>       <th>  Df Model:          </th>  <td>     8</td> \n",
       "</tr>\n",
       "<tr>\n",
       "  <th>Date:</th>            <td>Mon, 01 May 2023</td> <th>  Pseudo R-squ.:     </th>  <td>0.1799</td> \n",
       "</tr>\n",
       "<tr>\n",
       "  <th>Time:</th>                <td>17:10:05</td>     <th>  Log-Likelihood:    </th> <td> -76642.</td>\n",
       "</tr>\n",
       "<tr>\n",
       "  <th>converged:</th>             <td>True</td>       <th>  LL-Null:           </th> <td> -93453.</td>\n",
       "</tr>\n",
       "<tr>\n",
       "  <th>Covariance Type:</th>     <td>nonrobust</td>    <th>  LLR p-value:       </th>  <td> 0.000</td> \n",
       "</tr>\n",
       "</table>\n",
       "<table class=\"simpletable\">\n",
       "<tr>\n",
       "                    <td></td>                       <th>coef</th>     <th>std err</th>      <th>z</th>      <th>P>|z|</th>  <th>[0.025</th>    <th>0.975]</th>  \n",
       "</tr>\n",
       "<tr>\n",
       "  <th>Intercept</th>                             <td>   -3.2528</td> <td>    0.046</td> <td>  -70.936</td> <td> 0.000</td> <td>   -3.343</td> <td>   -3.163</td>\n",
       "</tr>\n",
       "<tr>\n",
       "  <th>C(AgeCategory)[T.Older Adult (60+)]</th>   <td>    1.1219</td> <td>    0.017</td> <td>   65.221</td> <td> 0.000</td> <td>    1.088</td> <td>    1.156</td>\n",
       "</tr>\n",
       "<tr>\n",
       "  <th>C(AgeCategory)[T.Young Adult (18-39)]</th> <td>   -1.3754</td> <td>    0.039</td> <td>  -35.120</td> <td> 0.000</td> <td>   -1.452</td> <td>   -1.299</td>\n",
       "</tr>\n",
       "<tr>\n",
       "  <th>C(Stroke)[T.No Strokes]</th>               <td>   -1.1897</td> <td>    0.022</td> <td>  -54.400</td> <td> 0.000</td> <td>   -1.233</td> <td>   -1.147</td>\n",
       "</tr>\n",
       "<tr>\n",
       "  <th>C(GenHealth)[T.Fair]</th>                  <td>    1.9326</td> <td>    0.030</td> <td>   63.728</td> <td> 0.000</td> <td>    1.873</td> <td>    1.992</td>\n",
       "</tr>\n",
       "<tr>\n",
       "  <th>C(GenHealth)[T.Good]</th>                  <td>    1.2865</td> <td>    0.029</td> <td>   44.544</td> <td> 0.000</td> <td>    1.230</td> <td>    1.343</td>\n",
       "</tr>\n",
       "<tr>\n",
       "  <th>C(GenHealth)[T.Poor]</th>                  <td>    2.5154</td> <td>    0.034</td> <td>   73.319</td> <td> 0.000</td> <td>    2.448</td> <td>    2.583</td>\n",
       "</tr>\n",
       "<tr>\n",
       "  <th>C(GenHealth)[T.Very good]</th>             <td>    0.5675</td> <td>    0.030</td> <td>   18.906</td> <td> 0.000</td> <td>    0.509</td> <td>    0.626</td>\n",
       "</tr>\n",
       "<tr>\n",
       "  <th>BMI</th>                                   <td>    0.0110</td> <td>    0.001</td> <td>   10.677</td> <td> 0.000</td> <td>    0.009</td> <td>    0.013</td>\n",
       "</tr>\n",
       "</table>"
      ],
      "text/plain": [
       "<class 'statsmodels.iolib.summary.Summary'>\n",
       "\"\"\"\n",
       "                           Logit Regression Results                           \n",
       "==============================================================================\n",
       "Dep. Variable:           HeartDisease   No. Observations:               319795\n",
       "Model:                          Logit   Df Residuals:                   319786\n",
       "Method:                           MLE   Df Model:                            8\n",
       "Date:                Mon, 01 May 2023   Pseudo R-squ.:                  0.1799\n",
       "Time:                        17:10:05   Log-Likelihood:                -76642.\n",
       "converged:                       True   LL-Null:                       -93453.\n",
       "Covariance Type:            nonrobust   LLR p-value:                     0.000\n",
       "=========================================================================================================\n",
       "                                            coef    std err          z      P>|z|      [0.025      0.975]\n",
       "---------------------------------------------------------------------------------------------------------\n",
       "Intercept                                -3.2528      0.046    -70.936      0.000      -3.343      -3.163\n",
       "C(AgeCategory)[T.Older Adult (60+)]       1.1219      0.017     65.221      0.000       1.088       1.156\n",
       "C(AgeCategory)[T.Young Adult (18-39)]    -1.3754      0.039    -35.120      0.000      -1.452      -1.299\n",
       "C(Stroke)[T.No Strokes]                  -1.1897      0.022    -54.400      0.000      -1.233      -1.147\n",
       "C(GenHealth)[T.Fair]                      1.9326      0.030     63.728      0.000       1.873       1.992\n",
       "C(GenHealth)[T.Good]                      1.2865      0.029     44.544      0.000       1.230       1.343\n",
       "C(GenHealth)[T.Poor]                      2.5154      0.034     73.319      0.000       2.448       2.583\n",
       "C(GenHealth)[T.Very good]                 0.5675      0.030     18.906      0.000       0.509       0.626\n",
       "BMI                                       0.0110      0.001     10.677      0.000       0.009       0.013\n",
       "=========================================================================================================\n",
       "\"\"\""
      ]
     },
     "execution_count": 53,
     "metadata": {},
     "output_type": "execute_result"
    }
   ],
   "source": [
    "model3 = logit(formula=\"\"\"HeartDisease ~ C(AgeCategory) + \n",
    "                                         C(Stroke) +\n",
    "                                         C(GenHealth) +\n",
    "                                         BMI\"\"\", data=heart2).fit()\n",
    "\n",
    "model3.summary()"
   ]
  },
  {
   "cell_type": "code",
   "execution_count": 67,
   "id": "2fc9a91f",
   "metadata": {},
   "outputs": [
    {
     "data": {
      "image/png": "[encoded data removed]",
      "text/plain": [
       "<Figure size 432x288 with 1 Axes>"
      ]
     },
     "metadata": {
      "needs_background": "light"
     },
     "output_type": "display_data"
    }
   ],
   "source": [
    "# Make predictions for Model #3\n",
    "heart2['pred_3'] = model3.predict(heart2)\n",
    "\n",
    "# Generate fpr, tpr, and thresholds for ROC curve\n",
    "fpr, tpr, thresholds = skm.roc_curve(heart2['HeartDisease'], heart2['pred_3'])\n",
    "\n",
    "# Display ROC Curve w/ AUC Score: Model3\n",
    "plot_roc(fpr,tpr, title='Model 3')"
   ]
  },
  {
   "cell_type": "code",
   "execution_count": 55,
   "id": "29092873",
   "metadata": {},
   "outputs": [
    {
     "data": {
      "text/plain": [
       "0    0.671172\n",
       "dtype: float64"
      ]
     },
     "execution_count": 55,
     "metadata": {},
     "output_type": "execute_result"
    }
   ],
   "source": [
    "model3.predict({'BMI':30, 'AgeCategory':'Older Adult (60+)', 'Stroke':'Had Stroke(s)', 'GenHealth':'Poor'})"
   ]
  },
  {
   "cell_type": "markdown",
   "id": "955e9dfe",
   "metadata": {},
   "source": [
    "#### Model #4\n",
    "* <b>SleepTime</b>\n",
    "    * The SleepTime coefficient is insignificant to the model. This variable should be removed from the model.\n",
    "* AgeCategory\n",
    "* Stroke\n",
    "* GenHealth\n",
    "\n",
    "#### Interpretation:\n",
    "This model adds the SleepTime column which produces a coeffient that is insignificant to the model. This variable may be removed as it can make the other coeffients less reliable. This model predicts that the probability of Heart Disease for an adult that is 60 years of age or older, in poor health, who gets 5 hours of sleep, and who has had at least one stroke is about 67%\n",
    "\n",
    "AUC Score: 81%"
   ]
  },
  {
   "cell_type": "code",
   "execution_count": 56,
   "id": "339e6f79",
   "metadata": {},
   "outputs": [
    {
     "name": "stdout",
     "output_type": "stream",
     "text": [
      "Optimization terminated successfully.\n",
      "         Current function value: 0.239831\n",
      "         Iterations 9\n"
     ]
    },
    {
     "data": {
      "text/html": [
       "<table class=\"simpletable\">\n",
       "<caption>Logit Regression Results</caption>\n",
       "<tr>\n",
       "  <th>Dep. Variable:</th>     <td>HeartDisease</td>   <th>  No. Observations:  </th>  <td>319795</td> \n",
       "</tr>\n",
       "<tr>\n",
       "  <th>Model:</th>                 <td>Logit</td>      <th>  Df Residuals:      </th>  <td>319786</td> \n",
       "</tr>\n",
       "<tr>\n",
       "  <th>Method:</th>                 <td>MLE</td>       <th>  Df Model:          </th>  <td>     8</td> \n",
       "</tr>\n",
       "<tr>\n",
       "  <th>Date:</th>            <td>Mon, 01 May 2023</td> <th>  Pseudo R-squ.:     </th>  <td>0.1793</td> \n",
       "</tr>\n",
       "<tr>\n",
       "  <th>Time:</th>                <td>17:10:12</td>     <th>  Log-Likelihood:    </th> <td> -76697.</td>\n",
       "</tr>\n",
       "<tr>\n",
       "  <th>converged:</th>             <td>True</td>       <th>  LL-Null:           </th> <td> -93453.</td>\n",
       "</tr>\n",
       "<tr>\n",
       "  <th>Covariance Type:</th>     <td>nonrobust</td>    <th>  LLR p-value:       </th>  <td> 0.000</td> \n",
       "</tr>\n",
       "</table>\n",
       "<table class=\"simpletable\">\n",
       "<tr>\n",
       "                    <td></td>                       <th>coef</th>     <th>std err</th>      <th>z</th>      <th>P>|z|</th>  <th>[0.025</th>    <th>0.975]</th>  \n",
       "</tr>\n",
       "<tr>\n",
       "  <th>Intercept</th>                             <td>   -2.9100</td> <td>    0.047</td> <td>  -62.165</td> <td> 0.000</td> <td>   -3.002</td> <td>   -2.818</td>\n",
       "</tr>\n",
       "<tr>\n",
       "  <th>C(AgeCategory)[T.Older Adult (60+)]</th>   <td>    1.1022</td> <td>    0.017</td> <td>   64.251</td> <td> 0.000</td> <td>    1.069</td> <td>    1.136</td>\n",
       "</tr>\n",
       "<tr>\n",
       "  <th>C(AgeCategory)[T.Young Adult (18-39)]</th> <td>   -1.3895</td> <td>    0.039</td> <td>  -35.509</td> <td> 0.000</td> <td>   -1.466</td> <td>   -1.313</td>\n",
       "</tr>\n",
       "<tr>\n",
       "  <th>C(Stroke)[T.No Strokes]</th>               <td>   -1.1852</td> <td>    0.022</td> <td>  -54.200</td> <td> 0.000</td> <td>   -1.228</td> <td>   -1.142</td>\n",
       "</tr>\n",
       "<tr>\n",
       "  <th>C(GenHealth)[T.Fair]</th>                  <td>    1.9786</td> <td>    0.030</td> <td>   65.944</td> <td> 0.000</td> <td>    1.920</td> <td>    2.037</td>\n",
       "</tr>\n",
       "<tr>\n",
       "  <th>C(GenHealth)[T.Good]</th>                  <td>    1.3218</td> <td>    0.029</td> <td>   46.088</td> <td> 0.000</td> <td>    1.266</td> <td>    1.378</td>\n",
       "</tr>\n",
       "<tr>\n",
       "  <th>C(GenHealth)[T.Poor]</th>                  <td>    2.5591</td> <td>    0.034</td> <td>   75.125</td> <td> 0.000</td> <td>    2.492</td> <td>    2.626</td>\n",
       "</tr>\n",
       "<tr>\n",
       "  <th>C(GenHealth)[T.Very good]</th>             <td>    0.5860</td> <td>    0.030</td> <td>   19.562</td> <td> 0.000</td> <td>    0.527</td> <td>    0.645</td>\n",
       "</tr>\n",
       "<tr>\n",
       "  <th>SleepTime</th>                             <td>   -0.0062</td> <td>    0.004</td> <td>   -1.482</td> <td> 0.138</td> <td>   -0.014</td> <td>    0.002</td>\n",
       "</tr>\n",
       "</table>"
      ],
      "text/plain": [
       "<class 'statsmodels.iolib.summary.Summary'>\n",
       "\"\"\"\n",
       "                           Logit Regression Results                           \n",
       "==============================================================================\n",
       "Dep. Variable:           HeartDisease   No. Observations:               319795\n",
       "Model:                          Logit   Df Residuals:                   319786\n",
       "Method:                           MLE   Df Model:                            8\n",
       "Date:                Mon, 01 May 2023   Pseudo R-squ.:                  0.1793\n",
       "Time:                        17:10:12   Log-Likelihood:                -76697.\n",
       "converged:                       True   LL-Null:                       -93453.\n",
       "Covariance Type:            nonrobust   LLR p-value:                     0.000\n",
       "=========================================================================================================\n",
       "                                            coef    std err          z      P>|z|      [0.025      0.975]\n",
       "---------------------------------------------------------------------------------------------------------\n",
       "Intercept                                -2.9100      0.047    -62.165      0.000      -3.002      -2.818\n",
       "C(AgeCategory)[T.Older Adult (60+)]       1.1022      0.017     64.251      0.000       1.069       1.136\n",
       "C(AgeCategory)[T.Young Adult (18-39)]    -1.3895      0.039    -35.509      0.000      -1.466      -1.313\n",
       "C(Stroke)[T.No Strokes]                  -1.1852      0.022    -54.200      0.000      -1.228      -1.142\n",
       "C(GenHealth)[T.Fair]                      1.9786      0.030     65.944      0.000       1.920       2.037\n",
       "C(GenHealth)[T.Good]                      1.3218      0.029     46.088      0.000       1.266       1.378\n",
       "C(GenHealth)[T.Poor]                      2.5591      0.034     75.125      0.000       2.492       2.626\n",
       "C(GenHealth)[T.Very good]                 0.5860      0.030     19.562      0.000       0.527       0.645\n",
       "SleepTime                                -0.0062      0.004     -1.482      0.138      -0.014       0.002\n",
       "=========================================================================================================\n",
       "\"\"\""
      ]
     },
     "execution_count": 56,
     "metadata": {},
     "output_type": "execute_result"
    }
   ],
   "source": [
    "model4 = logit(formula=\"\"\"HeartDisease ~ C(AgeCategory) + \n",
    "                                         C(Stroke) +\n",
    "                                         C(GenHealth) +\n",
    "                                         SleepTime\"\"\", data=heart2).fit()\n",
    "\n",
    "model4.summary()"
   ]
  },
  {
   "cell_type": "code",
   "execution_count": 68,
   "id": "cac3ad4c",
   "metadata": {},
   "outputs": [
    {
     "data": {
      "image/png": "[encoded data removed]",
      "text/plain": [
       "<Figure size 432x288 with 1 Axes>"
      ]
     },
     "metadata": {
      "needs_background": "light"
     },
     "output_type": "display_data"
    }
   ],
   "source": [
    "# Make predictions for Model #4\n",
    "heart2['pred_4'] = model4.predict(heart2)\n",
    "\n",
    "# Generate fpr, tpr, and thresholds for ROC curve\n",
    "fpr, tpr, thresholds = skm.roc_curve(heart2['HeartDisease'], heart2['pred_4'])\n",
    "\n",
    "# Display ROC Curve w/ AUC Score: Model4\n",
    "plot_roc(fpr,tpr, title='Model 4')"
   ]
  },
  {
   "cell_type": "code",
   "execution_count": 58,
   "id": "b7304733",
   "metadata": {},
   "outputs": [
    {
     "data": {
      "text/plain": [
       "0    0.672636\n",
       "dtype: float64"
      ]
     },
     "execution_count": 58,
     "metadata": {},
     "output_type": "execute_result"
    }
   ],
   "source": [
    "model4.predict({'SleepTime':5, 'AgeCategory':'Older Adult (60+)', 'Stroke':'Had Stroke(s)', 'GenHealth':'Poor'})"
   ]
  },
  {
   "cell_type": "markdown",
   "id": "9c199f6e",
   "metadata": {},
   "source": [
    "#### Model #5\n",
    "* <b>Smoking vs Stroke</b>\n",
    "    * Two coefficients are not statistically significant. This term can be removed from future models.\n",
    "* AgeCategory\n",
    "* Stroke\n",
    "* GenHealth\n",
    "\n",
    "#### Interpretation: \n",
    "After adding the interaction term, Smoking_Vs_Stroke, the model becomes difficult to interpret due to the lack of samples needed to compute performance metrics. Therefore, this variable can be removed. This model predicts that the probabilty of Heart Disease for an adult between the ages of 40 and 59, in poor health, with no history of strokes or smoking is about 19%.\n",
    "\n",
    "AUC Score: 81%"
   ]
  },
  {
   "cell_type": "code",
   "execution_count": 59,
   "id": "493fd578",
   "metadata": {},
   "outputs": [
    {
     "name": "stdout",
     "output_type": "stream",
     "text": [
      "Warning: Maximum number of iterations has been exceeded.\n",
      "         Current function value: 0.238402\n",
      "         Iterations: 35\n"
     ]
    },
    {
     "name": "stderr",
     "output_type": "stream",
     "text": [
      "C:\\Users\\mmaje\\anaconda3\\lib\\site-packages\\statsmodels\\base\\model.py:566: ConvergenceWarning: Maximum Likelihood optimization failed to converge. Check mle_retvals\n",
      "  warnings.warn(\"Maximum Likelihood optimization failed to \"\n"
     ]
    },
    {
     "data": {
      "text/html": [
       "<table class=\"simpletable\">\n",
       "<caption>Logit Regression Results</caption>\n",
       "<tr>\n",
       "  <th>Dep. Variable:</th>     <td>HeartDisease</td>   <th>  No. Observations:  </th>  <td>319795</td> \n",
       "</tr>\n",
       "<tr>\n",
       "  <th>Model:</th>                 <td>Logit</td>      <th>  Df Residuals:      </th>  <td>319784</td> \n",
       "</tr>\n",
       "<tr>\n",
       "  <th>Method:</th>                 <td>MLE</td>       <th>  Df Model:          </th>  <td>    10</td> \n",
       "</tr>\n",
       "<tr>\n",
       "  <th>Date:</th>            <td>Mon, 01 May 2023</td> <th>  Pseudo R-squ.:     </th>  <td>0.1842</td> \n",
       "</tr>\n",
       "<tr>\n",
       "  <th>Time:</th>                <td>17:10:22</td>     <th>  Log-Likelihood:    </th> <td> -76240.</td>\n",
       "</tr>\n",
       "<tr>\n",
       "  <th>converged:</th>             <td>False</td>      <th>  LL-Null:           </th> <td> -93453.</td>\n",
       "</tr>\n",
       "<tr>\n",
       "  <th>Covariance Type:</th>     <td>nonrobust</td>    <th>  LLR p-value:       </th>  <td> 0.000</td> \n",
       "</tr>\n",
       "</table>\n",
       "<table class=\"simpletable\">\n",
       "<tr>\n",
       "                        <td></td>                           <th>coef</th>     <th>std err</th>      <th>z</th>      <th>P>|z|</th>  <th>[0.025</th>    <th>0.975]</th>  \n",
       "</tr>\n",
       "<tr>\n",
       "  <th>Intercept</th>                                     <td>   -3.0429</td> <td>    0.044</td> <td>  -69.521</td> <td> 0.000</td> <td>   -3.129</td> <td>   -2.957</td>\n",
       "</tr>\n",
       "<tr>\n",
       "  <th>C(AgeCategory)[T.Older Adult (60+)]</th>           <td>    1.0964</td> <td>    0.017</td> <td>   64.164</td> <td> 0.000</td> <td>    1.063</td> <td>    1.130</td>\n",
       "</tr>\n",
       "<tr>\n",
       "  <th>C(AgeCategory)[T.Young Adult (18-39)]</th>         <td>   -1.3509</td> <td>    0.039</td> <td>  -34.480</td> <td> 0.000</td> <td>   -1.428</td> <td>   -1.274</td>\n",
       "</tr>\n",
       "<tr>\n",
       "  <th>C(Stroke)[T.No Strokes]</th>                       <td>   -0.6991</td> <td>      nan</td> <td>      nan</td> <td>   nan</td> <td>      nan</td> <td>      nan</td>\n",
       "</tr>\n",
       "<tr>\n",
       "  <th>C(GenHealth)[T.Fair]</th>                          <td>    1.8995</td> <td>    0.030</td> <td>   63.067</td> <td> 0.000</td> <td>    1.840</td> <td>    1.959</td>\n",
       "</tr>\n",
       "<tr>\n",
       "  <th>C(GenHealth)[T.Good]</th>                          <td>    1.2674</td> <td>    0.029</td> <td>   44.068</td> <td> 0.000</td> <td>    1.211</td> <td>    1.324</td>\n",
       "</tr>\n",
       "<tr>\n",
       "  <th>C(GenHealth)[T.Poor]</th>                          <td>    2.4558</td> <td>    0.034</td> <td>   71.788</td> <td> 0.000</td> <td>    2.389</td> <td>    2.523</td>\n",
       "</tr>\n",
       "<tr>\n",
       "  <th>C(GenHealth)[T.Very good]</th>                     <td>    0.5581</td> <td>    0.030</td> <td>   18.599</td> <td> 0.000</td> <td>    0.499</td> <td>    0.617</td>\n",
       "</tr>\n",
       "<tr>\n",
       "  <th>C(Smoking_vs_Stroke)[T.Non-Smoker_No Strokes]</th> <td>   -0.5642</td> <td>      nan</td> <td>      nan</td> <td>   nan</td> <td>      nan</td> <td>      nan</td>\n",
       "</tr>\n",
       "<tr>\n",
       "  <th>C(Smoking_vs_Stroke)[T.Smoker_Had Stroke(s)]</th>  <td>    0.2727</td> <td>    0.041</td> <td>    6.581</td> <td> 0.000</td> <td>    0.192</td> <td>    0.354</td>\n",
       "</tr>\n",
       "<tr>\n",
       "  <th>C(Smoking_vs_Stroke)[T.Smoker_No Strokes]</th>     <td>   -0.1336</td> <td>      nan</td> <td>      nan</td> <td>   nan</td> <td>      nan</td> <td>      nan</td>\n",
       "</tr>\n",
       "</table>"
      ],
      "text/plain": [
       "<class 'statsmodels.iolib.summary.Summary'>\n",
       "\"\"\"\n",
       "                           Logit Regression Results                           \n",
       "==============================================================================\n",
       "Dep. Variable:           HeartDisease   No. Observations:               319795\n",
       "Model:                          Logit   Df Residuals:                   319784\n",
       "Method:                           MLE   Df Model:                           10\n",
       "Date:                Mon, 01 May 2023   Pseudo R-squ.:                  0.1842\n",
       "Time:                        17:10:22   Log-Likelihood:                -76240.\n",
       "converged:                      False   LL-Null:                       -93453.\n",
       "Covariance Type:            nonrobust   LLR p-value:                     0.000\n",
       "=================================================================================================================\n",
       "                                                    coef    std err          z      P>|z|      [0.025      0.975]\n",
       "-----------------------------------------------------------------------------------------------------------------\n",
       "Intercept                                        -3.0429      0.044    -69.521      0.000      -3.129      -2.957\n",
       "C(AgeCategory)[T.Older Adult (60+)]               1.0964      0.017     64.164      0.000       1.063       1.130\n",
       "C(AgeCategory)[T.Young Adult (18-39)]            -1.3509      0.039    -34.480      0.000      -1.428      -1.274\n",
       "C(Stroke)[T.No Strokes]                          -0.6991        nan        nan        nan         nan         nan\n",
       "C(GenHealth)[T.Fair]                              1.8995      0.030     63.067      0.000       1.840       1.959\n",
       "C(GenHealth)[T.Good]                              1.2674      0.029     44.068      0.000       1.211       1.324\n",
       "C(GenHealth)[T.Poor]                              2.4558      0.034     71.788      0.000       2.389       2.523\n",
       "C(GenHealth)[T.Very good]                         0.5581      0.030     18.599      0.000       0.499       0.617\n",
       "C(Smoking_vs_Stroke)[T.Non-Smoker_No Strokes]    -0.5642        nan        nan        nan         nan         nan\n",
       "C(Smoking_vs_Stroke)[T.Smoker_Had Stroke(s)]      0.2727      0.041      6.581      0.000       0.192       0.354\n",
       "C(Smoking_vs_Stroke)[T.Smoker_No Strokes]        -0.1336        nan        nan        nan         nan         nan\n",
       "=================================================================================================================\n",
       "\"\"\""
      ]
     },
     "execution_count": 59,
     "metadata": {},
     "output_type": "execute_result"
    }
   ],
   "source": [
    "model5 = logit(formula=\"\"\"HeartDisease ~ C(AgeCategory) + \n",
    "                                         C(Stroke) +\n",
    "                                         C(GenHealth) +\n",
    "                                         C(Smoking_vs_Stroke)\"\"\", data=heart2).fit()\n",
    "\n",
    "model5.summary()"
   ]
  },
  {
   "cell_type": "code",
   "execution_count": 69,
   "id": "84010551",
   "metadata": {},
   "outputs": [
    {
     "data": {
      "image/png": "[encoded data removed]",
      "text/plain": [
       "<Figure size 432x288 with 1 Axes>"
      ]
     },
     "metadata": {
      "needs_background": "light"
     },
     "output_type": "display_data"
    }
   ],
   "source": [
    "# Make predictions for Model #5\n",
    "heart2['pred_5'] = model5.predict(heart2)\n",
    "\n",
    "# Generate fpr, tpr, and thresholds for ROC curve\n",
    "fpr, tpr, thresholds = skm.roc_curve(heart2['HeartDisease'], heart2['pred_5'])\n",
    "    \n",
    "# Display ROC Curve w/ AUC Score: Model5\n",
    "plot_roc(fpr,tpr, title='Model 5')    "
   ]
  },
  {
   "cell_type": "code",
   "execution_count": 61,
   "id": "c8d81594",
   "metadata": {},
   "outputs": [
    {
     "data": {
      "text/plain": [
       "0    0.194688\n",
       "dtype: float64"
      ]
     },
     "execution_count": 61,
     "metadata": {},
     "output_type": "execute_result"
    }
   ],
   "source": [
    "model5.predict({'Stroke':'No Strokes', 'GenHealth':'Poor', 'AgeCategory':'Adult (40-59)', 'Smoking_vs_Stroke':'Smoker_No Strokes'})"
   ]
  },
  {
   "cell_type": "markdown",
   "id": "ff8b4b69",
   "metadata": {},
   "source": [
    "#### Model #6\n",
    "* <b>BMI vs Stroke</b>\n",
    "    * Six coefficients are not statistically significant. This term can be removed from future models.\n",
    "* AgeCategory\n",
    "* Stroke\n",
    "* GenHealth\n",
    "\n",
    "#### Interpretation:\n",
    "After adding the interaction term, BMI_Vs_Stroke, severaly coefficients become insignificant to the model. Therefore, this variable can be removed. This model predicts that the probabilty of Heart Disease for an adult between the ages of 40 and 59, in good health, obese, with no history of strokes is about 6%.\n",
    "\n",
    "AUC Score: 81%"
   ]
  },
  {
   "cell_type": "code",
   "execution_count": 62,
   "id": "0f51d535",
   "metadata": {},
   "outputs": [
    {
     "name": "stdout",
     "output_type": "stream",
     "text": [
      "Warning: Maximum number of iterations has been exceeded.\n",
      "         Current function value: 0.239487\n",
      "         Iterations: 35\n"
     ]
    },
    {
     "name": "stderr",
     "output_type": "stream",
     "text": [
      "C:\\Users\\mmaje\\anaconda3\\lib\\site-packages\\statsmodels\\base\\model.py:566: ConvergenceWarning: Maximum Likelihood optimization failed to converge. Check mle_retvals\n",
      "  warnings.warn(\"Maximum Likelihood optimization failed to \"\n"
     ]
    },
    {
     "data": {
      "text/html": [
       "<table class=\"simpletable\">\n",
       "<caption>Logit Regression Results</caption>\n",
       "<tr>\n",
       "  <th>Dep. Variable:</th>     <td>HeartDisease</td>   <th>  No. Observations:  </th>  <td>319795</td> \n",
       "</tr>\n",
       "<tr>\n",
       "  <th>Model:</th>                 <td>Logit</td>      <th>  Df Residuals:      </th>  <td>319780</td> \n",
       "</tr>\n",
       "<tr>\n",
       "  <th>Method:</th>                 <td>MLE</td>       <th>  Df Model:          </th>  <td>    14</td> \n",
       "</tr>\n",
       "<tr>\n",
       "  <th>Date:</th>            <td>Mon, 01 May 2023</td> <th>  Pseudo R-squ.:     </th>  <td>0.1805</td> \n",
       "</tr>\n",
       "<tr>\n",
       "  <th>Time:</th>                <td>17:10:34</td>     <th>  Log-Likelihood:    </th> <td> -76587.</td>\n",
       "</tr>\n",
       "<tr>\n",
       "  <th>converged:</th>             <td>False</td>      <th>  LL-Null:           </th> <td> -93453.</td>\n",
       "</tr>\n",
       "<tr>\n",
       "  <th>Covariance Type:</th>     <td>nonrobust</td>    <th>  LLR p-value:       </th>  <td> 0.000</td> \n",
       "</tr>\n",
       "</table>\n",
       "<table class=\"simpletable\">\n",
       "<tr>\n",
       "                        <td></td>                           <th>coef</th>     <th>std err</th>      <th>z</th>      <th>P>|z|</th>  <th>[0.025</th>    <th>0.975]</th>  \n",
       "</tr>\n",
       "<tr>\n",
       "  <th>Intercept</th>                                     <td>   -3.0658</td> <td>    0.051</td> <td>  -60.045</td> <td> 0.000</td> <td>   -3.166</td> <td>   -2.966</td>\n",
       "</tr>\n",
       "<tr>\n",
       "  <th>C(AgeCategory)[T.Older Adult (60+)]</th>           <td>    1.1182</td> <td>    0.017</td> <td>   65.227</td> <td> 0.000</td> <td>    1.085</td> <td>    1.152</td>\n",
       "</tr>\n",
       "<tr>\n",
       "  <th>C(AgeCategory)[T.Young Adult (18-39)]</th>         <td>   -1.3636</td> <td>    0.039</td> <td>  -34.809</td> <td> 0.000</td> <td>   -1.440</td> <td>   -1.287</td>\n",
       "</tr>\n",
       "<tr>\n",
       "  <th>C(Stroke)[T.No Strokes]</th>                       <td>   -0.9182</td> <td> 1.38e+04</td> <td>-6.64e-05</td> <td> 1.000</td> <td>-2.71e+04</td> <td> 2.71e+04</td>\n",
       "</tr>\n",
       "<tr>\n",
       "  <th>C(GenHealth)[T.Fair]</th>                          <td>    1.9349</td> <td>    0.030</td> <td>   63.816</td> <td> 0.000</td> <td>    1.876</td> <td>    1.994</td>\n",
       "</tr>\n",
       "<tr>\n",
       "  <th>C(GenHealth)[T.Good]</th>                          <td>    1.2795</td> <td>    0.029</td> <td>   44.231</td> <td> 0.000</td> <td>    1.223</td> <td>    1.336</td>\n",
       "</tr>\n",
       "<tr>\n",
       "  <th>C(GenHealth)[T.Poor]</th>                          <td>    2.5287</td> <td>    0.034</td> <td>   73.686</td> <td> 0.000</td> <td>    2.461</td> <td>    2.596</td>\n",
       "</tr>\n",
       "<tr>\n",
       "  <th>C(GenHealth)[T.Very good]</th>                     <td>    0.5573</td> <td>    0.030</td> <td>   18.547</td> <td> 0.000</td> <td>    0.498</td> <td>    0.616</td>\n",
       "</tr>\n",
       "<tr>\n",
       "  <th>C(BMI_vs_Stroke)[T.Healthy Weight_No Strokes]</th> <td>   -0.2905</td> <td> 1.38e+04</td> <td> -2.1e-05</td> <td> 1.000</td> <td>-2.71e+04</td> <td> 2.71e+04</td>\n",
       "</tr>\n",
       "<tr>\n",
       "  <th>C(BMI_vs_Stroke)[T.Obese_Had Stroke(s)]</th>       <td>    0.2359</td> <td>    0.053</td> <td>    4.455</td> <td> 0.000</td> <td>    0.132</td> <td>    0.340</td>\n",
       "</tr>\n",
       "<tr>\n",
       "  <th>C(BMI_vs_Stroke)[T.Obese_No Strokes]</th>          <td>   -0.0644</td> <td> 1.38e+04</td> <td>-4.66e-06</td> <td> 1.000</td> <td>-2.71e+04</td> <td> 2.71e+04</td>\n",
       "</tr>\n",
       "<tr>\n",
       "  <th>C(BMI_vs_Stroke)[T.Overweight_Had Stroke(s)]</th>  <td>    0.1315</td> <td>    0.054</td> <td>    2.453</td> <td> 0.014</td> <td>    0.026</td> <td>    0.236</td>\n",
       "</tr>\n",
       "<tr>\n",
       "  <th>C(BMI_vs_Stroke)[T.Overweight_No Strokes]</th>     <td>   -0.0812</td> <td> 1.38e+04</td> <td>-5.88e-06</td> <td> 1.000</td> <td>-2.71e+04</td> <td> 2.71e+04</td>\n",
       "</tr>\n",
       "<tr>\n",
       "  <th>C(BMI_vs_Stroke)[T.Underweight_Had Stroke(s)]</th> <td>   -0.0019</td> <td>    0.147</td> <td>   -0.013</td> <td> 0.989</td> <td>   -0.289</td> <td>    0.285</td>\n",
       "</tr>\n",
       "<tr>\n",
       "  <th>C(BMI_vs_Stroke)[T.Underweight_No Strokes]</th>    <td>   -0.4817</td> <td> 1.38e+04</td> <td>-3.49e-05</td> <td> 1.000</td> <td>-2.71e+04</td> <td> 2.71e+04</td>\n",
       "</tr>\n",
       "</table>"
      ],
      "text/plain": [
       "<class 'statsmodels.iolib.summary.Summary'>\n",
       "\"\"\"\n",
       "                           Logit Regression Results                           \n",
       "==============================================================================\n",
       "Dep. Variable:           HeartDisease   No. Observations:               319795\n",
       "Model:                          Logit   Df Residuals:                   319780\n",
       "Method:                           MLE   Df Model:                           14\n",
       "Date:                Mon, 01 May 2023   Pseudo R-squ.:                  0.1805\n",
       "Time:                        17:10:34   Log-Likelihood:                -76587.\n",
       "converged:                      False   LL-Null:                       -93453.\n",
       "Covariance Type:            nonrobust   LLR p-value:                     0.000\n",
       "=================================================================================================================\n",
       "                                                    coef    std err          z      P>|z|      [0.025      0.975]\n",
       "-----------------------------------------------------------------------------------------------------------------\n",
       "Intercept                                        -3.0658      0.051    -60.045      0.000      -3.166      -2.966\n",
       "C(AgeCategory)[T.Older Adult (60+)]               1.1182      0.017     65.227      0.000       1.085       1.152\n",
       "C(AgeCategory)[T.Young Adult (18-39)]            -1.3636      0.039    -34.809      0.000      -1.440      -1.287\n",
       "C(Stroke)[T.No Strokes]                          -0.9182   1.38e+04  -6.64e-05      1.000   -2.71e+04    2.71e+04\n",
       "C(GenHealth)[T.Fair]                              1.9349      0.030     63.816      0.000       1.876       1.994\n",
       "C(GenHealth)[T.Good]                              1.2795      0.029     44.231      0.000       1.223       1.336\n",
       "C(GenHealth)[T.Poor]                              2.5287      0.034     73.686      0.000       2.461       2.596\n",
       "C(GenHealth)[T.Very good]                         0.5573      0.030     18.547      0.000       0.498       0.616\n",
       "C(BMI_vs_Stroke)[T.Healthy Weight_No Strokes]    -0.2905   1.38e+04   -2.1e-05      1.000   -2.71e+04    2.71e+04\n",
       "C(BMI_vs_Stroke)[T.Obese_Had Stroke(s)]           0.2359      0.053      4.455      0.000       0.132       0.340\n",
       "C(BMI_vs_Stroke)[T.Obese_No Strokes]             -0.0644   1.38e+04  -4.66e-06      1.000   -2.71e+04    2.71e+04\n",
       "C(BMI_vs_Stroke)[T.Overweight_Had Stroke(s)]      0.1315      0.054      2.453      0.014       0.026       0.236\n",
       "C(BMI_vs_Stroke)[T.Overweight_No Strokes]        -0.0812   1.38e+04  -5.88e-06      1.000   -2.71e+04    2.71e+04\n",
       "C(BMI_vs_Stroke)[T.Underweight_Had Stroke(s)]    -0.0019      0.147     -0.013      0.989      -0.289       0.285\n",
       "C(BMI_vs_Stroke)[T.Underweight_No Strokes]       -0.4817   1.38e+04  -3.49e-05      1.000   -2.71e+04    2.71e+04\n",
       "=================================================================================================================\n",
       "\"\"\""
      ]
     },
     "execution_count": 62,
     "metadata": {},
     "output_type": "execute_result"
    }
   ],
   "source": [
    "model6 = logit(formula=\"\"\"HeartDisease ~ C(AgeCategory) + \n",
    "                                         C(Stroke) +\n",
    "                                         C(GenHealth) +\n",
    "                                         C(BMI_vs_Stroke)\"\"\", data=heart2).fit()\n",
    "\n",
    "model6.summary()"
   ]
  },
  {
   "cell_type": "code",
   "execution_count": 70,
   "id": "0cb463a5",
   "metadata": {},
   "outputs": [
    {
     "data": {
      "image/png": "[encoded data removed]",
      "text/plain": [
       "<Figure size 432x288 with 1 Axes>"
      ]
     },
     "metadata": {
      "needs_background": "light"
     },
     "output_type": "display_data"
    }
   ],
   "source": [
    "# Make predictions for Model #6\n",
    "heart2['pred_6'] = model6.predict(heart2)\n",
    "\n",
    "# Generate fpr, tpr, and thresholds for ROC curve\n",
    "fpr, tpr, thresholds = skm.roc_curve(heart2['HeartDisease'], heart2['pred_6'])\n",
    "    \n",
    "# Display ROC Curve w/ AUC Score: Model6\n",
    "plot_roc(fpr,tpr, title='Model 6')    "
   ]
  },
  {
   "cell_type": "code",
   "execution_count": 64,
   "id": "d952a91d",
   "metadata": {},
   "outputs": [
    {
     "data": {
      "text/plain": [
       "0    0.059026\n",
       "dtype: float64"
      ]
     },
     "execution_count": 64,
     "metadata": {},
     "output_type": "execute_result"
    }
   ],
   "source": [
    "model6.predict({'Stroke':'No Strokes', 'GenHealth':'Good', 'AgeCategory':'Adult (40-59)', 'BMI_vs_Stroke':'Obese_No Strokes'})"
   ]
  },
  {
   "cell_type": "markdown",
   "id": "02d67d16",
   "metadata": {},
   "source": [
    "## Champion Model: Model #2: AUC 81%\n",
    "\n",
    "### Interpretation: \n",
    "While other models also had an AUC score of 81%, this model does not contain extra information that may complicate the interpretability of the model. Additionally, Model #2 contains variables that are the best predictors of Heart Disease in the data. AgeCategory, Stroke, and GenHealth data are both easy to understand and interpret to patients, doctors, etc. This model was chosen because it does the best job predicting Heart Disease without sacraficing simplicity and interpretability. "
   ]
  },
  {
   "cell_type": "code",
   "execution_count": 71,
   "id": "8513182b",
   "metadata": {},
   "outputs": [
    {
     "data": {
      "text/html": [
       "<div>\n",
       "<style scoped>\n",
       "    .dataframe tbody tr th:only-of-type {\n",
       "        vertical-align: middle;\n",
       "    }\n",
       "\n",
       "    .dataframe tbody tr th {\n",
       "        vertical-align: top;\n",
       "    }\n",
       "\n",
       "    .dataframe thead th {\n",
       "        text-align: right;\n",
       "    }\n",
       "</style>\n",
       "<table border=\"1\" class=\"dataframe\">\n",
       "  <thead>\n",
       "    <tr style=\"text-align: right;\">\n",
       "      <th>HeartDisease</th>\n",
       "      <th>0</th>\n",
       "      <th>1</th>\n",
       "    </tr>\n",
       "    <tr>\n",
       "      <th>GenHealth</th>\n",
       "      <th></th>\n",
       "      <th></th>\n",
       "    </tr>\n",
       "  </thead>\n",
       "  <tbody>\n",
       "    <tr>\n",
       "      <th>Excellent</th>\n",
       "      <td>0.977559</td>\n",
       "      <td>0.022441</td>\n",
       "    </tr>\n",
       "    <tr>\n",
       "      <th>Fair</th>\n",
       "      <td>0.795715</td>\n",
       "      <td>0.204285</td>\n",
       "    </tr>\n",
       "    <tr>\n",
       "      <th>Good</th>\n",
       "      <td>0.897368</td>\n",
       "      <td>0.102632</td>\n",
       "    </tr>\n",
       "    <tr>\n",
       "      <th>Poor</th>\n",
       "      <td>0.658960</td>\n",
       "      <td>0.341040</td>\n",
       "    </tr>\n",
       "    <tr>\n",
       "      <th>Very good</th>\n",
       "      <td>0.952739</td>\n",
       "      <td>0.047261</td>\n",
       "    </tr>\n",
       "  </tbody>\n",
       "</table>\n",
       "</div>"
      ],
      "text/plain": [
       "HeartDisease         0         1\n",
       "GenHealth                       \n",
       "Excellent     0.977559  0.022441\n",
       "Fair          0.795715  0.204285\n",
       "Good          0.897368  0.102632\n",
       "Poor          0.658960  0.341040\n",
       "Very good     0.952739  0.047261"
      ]
     },
     "execution_count": 71,
     "metadata": {},
     "output_type": "execute_result"
    }
   ],
   "source": [
    "pd.crosstab(heart2['GenHealth'], heart2['HeartDisease'], normalize='index')"
   ]
  },
  {
   "cell_type": "code",
   "execution_count": null,
   "id": "44746de3",
   "metadata": {},
   "outputs": [],
   "source": []
  }
 ],
 "metadata": {
  "kernelspec": {
   "display_name": "Python 3 (ipykernel)",
   "language": "python",
   "name": "python3"
  },
  "language_info": {
   "codemirror_mode": {
    "name": "ipython",
    "version": 3
   },
   "file_extension": ".py",
   "mimetype": "text/x-python",
   "name": "python",
   "nbconvert_exporter": "python",
   "pygments_lexer": "ipython3",
   "version": "3.8.5"
  }
 },
 "nbformat": 4,
 "nbformat_minor": 5
}
